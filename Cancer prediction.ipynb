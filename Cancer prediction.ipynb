{
 "cells": [
  {
   "cell_type": "markdown",
   "metadata": {},
   "source": [
    "# Cancer rates prediction based on data from USA goverment agency CDC (center for disease control)\n",
    "\n",
    "## Aims:\n",
    "#### +++ Exploring and visualising data\n",
    "#### +++ Choosing the best parameters for OLS Regression model\n",
    "#### +++ Evaluating chosen model"
   ]
  },
  {
   "cell_type": "code",
   "execution_count": 1,
   "metadata": {},
   "outputs": [],
   "source": [
    "import pandas as pd\n",
    "import numpy as np\n",
    "import matplotlib.pyplot as plt\n",
    "from scipy import stats\n",
    "import seaborn as sns\n",
    "import re\n",
    "import sklearn.linear_model as lm\n",
    "from sklearn import datasets, linear_model\n",
    "from sklearn.preprocessing import PolynomialFeatures,StandardScaler,MinMaxScaler,PowerTransformer\n",
    "from sklearn.pipeline import make_pipeline\n",
    "from sklearn.model_selection import GridSearchCV,train_test_split,TimeSeriesSplit\n",
    "from statsmodels.tsa.arima_model import ARIMA\n",
    "from sklearn import metrics\n",
    "from statsmodels.stats.anova import anova_lm\n",
    "from statsmodels.stats.multicomp import (pairwise_tukeyhsd, MultiComparison)\n",
    "import warnings\n",
    "import itertools"
   ]
  },
  {
   "cell_type": "markdown",
   "metadata": {},
   "source": [
    "### Reading data and first look"
   ]
  },
  {
   "cell_type": "code",
   "execution_count": 2,
   "metadata": {},
   "outputs": [],
   "source": [
    "data = pd.read_csv(r\"C:\\Users\\szklarnia\\Desktop\\datascience\\dane\\cancer_reg.csv\")\n"
   ]
  },
  {
   "cell_type": "code",
   "execution_count": 14,
   "metadata": {},
   "outputs": [
    {
     "data": {
      "text/html": [
       "<div>\n",
       "<style scoped>\n",
       "    .dataframe tbody tr th:only-of-type {\n",
       "        vertical-align: middle;\n",
       "    }\n",
       "\n",
       "    .dataframe tbody tr th {\n",
       "        vertical-align: top;\n",
       "    }\n",
       "\n",
       "    .dataframe thead th {\n",
       "        text-align: right;\n",
       "    }\n",
       "</style>\n",
       "<table border=\"1\" class=\"dataframe\">\n",
       "  <thead>\n",
       "    <tr style=\"text-align: right;\">\n",
       "      <th></th>\n",
       "      <th>avganncount</th>\n",
       "      <th>avgdeathsperyear</th>\n",
       "      <th>target_deathrate</th>\n",
       "      <th>incidencerate</th>\n",
       "      <th>medincome</th>\n",
       "      <th>popest2015</th>\n",
       "      <th>povertypercent</th>\n",
       "      <th>studypercap</th>\n",
       "      <th>binnedinc</th>\n",
       "      <th>medianage</th>\n",
       "      <th>...</th>\n",
       "      <th>pctprivatecoveragealone</th>\n",
       "      <th>pctempprivcoverage</th>\n",
       "      <th>pctpubliccoverage</th>\n",
       "      <th>pctpubliccoveragealone</th>\n",
       "      <th>pctwhite</th>\n",
       "      <th>pctblack</th>\n",
       "      <th>pctasian</th>\n",
       "      <th>pctotherrace</th>\n",
       "      <th>pctmarriedhouseholds</th>\n",
       "      <th>birthrate</th>\n",
       "    </tr>\n",
       "  </thead>\n",
       "  <tbody>\n",
       "    <tr>\n",
       "      <th>0</th>\n",
       "      <td>1397.000000</td>\n",
       "      <td>469</td>\n",
       "      <td>164.9</td>\n",
       "      <td>489.800000</td>\n",
       "      <td>61898</td>\n",
       "      <td>260131</td>\n",
       "      <td>11.2</td>\n",
       "      <td>499.748204</td>\n",
       "      <td>(61494.5, 125635]</td>\n",
       "      <td>39.3</td>\n",
       "      <td>...</td>\n",
       "      <td>NaN</td>\n",
       "      <td>41.6</td>\n",
       "      <td>32.9</td>\n",
       "      <td>14.0</td>\n",
       "      <td>81.780529</td>\n",
       "      <td>2.594728</td>\n",
       "      <td>4.821857</td>\n",
       "      <td>1.843479</td>\n",
       "      <td>52.856076</td>\n",
       "      <td>6.118831</td>\n",
       "    </tr>\n",
       "    <tr>\n",
       "      <th>1</th>\n",
       "      <td>173.000000</td>\n",
       "      <td>70</td>\n",
       "      <td>161.3</td>\n",
       "      <td>411.600000</td>\n",
       "      <td>48127</td>\n",
       "      <td>43269</td>\n",
       "      <td>18.6</td>\n",
       "      <td>23.111234</td>\n",
       "      <td>(48021.6, 51046.4]</td>\n",
       "      <td>33.0</td>\n",
       "      <td>...</td>\n",
       "      <td>53.8</td>\n",
       "      <td>43.6</td>\n",
       "      <td>31.1</td>\n",
       "      <td>15.3</td>\n",
       "      <td>89.228509</td>\n",
       "      <td>0.969102</td>\n",
       "      <td>2.246233</td>\n",
       "      <td>3.741352</td>\n",
       "      <td>45.372500</td>\n",
       "      <td>4.333096</td>\n",
       "    </tr>\n",
       "    <tr>\n",
       "      <th>2</th>\n",
       "      <td>102.000000</td>\n",
       "      <td>50</td>\n",
       "      <td>174.7</td>\n",
       "      <td>349.700000</td>\n",
       "      <td>49348</td>\n",
       "      <td>21026</td>\n",
       "      <td>14.6</td>\n",
       "      <td>47.560164</td>\n",
       "      <td>(48021.6, 51046.4]</td>\n",
       "      <td>45.0</td>\n",
       "      <td>...</td>\n",
       "      <td>43.5</td>\n",
       "      <td>34.9</td>\n",
       "      <td>42.1</td>\n",
       "      <td>21.1</td>\n",
       "      <td>90.922190</td>\n",
       "      <td>0.739673</td>\n",
       "      <td>0.465898</td>\n",
       "      <td>2.747358</td>\n",
       "      <td>54.444868</td>\n",
       "      <td>3.729488</td>\n",
       "    </tr>\n",
       "    <tr>\n",
       "      <th>3</th>\n",
       "      <td>427.000000</td>\n",
       "      <td>202</td>\n",
       "      <td>194.8</td>\n",
       "      <td>430.400000</td>\n",
       "      <td>44243</td>\n",
       "      <td>75882</td>\n",
       "      <td>17.1</td>\n",
       "      <td>342.637253</td>\n",
       "      <td>(42724.4, 45201]</td>\n",
       "      <td>42.8</td>\n",
       "      <td>...</td>\n",
       "      <td>40.3</td>\n",
       "      <td>35.0</td>\n",
       "      <td>45.3</td>\n",
       "      <td>25.0</td>\n",
       "      <td>91.744686</td>\n",
       "      <td>0.782626</td>\n",
       "      <td>1.161359</td>\n",
       "      <td>1.362643</td>\n",
       "      <td>51.021514</td>\n",
       "      <td>4.603841</td>\n",
       "    </tr>\n",
       "    <tr>\n",
       "      <th>4</th>\n",
       "      <td>57.000000</td>\n",
       "      <td>26</td>\n",
       "      <td>144.4</td>\n",
       "      <td>350.100000</td>\n",
       "      <td>49955</td>\n",
       "      <td>10321</td>\n",
       "      <td>12.5</td>\n",
       "      <td>0.000000</td>\n",
       "      <td>(48021.6, 51046.4]</td>\n",
       "      <td>48.3</td>\n",
       "      <td>...</td>\n",
       "      <td>43.9</td>\n",
       "      <td>35.1</td>\n",
       "      <td>44.0</td>\n",
       "      <td>22.7</td>\n",
       "      <td>94.104024</td>\n",
       "      <td>0.270192</td>\n",
       "      <td>0.665830</td>\n",
       "      <td>0.492135</td>\n",
       "      <td>54.027460</td>\n",
       "      <td>6.796657</td>\n",
       "    </tr>\n",
       "    <tr>\n",
       "      <th>...</th>\n",
       "      <td>...</td>\n",
       "      <td>...</td>\n",
       "      <td>...</td>\n",
       "      <td>...</td>\n",
       "      <td>...</td>\n",
       "      <td>...</td>\n",
       "      <td>...</td>\n",
       "      <td>...</td>\n",
       "      <td>...</td>\n",
       "      <td>...</td>\n",
       "      <td>...</td>\n",
       "      <td>...</td>\n",
       "      <td>...</td>\n",
       "      <td>...</td>\n",
       "      <td>...</td>\n",
       "      <td>...</td>\n",
       "      <td>...</td>\n",
       "      <td>...</td>\n",
       "      <td>...</td>\n",
       "      <td>...</td>\n",
       "      <td>...</td>\n",
       "    </tr>\n",
       "    <tr>\n",
       "      <th>3042</th>\n",
       "      <td>1962.667684</td>\n",
       "      <td>15</td>\n",
       "      <td>149.6</td>\n",
       "      <td>453.549422</td>\n",
       "      <td>46961</td>\n",
       "      <td>6343</td>\n",
       "      <td>12.4</td>\n",
       "      <td>0.000000</td>\n",
       "      <td>(45201, 48021.6]</td>\n",
       "      <td>44.2</td>\n",
       "      <td>...</td>\n",
       "      <td>54.9</td>\n",
       "      <td>44.6</td>\n",
       "      <td>31.7</td>\n",
       "      <td>13.2</td>\n",
       "      <td>90.280811</td>\n",
       "      <td>3.837754</td>\n",
       "      <td>0.327613</td>\n",
       "      <td>1.700468</td>\n",
       "      <td>51.063830</td>\n",
       "      <td>7.773512</td>\n",
       "    </tr>\n",
       "    <tr>\n",
       "      <th>3043</th>\n",
       "      <td>1962.667684</td>\n",
       "      <td>43</td>\n",
       "      <td>150.1</td>\n",
       "      <td>453.549422</td>\n",
       "      <td>48609</td>\n",
       "      <td>37118</td>\n",
       "      <td>18.8</td>\n",
       "      <td>377.175494</td>\n",
       "      <td>(48021.6, 51046.4]</td>\n",
       "      <td>30.4</td>\n",
       "      <td>...</td>\n",
       "      <td>53.3</td>\n",
       "      <td>48.6</td>\n",
       "      <td>28.8</td>\n",
       "      <td>17.7</td>\n",
       "      <td>75.706245</td>\n",
       "      <td>2.326771</td>\n",
       "      <td>4.044920</td>\n",
       "      <td>14.130288</td>\n",
       "      <td>52.007937</td>\n",
       "      <td>8.186470</td>\n",
       "    </tr>\n",
       "    <tr>\n",
       "      <th>3044</th>\n",
       "      <td>1962.667684</td>\n",
       "      <td>46</td>\n",
       "      <td>153.9</td>\n",
       "      <td>453.549422</td>\n",
       "      <td>51144</td>\n",
       "      <td>34536</td>\n",
       "      <td>15.0</td>\n",
       "      <td>1968.959926</td>\n",
       "      <td>(51046.4, 54545.6]</td>\n",
       "      <td>30.9</td>\n",
       "      <td>...</td>\n",
       "      <td>52.6</td>\n",
       "      <td>47.8</td>\n",
       "      <td>26.6</td>\n",
       "      <td>16.8</td>\n",
       "      <td>87.961629</td>\n",
       "      <td>2.313188</td>\n",
       "      <td>1.316472</td>\n",
       "      <td>5.680705</td>\n",
       "      <td>55.153949</td>\n",
       "      <td>7.809192</td>\n",
       "    </tr>\n",
       "    <tr>\n",
       "      <th>3045</th>\n",
       "      <td>1962.667684</td>\n",
       "      <td>52</td>\n",
       "      <td>175.0</td>\n",
       "      <td>453.549422</td>\n",
       "      <td>50745</td>\n",
       "      <td>25609</td>\n",
       "      <td>13.3</td>\n",
       "      <td>0.000000</td>\n",
       "      <td>(48021.6, 51046.4]</td>\n",
       "      <td>39.0</td>\n",
       "      <td>...</td>\n",
       "      <td>56.3</td>\n",
       "      <td>49.6</td>\n",
       "      <td>29.5</td>\n",
       "      <td>14.0</td>\n",
       "      <td>92.905681</td>\n",
       "      <td>1.176562</td>\n",
       "      <td>0.244632</td>\n",
       "      <td>2.131790</td>\n",
       "      <td>58.484232</td>\n",
       "      <td>7.582938</td>\n",
       "    </tr>\n",
       "    <tr>\n",
       "      <th>3046</th>\n",
       "      <td>1962.667684</td>\n",
       "      <td>48</td>\n",
       "      <td>213.6</td>\n",
       "      <td>453.549422</td>\n",
       "      <td>41193</td>\n",
       "      <td>37030</td>\n",
       "      <td>13.9</td>\n",
       "      <td>0.000000</td>\n",
       "      <td>(40362.7, 42724.4]</td>\n",
       "      <td>26.2</td>\n",
       "      <td>...</td>\n",
       "      <td>60.3</td>\n",
       "      <td>22.9</td>\n",
       "      <td>25.1</td>\n",
       "      <td>12.6</td>\n",
       "      <td>70.098132</td>\n",
       "      <td>16.590100</td>\n",
       "      <td>3.177753</td>\n",
       "      <td>1.356457</td>\n",
       "      <td>56.040242</td>\n",
       "      <td>8.981723</td>\n",
       "    </tr>\n",
       "  </tbody>\n",
       "</table>\n",
       "<p>3047 rows × 34 columns</p>\n",
       "</div>"
      ],
      "text/plain": [
       "      avganncount  avgdeathsperyear  target_deathrate  incidencerate  \\\n",
       "0     1397.000000               469             164.9     489.800000   \n",
       "1      173.000000                70             161.3     411.600000   \n",
       "2      102.000000                50             174.7     349.700000   \n",
       "3      427.000000               202             194.8     430.400000   \n",
       "4       57.000000                26             144.4     350.100000   \n",
       "...           ...               ...               ...            ...   \n",
       "3042  1962.667684                15             149.6     453.549422   \n",
       "3043  1962.667684                43             150.1     453.549422   \n",
       "3044  1962.667684                46             153.9     453.549422   \n",
       "3045  1962.667684                52             175.0     453.549422   \n",
       "3046  1962.667684                48             213.6     453.549422   \n",
       "\n",
       "      medincome  popest2015  povertypercent  studypercap           binnedinc  \\\n",
       "0         61898      260131            11.2   499.748204   (61494.5, 125635]   \n",
       "1         48127       43269            18.6    23.111234  (48021.6, 51046.4]   \n",
       "2         49348       21026            14.6    47.560164  (48021.6, 51046.4]   \n",
       "3         44243       75882            17.1   342.637253    (42724.4, 45201]   \n",
       "4         49955       10321            12.5     0.000000  (48021.6, 51046.4]   \n",
       "...         ...         ...             ...          ...                 ...   \n",
       "3042      46961        6343            12.4     0.000000    (45201, 48021.6]   \n",
       "3043      48609       37118            18.8   377.175494  (48021.6, 51046.4]   \n",
       "3044      51144       34536            15.0  1968.959926  (51046.4, 54545.6]   \n",
       "3045      50745       25609            13.3     0.000000  (48021.6, 51046.4]   \n",
       "3046      41193       37030            13.9     0.000000  (40362.7, 42724.4]   \n",
       "\n",
       "      medianage  ...  pctprivatecoveragealone  pctempprivcoverage  \\\n",
       "0          39.3  ...                      NaN                41.6   \n",
       "1          33.0  ...                     53.8                43.6   \n",
       "2          45.0  ...                     43.5                34.9   \n",
       "3          42.8  ...                     40.3                35.0   \n",
       "4          48.3  ...                     43.9                35.1   \n",
       "...         ...  ...                      ...                 ...   \n",
       "3042       44.2  ...                     54.9                44.6   \n",
       "3043       30.4  ...                     53.3                48.6   \n",
       "3044       30.9  ...                     52.6                47.8   \n",
       "3045       39.0  ...                     56.3                49.6   \n",
       "3046       26.2  ...                     60.3                22.9   \n",
       "\n",
       "     pctpubliccoverage  pctpubliccoveragealone   pctwhite   pctblack  \\\n",
       "0                 32.9                    14.0  81.780529   2.594728   \n",
       "1                 31.1                    15.3  89.228509   0.969102   \n",
       "2                 42.1                    21.1  90.922190   0.739673   \n",
       "3                 45.3                    25.0  91.744686   0.782626   \n",
       "4                 44.0                    22.7  94.104024   0.270192   \n",
       "...                ...                     ...        ...        ...   \n",
       "3042              31.7                    13.2  90.280811   3.837754   \n",
       "3043              28.8                    17.7  75.706245   2.326771   \n",
       "3044              26.6                    16.8  87.961629   2.313188   \n",
       "3045              29.5                    14.0  92.905681   1.176562   \n",
       "3046              25.1                    12.6  70.098132  16.590100   \n",
       "\n",
       "      pctasian  pctotherrace  pctmarriedhouseholds  birthrate  \n",
       "0     4.821857      1.843479             52.856076   6.118831  \n",
       "1     2.246233      3.741352             45.372500   4.333096  \n",
       "2     0.465898      2.747358             54.444868   3.729488  \n",
       "3     1.161359      1.362643             51.021514   4.603841  \n",
       "4     0.665830      0.492135             54.027460   6.796657  \n",
       "...        ...           ...                   ...        ...  \n",
       "3042  0.327613      1.700468             51.063830   7.773512  \n",
       "3043  4.044920     14.130288             52.007937   8.186470  \n",
       "3044  1.316472      5.680705             55.153949   7.809192  \n",
       "3045  0.244632      2.131790             58.484232   7.582938  \n",
       "3046  3.177753      1.356457             56.040242   8.981723  \n",
       "\n",
       "[3047 rows x 34 columns]"
      ]
     },
     "execution_count": 14,
     "metadata": {},
     "output_type": "execute_result"
    }
   ],
   "source": [
    "data"
   ]
  },
  {
   "cell_type": "code",
   "execution_count": 33,
   "metadata": {},
   "outputs": [
    {
     "data": {
      "text/plain": [
       "Index(['avganncount', 'avgdeathsperyear', 'target_deathrate', 'incidencerate',\n",
       "       'medincome', 'popest2015', 'povertypercent', 'studypercap', 'binnedinc',\n",
       "       'medianage', 'medianagemale', 'medianagefemale', 'geography',\n",
       "       'avghouseholdsize', 'percentmarried', 'pctnohs18_24', 'pcths18_24',\n",
       "       'pctsomecol18_24', 'pctbachdeg18_24', 'pcths25_over',\n",
       "       'pctbachdeg25_over', 'pctemployed16_over', 'pctunemployed16_over',\n",
       "       'pctprivatecoverage', 'pctprivatecoveragealone', 'pctempprivcoverage',\n",
       "       'pctpubliccoverage', 'pctpubliccoveragealone', 'pctwhite', 'pctblack',\n",
       "       'pctasian', 'pctotherrace', 'pctmarriedhouseholds', 'birthrate'],\n",
       "      dtype='object')"
      ]
     },
     "execution_count": 33,
     "metadata": {},
     "output_type": "execute_result"
    }
   ],
   "source": [
    "data.columns"
   ]
  },
  {
   "cell_type": "markdown",
   "metadata": {},
   "source": [
    "Descriptive statistics"
   ]
  },
  {
   "cell_type": "code",
   "execution_count": 4,
   "metadata": {},
   "outputs": [
    {
     "data": {
      "text/html": [
       "<div>\n",
       "<style scoped>\n",
       "    .dataframe tbody tr th:only-of-type {\n",
       "        vertical-align: middle;\n",
       "    }\n",
       "\n",
       "    .dataframe tbody tr th {\n",
       "        vertical-align: top;\n",
       "    }\n",
       "\n",
       "    .dataframe thead th {\n",
       "        text-align: right;\n",
       "    }\n",
       "</style>\n",
       "<table border=\"1\" class=\"dataframe\">\n",
       "  <thead>\n",
       "    <tr style=\"text-align: right;\">\n",
       "      <th></th>\n",
       "      <th>avganncount</th>\n",
       "      <th>avgdeathsperyear</th>\n",
       "      <th>target_deathrate</th>\n",
       "      <th>incidencerate</th>\n",
       "      <th>medincome</th>\n",
       "      <th>popest2015</th>\n",
       "      <th>povertypercent</th>\n",
       "      <th>studypercap</th>\n",
       "      <th>medianage</th>\n",
       "      <th>medianagemale</th>\n",
       "      <th>...</th>\n",
       "      <th>pctprivatecoveragealone</th>\n",
       "      <th>pctempprivcoverage</th>\n",
       "      <th>pctpubliccoverage</th>\n",
       "      <th>pctpubliccoveragealone</th>\n",
       "      <th>pctwhite</th>\n",
       "      <th>pctblack</th>\n",
       "      <th>pctasian</th>\n",
       "      <th>pctotherrace</th>\n",
       "      <th>pctmarriedhouseholds</th>\n",
       "      <th>birthrate</th>\n",
       "    </tr>\n",
       "  </thead>\n",
       "  <tbody>\n",
       "    <tr>\n",
       "      <th>count</th>\n",
       "      <td>3047.000000</td>\n",
       "      <td>3047.000000</td>\n",
       "      <td>3047.000000</td>\n",
       "      <td>3047.000000</td>\n",
       "      <td>3047.000000</td>\n",
       "      <td>3.047000e+03</td>\n",
       "      <td>3047.000000</td>\n",
       "      <td>3047.000000</td>\n",
       "      <td>3047.000000</td>\n",
       "      <td>3047.000000</td>\n",
       "      <td>...</td>\n",
       "      <td>2438.000000</td>\n",
       "      <td>3047.000000</td>\n",
       "      <td>3047.000000</td>\n",
       "      <td>3047.000000</td>\n",
       "      <td>3047.000000</td>\n",
       "      <td>3047.000000</td>\n",
       "      <td>3047.000000</td>\n",
       "      <td>3047.000000</td>\n",
       "      <td>3047.000000</td>\n",
       "      <td>3047.000000</td>\n",
       "    </tr>\n",
       "    <tr>\n",
       "      <th>mean</th>\n",
       "      <td>606.338544</td>\n",
       "      <td>185.965868</td>\n",
       "      <td>178.664063</td>\n",
       "      <td>448.268586</td>\n",
       "      <td>47063.281917</td>\n",
       "      <td>1.026374e+05</td>\n",
       "      <td>16.878175</td>\n",
       "      <td>155.399415</td>\n",
       "      <td>45.272333</td>\n",
       "      <td>39.570725</td>\n",
       "      <td>...</td>\n",
       "      <td>48.453774</td>\n",
       "      <td>41.196324</td>\n",
       "      <td>36.252642</td>\n",
       "      <td>19.240072</td>\n",
       "      <td>83.645286</td>\n",
       "      <td>9.107978</td>\n",
       "      <td>1.253965</td>\n",
       "      <td>1.983523</td>\n",
       "      <td>51.243872</td>\n",
       "      <td>5.640306</td>\n",
       "    </tr>\n",
       "    <tr>\n",
       "      <th>std</th>\n",
       "      <td>1416.356223</td>\n",
       "      <td>504.134286</td>\n",
       "      <td>27.751511</td>\n",
       "      <td>54.560733</td>\n",
       "      <td>12040.090836</td>\n",
       "      <td>3.290592e+05</td>\n",
       "      <td>6.409087</td>\n",
       "      <td>529.628366</td>\n",
       "      <td>45.304480</td>\n",
       "      <td>5.226017</td>\n",
       "      <td>...</td>\n",
       "      <td>10.083006</td>\n",
       "      <td>9.447687</td>\n",
       "      <td>7.841741</td>\n",
       "      <td>6.113041</td>\n",
       "      <td>16.380025</td>\n",
       "      <td>14.534538</td>\n",
       "      <td>2.610276</td>\n",
       "      <td>3.517710</td>\n",
       "      <td>6.572814</td>\n",
       "      <td>1.985816</td>\n",
       "    </tr>\n",
       "    <tr>\n",
       "      <th>min</th>\n",
       "      <td>6.000000</td>\n",
       "      <td>3.000000</td>\n",
       "      <td>59.700000</td>\n",
       "      <td>201.300000</td>\n",
       "      <td>22640.000000</td>\n",
       "      <td>8.270000e+02</td>\n",
       "      <td>3.200000</td>\n",
       "      <td>0.000000</td>\n",
       "      <td>22.300000</td>\n",
       "      <td>22.400000</td>\n",
       "      <td>...</td>\n",
       "      <td>15.700000</td>\n",
       "      <td>13.500000</td>\n",
       "      <td>11.200000</td>\n",
       "      <td>2.600000</td>\n",
       "      <td>10.199155</td>\n",
       "      <td>0.000000</td>\n",
       "      <td>0.000000</td>\n",
       "      <td>0.000000</td>\n",
       "      <td>22.992490</td>\n",
       "      <td>0.000000</td>\n",
       "    </tr>\n",
       "    <tr>\n",
       "      <th>25%</th>\n",
       "      <td>76.000000</td>\n",
       "      <td>28.000000</td>\n",
       "      <td>161.200000</td>\n",
       "      <td>420.300000</td>\n",
       "      <td>38882.500000</td>\n",
       "      <td>1.168400e+04</td>\n",
       "      <td>12.150000</td>\n",
       "      <td>0.000000</td>\n",
       "      <td>37.700000</td>\n",
       "      <td>36.350000</td>\n",
       "      <td>...</td>\n",
       "      <td>41.000000</td>\n",
       "      <td>34.500000</td>\n",
       "      <td>30.900000</td>\n",
       "      <td>14.850000</td>\n",
       "      <td>77.296180</td>\n",
       "      <td>0.620675</td>\n",
       "      <td>0.254199</td>\n",
       "      <td>0.295172</td>\n",
       "      <td>47.763063</td>\n",
       "      <td>4.521419</td>\n",
       "    </tr>\n",
       "    <tr>\n",
       "      <th>50%</th>\n",
       "      <td>171.000000</td>\n",
       "      <td>61.000000</td>\n",
       "      <td>178.100000</td>\n",
       "      <td>453.549422</td>\n",
       "      <td>45207.000000</td>\n",
       "      <td>2.664300e+04</td>\n",
       "      <td>15.900000</td>\n",
       "      <td>0.000000</td>\n",
       "      <td>41.000000</td>\n",
       "      <td>39.600000</td>\n",
       "      <td>...</td>\n",
       "      <td>48.700000</td>\n",
       "      <td>41.100000</td>\n",
       "      <td>36.300000</td>\n",
       "      <td>18.800000</td>\n",
       "      <td>90.059774</td>\n",
       "      <td>2.247576</td>\n",
       "      <td>0.549812</td>\n",
       "      <td>0.826185</td>\n",
       "      <td>51.669941</td>\n",
       "      <td>5.381478</td>\n",
       "    </tr>\n",
       "    <tr>\n",
       "      <th>75%</th>\n",
       "      <td>518.000000</td>\n",
       "      <td>149.000000</td>\n",
       "      <td>195.200000</td>\n",
       "      <td>480.850000</td>\n",
       "      <td>52492.000000</td>\n",
       "      <td>6.867100e+04</td>\n",
       "      <td>20.400000</td>\n",
       "      <td>83.650776</td>\n",
       "      <td>44.000000</td>\n",
       "      <td>42.500000</td>\n",
       "      <td>...</td>\n",
       "      <td>55.600000</td>\n",
       "      <td>47.700000</td>\n",
       "      <td>41.550000</td>\n",
       "      <td>23.100000</td>\n",
       "      <td>95.451693</td>\n",
       "      <td>10.509732</td>\n",
       "      <td>1.221037</td>\n",
       "      <td>2.177960</td>\n",
       "      <td>55.395132</td>\n",
       "      <td>6.493677</td>\n",
       "    </tr>\n",
       "    <tr>\n",
       "      <th>max</th>\n",
       "      <td>38150.000000</td>\n",
       "      <td>14010.000000</td>\n",
       "      <td>362.800000</td>\n",
       "      <td>1206.900000</td>\n",
       "      <td>125635.000000</td>\n",
       "      <td>1.017029e+07</td>\n",
       "      <td>47.400000</td>\n",
       "      <td>9762.308998</td>\n",
       "      <td>624.000000</td>\n",
       "      <td>64.700000</td>\n",
       "      <td>...</td>\n",
       "      <td>78.900000</td>\n",
       "      <td>70.700000</td>\n",
       "      <td>65.100000</td>\n",
       "      <td>46.600000</td>\n",
       "      <td>100.000000</td>\n",
       "      <td>85.947799</td>\n",
       "      <td>42.619425</td>\n",
       "      <td>41.930251</td>\n",
       "      <td>78.075397</td>\n",
       "      <td>21.326165</td>\n",
       "    </tr>\n",
       "  </tbody>\n",
       "</table>\n",
       "<p>8 rows × 32 columns</p>\n",
       "</div>"
      ],
      "text/plain": [
       "        avganncount  avgdeathsperyear  target_deathrate  incidencerate  \\\n",
       "count   3047.000000       3047.000000       3047.000000    3047.000000   \n",
       "mean     606.338544        185.965868        178.664063     448.268586   \n",
       "std     1416.356223        504.134286         27.751511      54.560733   \n",
       "min        6.000000          3.000000         59.700000     201.300000   \n",
       "25%       76.000000         28.000000        161.200000     420.300000   \n",
       "50%      171.000000         61.000000        178.100000     453.549422   \n",
       "75%      518.000000        149.000000        195.200000     480.850000   \n",
       "max    38150.000000      14010.000000        362.800000    1206.900000   \n",
       "\n",
       "           medincome    popest2015  povertypercent  studypercap    medianage  \\\n",
       "count    3047.000000  3.047000e+03     3047.000000  3047.000000  3047.000000   \n",
       "mean    47063.281917  1.026374e+05       16.878175   155.399415    45.272333   \n",
       "std     12040.090836  3.290592e+05        6.409087   529.628366    45.304480   \n",
       "min     22640.000000  8.270000e+02        3.200000     0.000000    22.300000   \n",
       "25%     38882.500000  1.168400e+04       12.150000     0.000000    37.700000   \n",
       "50%     45207.000000  2.664300e+04       15.900000     0.000000    41.000000   \n",
       "75%     52492.000000  6.867100e+04       20.400000    83.650776    44.000000   \n",
       "max    125635.000000  1.017029e+07       47.400000  9762.308998   624.000000   \n",
       "\n",
       "       medianagemale  ...  pctprivatecoveragealone  pctempprivcoverage  \\\n",
       "count    3047.000000  ...              2438.000000         3047.000000   \n",
       "mean       39.570725  ...                48.453774           41.196324   \n",
       "std         5.226017  ...                10.083006            9.447687   \n",
       "min        22.400000  ...                15.700000           13.500000   \n",
       "25%        36.350000  ...                41.000000           34.500000   \n",
       "50%        39.600000  ...                48.700000           41.100000   \n",
       "75%        42.500000  ...                55.600000           47.700000   \n",
       "max        64.700000  ...                78.900000           70.700000   \n",
       "\n",
       "       pctpubliccoverage  pctpubliccoveragealone     pctwhite     pctblack  \\\n",
       "count        3047.000000             3047.000000  3047.000000  3047.000000   \n",
       "mean           36.252642               19.240072    83.645286     9.107978   \n",
       "std             7.841741                6.113041    16.380025    14.534538   \n",
       "min            11.200000                2.600000    10.199155     0.000000   \n",
       "25%            30.900000               14.850000    77.296180     0.620675   \n",
       "50%            36.300000               18.800000    90.059774     2.247576   \n",
       "75%            41.550000               23.100000    95.451693    10.509732   \n",
       "max            65.100000               46.600000   100.000000    85.947799   \n",
       "\n",
       "          pctasian  pctotherrace  pctmarriedhouseholds    birthrate  \n",
       "count  3047.000000   3047.000000           3047.000000  3047.000000  \n",
       "mean      1.253965      1.983523             51.243872     5.640306  \n",
       "std       2.610276      3.517710              6.572814     1.985816  \n",
       "min       0.000000      0.000000             22.992490     0.000000  \n",
       "25%       0.254199      0.295172             47.763063     4.521419  \n",
       "50%       0.549812      0.826185             51.669941     5.381478  \n",
       "75%       1.221037      2.177960             55.395132     6.493677  \n",
       "max      42.619425     41.930251             78.075397    21.326165  \n",
       "\n",
       "[8 rows x 32 columns]"
      ]
     },
     "execution_count": 4,
     "metadata": {},
     "output_type": "execute_result"
    }
   ],
   "source": [
    "data.describe()"
   ]
  },
  {
   "cell_type": "markdown",
   "metadata": {},
   "source": [
    "## Exploratory analysis - let's ask some questions"
   ]
  },
  {
   "cell_type": "markdown",
   "metadata": {},
   "source": [
    "### Does ethnicity affect mean cancer death rate?"
   ]
  },
  {
   "cell_type": "markdown",
   "metadata": {},
   "source": [
    "BLACK vs OTHER"
   ]
  },
  {
   "cell_type": "code",
   "execution_count": 5,
   "metadata": {},
   "outputs": [
    {
     "data": {
      "text/plain": [
       "count    3047.000000\n",
       "mean        9.107978\n",
       "std        14.534538\n",
       "min         0.000000\n",
       "25%         0.620675\n",
       "50%         2.247576\n",
       "75%        10.509732\n",
       "max        85.947799\n",
       "Name: pctblack, dtype: float64"
      ]
     },
     "execution_count": 5,
     "metadata": {},
     "output_type": "execute_result"
    }
   ],
   "source": [
    "## first, lets check descriptive stats of black population percentage\n",
    "\n",
    "data.pctblack.describe()"
   ]
  },
  {
   "cell_type": "code",
   "execution_count": 82,
   "metadata": {},
   "outputs": [],
   "source": [
    "## dividing the data into 4 categories: less than 1% black, less than 10%, less than 50%, over 50%\n",
    "categories = {}\n",
    "categories[\"black_one\"] = data[data.pctblack <= 1]\n",
    "categories[\"black_ten\"] = data[(data.pctblack > 1) & (data.pctblack <= 10)]\n",
    "categories[\"black_fifty\"] = data[(data.pctblack > 10) & (data.pctblack <=50)]\n",
    "categories[\"black_over_fifty\"] = data[data.pctblack > 50]"
   ]
  },
  {
   "cell_type": "code",
   "execution_count": 7,
   "metadata": {},
   "outputs": [
    {
     "name": "stdout",
     "output_type": "stream",
     "text": [
      "Mean death rate per 100000 inhabitants for category black_one is 172.65918367346913\n",
      "Mean death rate per 100000 inhabitants for category black_ten is 177.50414201183432\n",
      "Mean death rate per 100000 inhabitants for category black_fifty is 186.77304347826086\n",
      "Mean death rate per 100000 inhabitants for category black_over_fifty is 202.10416666666663\n"
     ]
    }
   ],
   "source": [
    "## checking avg deathrate for each category\n",
    "\n",
    "for category in categories:\n",
    "    result = categories[category].target_deathrate.mean()\n",
    "    print(f\"Mean death rate per 100000 inhabitants for category {category} is {result}\")\n"
   ]
  },
  {
   "cell_type": "code",
   "execution_count": 19,
   "metadata": {},
   "outputs": [
    {
     "data": {
      "image/png": "[encoded data removed]",
      "text/plain": [
       "<Figure size 432x288 with 1 Axes>"
      ]
     },
     "metadata": {
      "needs_background": "light"
     },
     "output_type": "display_data"
    },
    {
     "data": {
      "image/png": "[encoded data removed]",
      "text/plain": [
       "<Figure size 432x288 with 1 Axes>"
      ]
     },
     "metadata": {
      "needs_background": "light"
     },
     "output_type": "display_data"
    }
   ],
   "source": [
    "#histogram of black population percentage and cancer death rates by black pop. percentage\n",
    "plt.hist(data.pctblack,bins=20)\n",
    "plt.title(\"Number of counties by percentage of black population\")\n",
    "plt.xlabel(\"Pct of black population\")\n",
    "plt.ylabel(\"Number of counties\")\n",
    "plt.show()\n",
    "plt.scatter(data.pctblack,data.target_deathrate)\n",
    "plt.title(\"Cancert deathrate by percentage of black population\")\n",
    "plt.xlabel(\"Pct of black population\")\n",
    "plt.ylabel(\"Cancer deaths per 100000 inh\")\n",
    "plt.show()"
   ]
  },
  {
   "cell_type": "code",
   "execution_count": 8,
   "metadata": {},
   "outputs": [
    {
     "data": {
      "text/plain": [
       "LeveneResult(statistic=17.314119263781524, pvalue=3.804543855636038e-11)"
      ]
     },
     "execution_count": 8,
     "metadata": {},
     "output_type": "execute_result"
    }
   ],
   "source": [
    "## now let's check significance of differences\n",
    "\n",
    "stats.levene(categories[\"black_one\"],categories[\"black_ten\"],categories[\"black_fifty\"],categories[\"black_over_fifty\"])"
   ]
  },
  {
   "cell_type": "code",
   "execution_count": 9,
   "metadata": {},
   "outputs": [
    {
     "data": {
      "text/plain": [
       "KstestResult(statistic=0.10626735901461176, pvalue=5.238746602631572e-06)"
      ]
     },
     "execution_count": 9,
     "metadata": {},
     "output_type": "execute_result"
    }
   ],
   "source": [
    "## unequal variance, performing kruskal wallis test\n",
    "\n",
    "stats.kstest(categories[\"black_one\"],categories[\"black_ten\"],categories[\"black_fifty\"],categories[\"black_over_fifty\"])"
   ]
  },
  {
   "cell_type": "code",
   "execution_count": 10,
   "metadata": {},
   "outputs": [
    {
     "data": {
      "text/plain": [
       "{('black_one',\n",
       "  'black_ten'): Ttest_indResult(statistic=-4.089858601857582, pvalue=4.4792420325032e-05),\n",
       " ('black_one',\n",
       "  'black_fifty'): Ttest_indResult(statistic=-10.993751984457203, pvalue=3.2502513447507096e-27),\n",
       " ('black_one',\n",
       "  'black_over_fifty'): Ttest_indResult(statistic=-9.69306823490537, pvalue=1.289769751145019e-16),\n",
       " ('black_ten',\n",
       "  'black_one'): Ttest_indResult(statistic=4.089858601857582, pvalue=4.4792420325032e-05),\n",
       " ('black_ten',\n",
       "  'black_fifty'): Ttest_indResult(statistic=-8.04898478077863, pvalue=1.6540896272866057e-15),\n",
       " ('black_ten',\n",
       "  'black_over_fifty'): Ttest_indResult(statistic=-8.243273884652549, pvalue=4.432609950799515e-13),\n",
       " ('black_fifty',\n",
       "  'black_one'): Ttest_indResult(statistic=10.993751984457203, pvalue=3.2502513447507096e-27),\n",
       " ('black_fifty',\n",
       "  'black_ten'): Ttest_indResult(statistic=8.04898478077863, pvalue=1.6540896272866057e-15),\n",
       " ('black_fifty',\n",
       "  'black_over_fifty'): Ttest_indResult(statistic=-5.068148896975147, pvalue=1.5736577761049696e-06),\n",
       " ('black_over_fifty',\n",
       "  'black_one'): Ttest_indResult(statistic=9.69306823490537, pvalue=1.289769751145019e-16),\n",
       " ('black_over_fifty',\n",
       "  'black_ten'): Ttest_indResult(statistic=8.243273884652549, pvalue=4.432609950799515e-13),\n",
       " ('black_over_fifty',\n",
       "  'black_fifty'): Ttest_indResult(statistic=5.068148896975147, pvalue=1.5736577761049696e-06)}"
      ]
     },
     "execution_count": 10,
     "metadata": {},
     "output_type": "execute_result"
    }
   ],
   "source": [
    "## post hoc analysys, ttest between each group\n",
    "\n",
    "t_results = {}\n",
    "\n",
    "for category in categories:\n",
    "    for category1 in categories:\n",
    "        if category == category1:\n",
    "            pass\n",
    "        else:\n",
    "            t_results[(category,category1)] = stats.ttest_ind(categories[category],categories[category1], equal_var=False)\n",
    "            \n",
    "t_results"
   ]
  },
  {
   "cell_type": "markdown",
   "metadata": {},
   "source": [
    "Every single ttest has significant results. It means that with increase of black population in county, cancer death rates are becoming higher and higher. It would mean that black citizens are more likely to die of cancer than others. We can pose more questions: does these counties have simply higher cancer illness rates or are they also receiving worse treatment (have higher proportion of yearly deaths to yearly rates?"
   ]
  },
  {
   "cell_type": "code",
   "execution_count": 86,
   "metadata": {},
   "outputs": [
    {
     "name": "stdout",
     "output_type": "stream",
     "text": [
      "Mean incidence rate per 100000 inhabitants for category black_one is 439.7790626124317\n",
      "Mean incidence rate per 100000 inhabitants for category black_ten is 448.7928185510563\n",
      "Mean incidence rate per 100000 inhabitants for category black_fifty is 458.85499581231943\n",
      "Mean incidence rate per 100000 inhabitants for category black_over_fifty is 461.04895833333325\n"
     ]
    }
   ],
   "source": [
    "#mean rate per category\n",
    "for category in categories:\n",
    "    result = categories[category].incidencerate.mean()\n",
    "    print(f\"Mean incidence rate per 100000 inhabitants for category {category} is {result}\")"
   ]
  },
  {
   "cell_type": "code",
   "execution_count": 85,
   "metadata": {},
   "outputs": [
    {
     "data": {
      "text/plain": [
       "{('black_one',\n",
       "  'black_ten'): Ttest_indResult(statistic=-4.011160700163226, pvalue=6.244922528831411e-05),\n",
       " ('black_one',\n",
       "  'black_fifty'): Ttest_indResult(statistic=-6.904348610657723, pvalue=7.554343954118847e-12),\n",
       " ('black_one',\n",
       "  'black_over_fifty'): Ttest_indResult(statistic=-3.898689688196054, pvalue=0.00016231641775074483),\n",
       " ('black_ten',\n",
       "  'black_one'): Ttest_indResult(statistic=4.011160700163226, pvalue=6.244922528831411e-05),\n",
       " ('black_ten',\n",
       "  'black_fifty'): Ttest_indResult(statistic=-3.813660946497363, pvalue=0.0001433138089237598),\n",
       " ('black_ten',\n",
       "  'black_over_fifty'): Ttest_indResult(statistic=-2.272304540826404, pvalue=0.024993836534655606),\n",
       " ('black_fifty',\n",
       "  'black_one'): Ttest_indResult(statistic=6.904348610657723, pvalue=7.554343954118847e-12),\n",
       " ('black_fifty',\n",
       "  'black_ten'): Ttest_indResult(statistic=3.813660946497363, pvalue=0.0001433138089237598),\n",
       " ('black_fifty',\n",
       "  'black_over_fifty'): Ttest_indResult(statistic=-0.38982100187118396, pvalue=0.6973013566093795),\n",
       " ('black_over_fifty',\n",
       "  'black_one'): Ttest_indResult(statistic=3.898689688196054, pvalue=0.00016231641775074483),\n",
       " ('black_over_fifty',\n",
       "  'black_ten'): Ttest_indResult(statistic=2.272304540826404, pvalue=0.024993836534655606),\n",
       " ('black_over_fifty',\n",
       "  'black_fifty'): Ttest_indResult(statistic=0.38982100187118396, pvalue=0.6973013566093795)}"
      ]
     },
     "execution_count": 85,
     "metadata": {},
     "output_type": "execute_result"
    }
   ],
   "source": [
    "# ttests for categories\n",
    "t_results = {}\n",
    "\n",
    "for category in categories:\n",
    "    for category1 in categories:\n",
    "        if category == category1:\n",
    "            pass\n",
    "        else:\n",
    "            t_results[(category,category1)] = stats.ttest_ind(categories[category].incidencerate,categories[category1].incidencerate, equal_var=False)\n",
    "            \n",
    "t_results"
   ]
  },
  {
   "cell_type": "markdown",
   "metadata": {},
   "source": [
    "Ttest show that higher cancer incidence rate is tied to higher pct of black citizens in counties. What about incidence/death ratio?"
   ]
  },
  {
   "cell_type": "code",
   "execution_count": 87,
   "metadata": {},
   "outputs": [
    {
     "name": "stdout",
     "output_type": "stream",
     "text": [
      "Mean ratio for category black_one is 0.39260437422331346\n",
      "Mean ratio for category black_ten is 0.39551466662259166\n",
      "Mean ratio for category black_fifty is 0.40704153857497644\n",
      "Mean ratio for category black_over_fifty is 0.43835727857896506\n"
     ]
    }
   ],
   "source": [
    "# ratio per category\n",
    "for category in categories:\n",
    "    result = categories[category].target_deathrate.mean() / categories[category].incidencerate.mean()\n",
    "    print(f\"Mean ratio for category {category} is {result}\")"
   ]
  },
  {
   "cell_type": "code",
   "execution_count": 88,
   "metadata": {},
   "outputs": [
    {
     "data": {
      "text/plain": [
       "{('black_one',\n",
       "  'black_ten'): Ttest_indResult(statistic=2.055046645960183, pvalue=0.03999362294573023),\n",
       " ('black_one',\n",
       "  'black_fifty'): Ttest_indResult(statistic=6.283275009123767, pvalue=4.2484030460372746e-10),\n",
       " ('black_one',\n",
       "  'black_over_fifty'): Ttest_indResult(statistic=8.332488257363135, pvalue=1.1330158779165132e-13),\n",
       " ('black_ten',\n",
       "  'black_one'): Ttest_indResult(statistic=-2.055046645960183, pvalue=0.03999362294573023),\n",
       " ('black_ten',\n",
       "  'black_fifty'): Ttest_indResult(statistic=4.726222981168972, pvalue=2.5015879600083643e-06),\n",
       " ('black_ten',\n",
       "  'black_over_fifty'): Ttest_indResult(statistic=7.4708388365449485, pvalue=1.5217555747242454e-11),\n",
       " ('black_fifty',\n",
       "  'black_one'): Ttest_indResult(statistic=-6.283275009123767, pvalue=4.2484030460372746e-10),\n",
       " ('black_fifty',\n",
       "  'black_ten'): Ttest_indResult(statistic=-4.726222981168972, pvalue=2.5015879600083643e-06),\n",
       " ('black_fifty',\n",
       "  'black_over_fifty'): Ttest_indResult(statistic=4.915797149599764, pvalue=2.59415691861972e-06),\n",
       " ('black_over_fifty',\n",
       "  'black_one'): Ttest_indResult(statistic=-8.332488257363135, pvalue=1.1330158779165132e-13),\n",
       " ('black_over_fifty',\n",
       "  'black_ten'): Ttest_indResult(statistic=-7.4708388365449485, pvalue=1.5217555747242454e-11),\n",
       " ('black_over_fifty',\n",
       "  'black_fifty'): Ttest_indResult(statistic=-4.915797149599764, pvalue=2.59415691861972e-06)}"
      ]
     },
     "execution_count": 88,
     "metadata": {},
     "output_type": "execute_result"
    }
   ],
   "source": [
    "# ttests\n",
    "for category in categories:\n",
    "    for category1 in categories:\n",
    "        if category == category1:\n",
    "            pass\n",
    "        else:\n",
    "            t_results[(category,category1)] = stats.ttest_ind(categories[category].incidencerate/categories[category].target_deathrate,categories[category1].incidencerate/categories[category1].target_deathrate, equal_var=False)\n",
    "            \n",
    "t_results"
   ]
  },
  {
   "cell_type": "markdown",
   "metadata": {},
   "source": [
    "#### Overall results of statistical analysys show, that in counties with higher percentage of black population cancer incidence rates are significantly higher than in those with lower pct. Moreover, citizens in those counties are receiving worse quality healthcare, resulting in higher death rate. It indicates that black citizens in usa have worse acces to quality healthcare and higher chance of dying from cancer than other groups"
   ]
  },
  {
   "cell_type": "markdown",
   "metadata": {},
   "source": [
    "### Does counties with higher poverty rates and lower median income have higher cancer death rates?"
   ]
  },
  {
   "cell_type": "code",
   "execution_count": 27,
   "metadata": {},
   "outputs": [
    {
     "data": {
      "text/plain": [
       "count    3047.000000\n",
       "mean       16.878175\n",
       "std         6.409087\n",
       "min         3.200000\n",
       "25%        12.150000\n",
       "50%        15.900000\n",
       "75%        20.400000\n",
       "max        47.400000\n",
       "Name: povertypercent, dtype: float64"
      ]
     },
     "execution_count": 27,
     "metadata": {},
     "output_type": "execute_result"
    }
   ],
   "source": [
    "#descriptive stats\n",
    "data.povertypercent.describe()"
   ]
  },
  {
   "cell_type": "code",
   "execution_count": 33,
   "metadata": {},
   "outputs": [],
   "source": [
    "## Dividing data in four groups: poverty percent less than 5 percent, less than 15 percent, less than 20 and higher than 20\n",
    "poverty_categories = {}\n",
    "poverty_categories[\"five\"] = data[data.povertypercent <= 5].target_deathrate\n",
    "poverty_categories[\"fifteen\"] = data[(data.povertypercent >5)&(data.povertypercent<=15)].target_deathrate\n",
    "poverty_categories[\"twenty\"] = data[(data.povertypercent > 15)& (data.povertypercent<=20)].target_deathrate\n",
    "poverty_categories[\"above\"] = data[data.povertypercent>20].target_deathrate"
   ]
  },
  {
   "cell_type": "code",
   "execution_count": 31,
   "metadata": {},
   "outputs": [
    {
     "name": "stdout",
     "output_type": "stream",
     "text": [
      "Mean death rate per 100000 inhabitants for category poverty_five is 143.72666666666666\n",
      "Mean death rate per 100000 inhabitants for category poverty_fifteen is 167.48189910979224\n",
      "Mean death rate per 100000 inhabitants for category poverty_twenty is 182.6727797001154\n",
      "Mean death rate per 100000 inhabitants for category poverty_above is 193.50134638922842\n"
     ]
    }
   ],
   "source": [
    "## Means in each category\n",
    "\n",
    "for category in poverty_categories:\n",
    "    result = poverty_categories[category].mean()\n",
    "    print(f\"Mean death rate per 100000 inhabitants for category {category} is {result}\")"
   ]
  },
  {
   "cell_type": "code",
   "execution_count": 20,
   "metadata": {},
   "outputs": [
    {
     "data": {
      "image/png": "[encoded data removed]",
      "text/plain": [
       "<Figure size 432x288 with 1 Axes>"
      ]
     },
     "metadata": {
      "needs_background": "light"
     },
     "output_type": "display_data"
    },
    {
     "data": {
      "image/png": "[encoded data removed]",
      "text/plain": [
       "<Figure size 432x288 with 1 Axes>"
      ]
     },
     "metadata": {
      "needs_background": "light"
     },
     "output_type": "display_data"
    }
   ],
   "source": [
    "# plots\n",
    "plt.hist(data.povertypercent,bins=20)\n",
    "plt.title(\"Number of counties by percentage of population below powerty line\")\n",
    "plt.xlabel(\"Pct of population below powerty line\")\n",
    "plt.ylabel(\"Number of counties\")\n",
    "plt.show()\n",
    "plt.scatter(data.povertypercent,data.target_deathrate)\n",
    "plt.title(\"Cancert deathrate by percentage ofpopulation below powerty line\")\n",
    "plt.xlabel(\"Pct of population in poverty\")\n",
    "plt.ylabel(\"Cancer deaths per 100000 inh\")\n",
    "plt.show()"
   ]
  },
  {
   "cell_type": "code",
   "execution_count": 35,
   "metadata": {},
   "outputs": [
    {
     "data": {
      "text/plain": [
       "LeveneResult(statistic=29.861396732088522, pvalue=5.06421609886636e-19)"
      ]
     },
     "execution_count": 35,
     "metadata": {},
     "output_type": "execute_result"
    }
   ],
   "source": [
    "## Difference means\n",
    "\n",
    "stats.levene(poverty_categories[\"five\"],poverty_categories[\"fifteen\"]\n",
    "             ,poverty_categories[\"twenty\"],poverty_categories[\"above\"])"
   ]
  },
  {
   "cell_type": "code",
   "execution_count": 36,
   "metadata": {},
   "outputs": [
    {
     "data": {
      "text/plain": [
       "KstestResult(statistic=0.5808605341246291, pvalue=2.8343506071393243e-05)"
      ]
     },
     "execution_count": 36,
     "metadata": {},
     "output_type": "execute_result"
    }
   ],
   "source": [
    "## unequal variance - kstest\n",
    "\n",
    "stats.kstest(poverty_categories[\"five\"],poverty_categories[\"fifteen\"]\n",
    "             ,poverty_categories[\"twenty\"],poverty_categories[\"above\"])"
   ]
  },
  {
   "cell_type": "code",
   "execution_count": 38,
   "metadata": {},
   "outputs": [
    {
     "data": {
      "text/plain": [
       "{('five',\n",
       "  'fifteen'): Ttest_indResult(statistic=-6.244020026892515, pvalue=1.6687465406059057e-05),\n",
       " ('five',\n",
       "  'twenty'): Ttest_indResult(statistic=-10.163581094073367, pvalue=3.4866123497703165e-08),\n",
       " ('five',\n",
       "  'above'): Ttest_indResult(statistic=-12.746314239640439, pvalue=6.12950170710276e-10),\n",
       " ('fifteen',\n",
       "  'five'): Ttest_indResult(statistic=6.244020026892515, pvalue=1.6687465406059057e-05),\n",
       " ('fifteen',\n",
       "  'twenty'): Ttest_indResult(statistic=-15.142544902139852, pvalue=6.206127847172289e-49),\n",
       " ('fifteen',\n",
       "  'above'): Ttest_indResult(statistic=-20.752940514431902, pvalue=2.153214225886473e-83),\n",
       " ('twenty',\n",
       "  'five'): Ttest_indResult(statistic=10.163581094073367, pvalue=3.4866123497703165e-08),\n",
       " ('twenty',\n",
       "  'fifteen'): Ttest_indResult(statistic=15.142544902139852, pvalue=6.206127847172289e-49),\n",
       " ('twenty',\n",
       "  'above'): Ttest_indResult(statistic=-8.112778113535024, pvalue=1.0189010332192682e-15),\n",
       " ('above',\n",
       "  'five'): Ttest_indResult(statistic=12.746314239640439, pvalue=6.12950170710276e-10),\n",
       " ('above',\n",
       "  'fifteen'): Ttest_indResult(statistic=20.752940514431902, pvalue=2.153214225886473e-83),\n",
       " ('above',\n",
       "  'twenty'): Ttest_indResult(statistic=8.112778113535024, pvalue=1.0189010332192682e-15)}"
      ]
     },
     "execution_count": 38,
     "metadata": {},
     "output_type": "execute_result"
    }
   ],
   "source": [
    "## post hoc\n",
    "\n",
    "t_results = {}\n",
    "\n",
    "for category in poverty_categories:\n",
    "    for category1 in poverty_categories:\n",
    "        if category == category1:\n",
    "            pass\n",
    "        else:\n",
    "            t_results[(category,category1)] = stats.ttest_ind(poverty_categories[category],poverty_categories[category1], equal_var=False)\n",
    "            \n",
    "t_results"
   ]
  },
  {
   "cell_type": "code",
   "execution_count": 21,
   "metadata": {},
   "outputs": [
    {
     "data": {
      "text/plain": [
       "count      3047.000000\n",
       "mean      47063.281917\n",
       "std       12040.090836\n",
       "min       22640.000000\n",
       "25%       38882.500000\n",
       "50%       45207.000000\n",
       "75%       52492.000000\n",
       "max      125635.000000\n",
       "Name: medincome, dtype: float64"
      ]
     },
     "execution_count": 21,
     "metadata": {},
     "output_type": "execute_result"
    }
   ],
   "source": [
    "# the same, but by median income\n",
    "data.medincome.describe()"
   ]
  },
  {
   "cell_type": "code",
   "execution_count": 89,
   "metadata": {},
   "outputs": [],
   "source": [
    "median_categories = {}\n",
    "median_categories[\"below 38k\"] = data[data.medincome <= 38000]\n",
    "median_categories[\"below 45k\"] = data[(data.medincome >38000)&(data.medincome<=45000)]\n",
    "median_categories[\"below 60k\"] = data[(data.medincome > 45000)& (data.medincome<=60000)]\n",
    "median_categories[\"above\"] = data[data.medincome>60000]"
   ]
  },
  {
   "cell_type": "code",
   "execution_count": 91,
   "metadata": {},
   "outputs": [
    {
     "name": "stdout",
     "output_type": "stream",
     "text": [
      "Mean death rate per 100000 inhabitants for median income category below 38k is 196.7868343195266\n",
      "Mean death rate per 100000 inhabitants for median income category below 45k is 182.8380315917374\n",
      "Mean death rate per 100000 inhabitants for median income category below 60k is 171.00266889074226\n",
      "Mean death rate per 100000 inhabitants for median income category above is 160.0389684813754\n"
     ]
    }
   ],
   "source": [
    "for category in median_categories:\n",
    "    result = median_categories[category].target_deathrate.mean()\n",
    "    print(f\"Mean death rate per 100000 inhabitants for median income category {category} is {result}\")"
   ]
  },
  {
   "cell_type": "code",
   "execution_count": 30,
   "metadata": {},
   "outputs": [
    {
     "data": {
      "image/png": "[encoded data removed]",
      "text/plain": [
       "<Figure size 432x288 with 1 Axes>"
      ]
     },
     "metadata": {
      "needs_background": "light"
     },
     "output_type": "display_data"
    },
    {
     "data": {
      "image/png": "[encoded data removed]",
      "text/plain": [
       "<Figure size 432x288 with 1 Axes>"
      ]
     },
     "metadata": {
      "needs_background": "light"
     },
     "output_type": "display_data"
    }
   ],
   "source": [
    "# plots\n",
    "plt.hist(data.medincome,bins=20)\n",
    "plt.title(\"Number of counties by median income\")\n",
    "plt.xlabel(\"Median income\")\n",
    "plt.ylabel(\"Number of counties\")\n",
    "plt.show()\n",
    "plt.scatter(data.medincome,data.target_deathrate)\n",
    "plt.title(\"Cancert deathrate by median income in county\")\n",
    "plt.xlabel(\"Median income\")\n",
    "plt.ylabel(\"Cancer deaths per 100000 inh\")\n",
    "plt.show()"
   ]
  },
  {
   "cell_type": "code",
   "execution_count": 29,
   "metadata": {},
   "outputs": [
    {
     "data": {
      "text/plain": [
       "LeveneResult(statistic=25.56675559803035, pvalue=2.487600647327719e-16)"
      ]
     },
     "execution_count": 29,
     "metadata": {},
     "output_type": "execute_result"
    }
   ],
   "source": [
    "# checking variance \n",
    "stats.levene(median_categories[\"below 38k\"],median_categories[\"below 45k\"]\n",
    "             ,median_categories[\"above\"],median_categories[\"below 60k\"])"
   ]
  },
  {
   "cell_type": "code",
   "execution_count": 31,
   "metadata": {},
   "outputs": [
    {
     "data": {
      "text/plain": [
       "KstestResult(statistic=0.2343802799686527, pvalue=1.9984014443252818e-15)"
      ]
     },
     "execution_count": 31,
     "metadata": {},
     "output_type": "execute_result"
    }
   ],
   "source": [
    "# kstest for unequal variances\n",
    "stats.kstest(median_categories[\"below 38k\"],median_categories[\"below 45k\"]\n",
    "             ,median_categories[\"above\"],median_categories[\"below 60k\"])"
   ]
  },
  {
   "cell_type": "code",
   "execution_count": 32,
   "metadata": {},
   "outputs": [
    {
     "data": {
      "text/plain": [
       "{('below 38k',\n",
       "  'below 45k'): Ttest_indResult(statistic=9.479756773677975, pvalue=1.1430511477629795e-20),\n",
       " ('below 38k',\n",
       "  'below 60k'): Ttest_indResult(statistic=19.383987207708095, pvalue=5.984337109411471e-72),\n",
       " ('below 38k',\n",
       "  'above'): Ttest_indResult(statistic=21.395839863636677, pvalue=4.7493776322350666e-82),\n",
       " ('below 45k',\n",
       "  'below 38k'): Ttest_indResult(statistic=-9.479756773677975, pvalue=1.1430511477629795e-20),\n",
       " ('below 45k',\n",
       "  'below 60k'): Ttest_indResult(statistic=10.88306072626331, pvalue=1.1971584318976725e-26),\n",
       " ('below 45k',\n",
       "  'above'): Ttest_indResult(statistic=14.830949326578002, pvalue=1.5380050347118455e-43),\n",
       " ('below 60k',\n",
       "  'below 38k'): Ttest_indResult(statistic=-19.383987207708095, pvalue=5.984337109411471e-72),\n",
       " ('below 60k',\n",
       "  'below 45k'): Ttest_indResult(statistic=-10.88306072626331, pvalue=1.1971584318976725e-26),\n",
       " ('below 60k',\n",
       "  'above'): Ttest_indResult(statistic=7.816385902564969, pvalue=2.9119785224988583e-14),\n",
       " ('above',\n",
       "  'below 38k'): Ttest_indResult(statistic=-21.395839863636677, pvalue=4.7493776322350666e-82),\n",
       " ('above',\n",
       "  'below 45k'): Ttest_indResult(statistic=-14.830949326578002, pvalue=1.5380050347118455e-43),\n",
       " ('above',\n",
       "  'below 60k'): Ttest_indResult(statistic=-7.816385902564969, pvalue=2.9119785224988583e-14)}"
      ]
     },
     "execution_count": 32,
     "metadata": {},
     "output_type": "execute_result"
    }
   ],
   "source": [
    "t_results = {}\n",
    "\n",
    "for category in median_categories:\n",
    "    for category1 in median_categories:\n",
    "        if category == category1:\n",
    "            pass\n",
    "        else:\n",
    "            t_results[(category,category1)] = stats.ttest_ind(median_categories[category],median_categories[category1], equal_var=False)\n",
    "            \n",
    "t_results"
   ]
  },
  {
   "cell_type": "code",
   "execution_count": 90,
   "metadata": {},
   "outputs": [
    {
     "name": "stdout",
     "output_type": "stream",
     "text": [
      "Mean incidence rate per 100000 inhabitants for category below 38k is 445.04800039393484\n",
      "Mean incidence rate per 100000 inhabitants for category below 45k is 449.1576903956267\n",
      "Mean incidence rate per 100000 inhabitants for category below 60k is 449.81006644862373\n",
      "Mean incidence rate per 100000 inhabitants for category above is 447.1142802830942\n"
     ]
    }
   ],
   "source": [
    "# mean incidence rates per income groups\n",
    "for category in median_categories:\n",
    "    result = median_categories[category].incidencerate.mean()\n",
    "    print(f\"Mean incidence rate per 100000 inhabitants for category {category} is {result}\")"
   ]
  },
  {
   "cell_type": "code",
   "execution_count": 92,
   "metadata": {},
   "outputs": [
    {
     "data": {
      "text/plain": [
       "KstestResult(statistic=0.06467714452105516, pvalue=0.08475712223747345)"
      ]
     },
     "execution_count": 92,
     "metadata": {},
     "output_type": "execute_result"
    }
   ],
   "source": [
    "# ks test for mean differences\n",
    "stats.kstest(median_categories[\"below 38k\"].incidencerate,median_categories[\"below 45k\"].incidencerate\n",
    "             ,median_categories[\"above\"].incidencerate,median_categories[\"below 60k\"].incidencerate)"
   ]
  },
  {
   "cell_type": "markdown",
   "metadata": {},
   "source": [
    "Interestingly, mean income in county does not directly affect cancer incidence rates. Let's check case/death ratio\n"
   ]
  },
  {
   "cell_type": "code",
   "execution_count": 93,
   "metadata": {},
   "outputs": [
    {
     "name": "stdout",
     "output_type": "stream",
     "text": [
      "Mean ratio for category below 38k is 0.44216991008911505\n",
      "Mean ratio for category below 45k is 0.40706868768224846\n",
      "Mean ratio for category below 60k is 0.38016638942933434\n",
      "Mean ratio for category above is 0.3579375017502133\n"
     ]
    }
   ],
   "source": [
    "# mean death/incident ratio\n",
    "for category in median_categories:\n",
    "    result = median_categories[category].target_deathrate.mean() / median_categories[category].incidencerate.mean()\n",
    "    print(f\"Mean ratio for category {category} is {result}\")"
   ]
  },
  {
   "cell_type": "code",
   "execution_count": 95,
   "metadata": {},
   "outputs": [
    {
     "data": {
      "text/plain": [
       "{('below 38k',\n",
       "  'below 45k'): Ttest_indResult(statistic=-11.625169961458287, pvalue=5.962732265221404e-30),\n",
       " ('below 38k',\n",
       "  'below 60k'): Ttest_indResult(statistic=-23.45956247144216, pvalue=4.4608147757656337e-104),\n",
       " ('below 38k',\n",
       "  'above'): Ttest_indResult(statistic=-22.08350916608537, pvalue=1.000268089905324e-78),\n",
       " ('below 45k',\n",
       "  'below 38k'): Ttest_indResult(statistic=11.625169961458287, pvalue=5.962732265221404e-30),\n",
       " ('below 45k',\n",
       "  'below 60k'): Ttest_indResult(statistic=-11.165769452684929, pvalue=4.893205251147535e-28),\n",
       " ('below 45k',\n",
       "  'above'): Ttest_indResult(statistic=-14.215190727110143, pvalue=1.917308070995933e-39),\n",
       " ('below 60k',\n",
       "  'below 38k'): Ttest_indResult(statistic=23.45956247144216, pvalue=4.4608147757656337e-104),\n",
       " ('below 60k',\n",
       "  'below 45k'): Ttest_indResult(statistic=11.165769452684929, pvalue=4.893205251147535e-28),\n",
       " ('below 60k',\n",
       "  'above'): Ttest_indResult(statistic=-7.401192849628535, pvalue=5.614494039988118e-13),\n",
       " ('above',\n",
       "  'below 38k'): Ttest_indResult(statistic=22.08350916608537, pvalue=1.000268089905324e-78),\n",
       " ('above',\n",
       "  'below 45k'): Ttest_indResult(statistic=14.215190727110143, pvalue=1.917308070995933e-39),\n",
       " ('above',\n",
       "  'below 60k'): Ttest_indResult(statistic=7.401192849628535, pvalue=5.614494039988118e-13)}"
      ]
     },
     "execution_count": 95,
     "metadata": {},
     "output_type": "execute_result"
    }
   ],
   "source": [
    "# as it is clearly different, let's run ttests straight away\n",
    "t_results = {}\n",
    "\n",
    "for category in median_categories:\n",
    "    for category1 in median_categories:\n",
    "        if category == category1:\n",
    "            pass\n",
    "        else:\n",
    "            t_results[(category,category1)] = stats.ttest_ind(median_categories[category].incidencerate/median_categories[category].target_deathrate,median_categories[category1].incidencerate/median_categories[category1].target_deathrate, equal_var=False)\n",
    "            \n",
    "t_results"
   ]
  },
  {
   "cell_type": "markdown",
   "metadata": {},
   "source": [
    "#### Statistical tests imply that there is a significant difference in cancer deathrates between counties with lower and hihger income and poverty percentage. Suprisingly, the incidence rate is not different between income groups. The real difference here is tied to healthcare access, as couties with lower median income have higher death/incident ratio. Further analysis will show how these numbers are tied to healthcare insurance provider"
   ]
  },
  {
   "cell_type": "markdown",
   "metadata": {},
   "source": []
  },
  {
   "cell_type": "markdown",
   "metadata": {},
   "source": [
    "## Now let's look into statistics concerning healthcare provider"
   ]
  },
  {
   "cell_type": "code",
   "execution_count": 55,
   "metadata": {
    "collapsed": true
   },
   "outputs": [
    {
     "name": "stderr",
     "output_type": "stream",
     "text": [
      "<ipython-input-55-46888051a1f5>:4: SettingWithCopyWarning: \n",
      "A value is trying to be set on a copy of a slice from a DataFrame.\n",
      "Try using .loc[row_indexer,col_indexer] = value instead\n",
      "\n",
      "See the caveats in the documentation: https://pandas.pydata.org/pandas-docs/stable/user_guide/indexing.html#returning-a-view-versus-a-copy\n",
      "  data_healthcare[\"income\"] = 0\n",
      "<ipython-input-55-46888051a1f5>:13: SettingWithCopyWarning: \n",
      "A value is trying to be set on a copy of a slice from a DataFrame\n",
      "\n",
      "See the caveats in the documentation: https://pandas.pydata.org/pandas-docs/stable/user_guide/indexing.html#returning-a-view-versus-a-copy\n",
      "  data_healthcare[\"income\"][x] = \"high\"\n",
      "C:\\Users\\szklarnia\\anaconda3\\lib\\site-packages\\pandas\\core\\indexing.py:671: SettingWithCopyWarning: \n",
      "A value is trying to be set on a copy of a slice from a DataFrame\n",
      "\n",
      "See the caveats in the documentation: https://pandas.pydata.org/pandas-docs/stable/user_guide/indexing.html#returning-a-view-versus-a-copy\n",
      "  self._setitem_with_indexer(indexer, value)\n",
      "C:\\Users\\szklarnia\\anaconda3\\lib\\site-packages\\pandas\\core\\series.py:1024: SettingWithCopyWarning: \n",
      "A value is trying to be set on a copy of a slice from a DataFrame\n",
      "\n",
      "See the caveats in the documentation: https://pandas.pydata.org/pandas-docs/stable/user_guide/indexing.html#returning-a-view-versus-a-copy\n",
      "  self.loc[key] = value\n",
      "C:\\Users\\szklarnia\\anaconda3\\lib\\site-packages\\IPython\\core\\interactiveshell.py:3343: SettingWithCopyWarning: \n",
      "A value is trying to be set on a copy of a slice from a DataFrame\n",
      "\n",
      "See the caveats in the documentation: https://pandas.pydata.org/pandas-docs/stable/user_guide/indexing.html#returning-a-view-versus-a-copy\n",
      "  exec(code_obj, self.user_global_ns, self.user_ns)\n",
      "<ipython-input-55-46888051a1f5>:11: SettingWithCopyWarning: \n",
      "A value is trying to be set on a copy of a slice from a DataFrame\n",
      "\n",
      "See the caveats in the documentation: https://pandas.pydata.org/pandas-docs/stable/user_guide/indexing.html#returning-a-view-versus-a-copy\n",
      "  data_healthcare[\"income\"][x] = \"med_high\"\n",
      "<ipython-input-55-46888051a1f5>:9: SettingWithCopyWarning: \n",
      "A value is trying to be set on a copy of a slice from a DataFrame\n",
      "\n",
      "See the caveats in the documentation: https://pandas.pydata.org/pandas-docs/stable/user_guide/indexing.html#returning-a-view-versus-a-copy\n",
      "  data_healthcare[\"income\"][x] = \"med_low\"\n",
      "<ipython-input-55-46888051a1f5>:7: SettingWithCopyWarning: \n",
      "A value is trying to be set on a copy of a slice from a DataFrame\n",
      "\n",
      "See the caveats in the documentation: https://pandas.pydata.org/pandas-docs/stable/user_guide/indexing.html#returning-a-view-versus-a-copy\n",
      "  data_healthcare[\"income\"][x] = \"low\"\n"
     ]
    }
   ],
   "source": [
    "## We'll take into account the income data \n",
    "data_healthcare = data[[\"target_deathrate\",\"pctprivatecoverage\", 'pctprivatecoveragealone', 'pctempprivcoverage',\n",
    "       'pctpubliccoverage', 'pctpubliccoveragealone',\"medincome\"]]\n",
    "# creating variable dividing counties in four groups by median income\n",
    "data_healthcare[\"income\"] = 0\n",
    "for x in range(len(data_healthcare.medincome)):\n",
    "    if data_healthcare.medincome[x]<=35000:\n",
    "        data_healthcare[\"income\"][x] = \"low\"\n",
    "    elif data_healthcare.medincome[x]>35000 and data_healthcare.medincome[x]<=45000:\n",
    "        data_healthcare[\"income\"][x] = \"med_low\"\n",
    "    elif data_healthcare.medincome[x]>45000 and data_healthcare.medincome[x]<=60000:\n",
    "        data_healthcare[\"income\"][x] = \"med_high\"\n",
    "    elif data_healthcare.medincome[x]>60000:\n",
    "        data_healthcare[\"income\"][x] = \"high\"\n",
    "\n"
   ]
  },
  {
   "cell_type": "code",
   "execution_count": 59,
   "metadata": {},
   "outputs": [
    {
     "data": {
      "text/html": [
       "<div>\n",
       "<style scoped>\n",
       "    .dataframe tbody tr th:only-of-type {\n",
       "        vertical-align: middle;\n",
       "    }\n",
       "\n",
       "    .dataframe tbody tr th {\n",
       "        vertical-align: top;\n",
       "    }\n",
       "\n",
       "    .dataframe thead th {\n",
       "        text-align: right;\n",
       "    }\n",
       "</style>\n",
       "<table border=\"1\" class=\"dataframe\">\n",
       "  <thead>\n",
       "    <tr style=\"text-align: right;\">\n",
       "      <th></th>\n",
       "      <th>target_deathrate</th>\n",
       "      <th>pctprivatecoverage</th>\n",
       "      <th>pctprivatecoveragealone</th>\n",
       "      <th>pctempprivcoverage</th>\n",
       "      <th>pctpubliccoverage</th>\n",
       "      <th>pctpubliccoveragealone</th>\n",
       "      <th>medincome</th>\n",
       "    </tr>\n",
       "    <tr>\n",
       "      <th>income</th>\n",
       "      <th></th>\n",
       "      <th></th>\n",
       "      <th></th>\n",
       "      <th></th>\n",
       "      <th></th>\n",
       "      <th></th>\n",
       "      <th></th>\n",
       "    </tr>\n",
       "  </thead>\n",
       "  <tbody>\n",
       "    <tr>\n",
       "      <th>high</th>\n",
       "      <td>160.038968</td>\n",
       "      <td>76.316905</td>\n",
       "      <td>62.398182</td>\n",
       "      <td>53.888825</td>\n",
       "      <td>25.238109</td>\n",
       "      <td>12.053868</td>\n",
       "      <td>71466.128940</td>\n",
       "    </tr>\n",
       "    <tr>\n",
       "      <th>low</th>\n",
       "      <td>201.006349</td>\n",
       "      <td>49.265079</td>\n",
       "      <td>35.429739</td>\n",
       "      <td>30.051587</td>\n",
       "      <td>45.839153</td>\n",
       "      <td>27.871693</td>\n",
       "      <td>31817.841270</td>\n",
       "    </tr>\n",
       "    <tr>\n",
       "      <th>med_high</th>\n",
       "      <td>171.002669</td>\n",
       "      <td>69.549291</td>\n",
       "      <td>53.070674</td>\n",
       "      <td>44.922602</td>\n",
       "      <td>33.272644</td>\n",
       "      <td>16.519766</td>\n",
       "      <td>51093.156797</td>\n",
       "    </tr>\n",
       "    <tr>\n",
       "      <th>med_low</th>\n",
       "      <td>185.123283</td>\n",
       "      <td>60.163336</td>\n",
       "      <td>43.627915</td>\n",
       "      <td>37.017217</td>\n",
       "      <td>39.636574</td>\n",
       "      <td>21.476360</td>\n",
       "      <td>40296.433541</td>\n",
       "    </tr>\n",
       "  </tbody>\n",
       "</table>\n",
       "</div>"
      ],
      "text/plain": [
       "          target_deathrate  pctprivatecoverage  pctprivatecoveragealone  \\\n",
       "income                                                                    \n",
       "high            160.038968           76.316905                62.398182   \n",
       "low             201.006349           49.265079                35.429739   \n",
       "med_high        171.002669           69.549291                53.070674   \n",
       "med_low         185.123283           60.163336                43.627915   \n",
       "\n",
       "          pctempprivcoverage  pctpubliccoverage  pctpubliccoveragealone  \\\n",
       "income                                                                    \n",
       "high               53.888825          25.238109               12.053868   \n",
       "low                30.051587          45.839153               27.871693   \n",
       "med_high           44.922602          33.272644               16.519766   \n",
       "med_low            37.017217          39.636574               21.476360   \n",
       "\n",
       "             medincome  \n",
       "income                  \n",
       "high      71466.128940  \n",
       "low       31817.841270  \n",
       "med_high  51093.156797  \n",
       "med_low   40296.433541  "
      ]
     },
     "execution_count": 59,
     "metadata": {},
     "output_type": "execute_result"
    }
   ],
   "source": [
    "#mean percent of insured by provider per income categories\n",
    "data_healthcare.groupby(\"income\").mean()"
   ]
  },
  {
   "cell_type": "code",
   "execution_count": 60,
   "metadata": {},
   "outputs": [
    {
     "data": {
      "text/html": [
       "<div>\n",
       "<style scoped>\n",
       "    .dataframe tbody tr th:only-of-type {\n",
       "        vertical-align: middle;\n",
       "    }\n",
       "\n",
       "    .dataframe tbody tr th {\n",
       "        vertical-align: top;\n",
       "    }\n",
       "\n",
       "    .dataframe thead th {\n",
       "        text-align: right;\n",
       "    }\n",
       "</style>\n",
       "<table border=\"1\" class=\"dataframe\">\n",
       "  <thead>\n",
       "    <tr style=\"text-align: right;\">\n",
       "      <th></th>\n",
       "      <th>target_deathrate</th>\n",
       "      <th>pctprivatecoverage</th>\n",
       "      <th>pctprivatecoveragealone</th>\n",
       "      <th>pctempprivcoverage</th>\n",
       "      <th>pctpubliccoverage</th>\n",
       "      <th>pctpubliccoveragealone</th>\n",
       "      <th>medincome</th>\n",
       "      <th>income</th>\n",
       "    </tr>\n",
       "  </thead>\n",
       "  <tbody>\n",
       "    <tr>\n",
       "      <th>25</th>\n",
       "      <td>196.3</td>\n",
       "      <td>56.1</td>\n",
       "      <td>41.9</td>\n",
       "      <td>38.9</td>\n",
       "      <td>43.4</td>\n",
       "      <td>25.4</td>\n",
       "      <td>33817</td>\n",
       "      <td>low</td>\n",
       "    </tr>\n",
       "    <tr>\n",
       "      <th>27</th>\n",
       "      <td>194.0</td>\n",
       "      <td>63.3</td>\n",
       "      <td>48.2</td>\n",
       "      <td>44.4</td>\n",
       "      <td>39.0</td>\n",
       "      <td>21.7</td>\n",
       "      <td>34887</td>\n",
       "      <td>low</td>\n",
       "    </tr>\n",
       "    <tr>\n",
       "      <th>28</th>\n",
       "      <td>226.5</td>\n",
       "      <td>52.4</td>\n",
       "      <td>36.5</td>\n",
       "      <td>35.1</td>\n",
       "      <td>46.0</td>\n",
       "      <td>25.2</td>\n",
       "      <td>32162</td>\n",
       "      <td>low</td>\n",
       "    </tr>\n",
       "    <tr>\n",
       "      <th>29</th>\n",
       "      <td>212.9</td>\n",
       "      <td>48.7</td>\n",
       "      <td>33.7</td>\n",
       "      <td>32.6</td>\n",
       "      <td>52.0</td>\n",
       "      <td>32.5</td>\n",
       "      <td>32961</td>\n",
       "      <td>low</td>\n",
       "    </tr>\n",
       "    <tr>\n",
       "      <th>32</th>\n",
       "      <td>209.9</td>\n",
       "      <td>61.3</td>\n",
       "      <td>NaN</td>\n",
       "      <td>41.2</td>\n",
       "      <td>39.0</td>\n",
       "      <td>18.8</td>\n",
       "      <td>32705</td>\n",
       "      <td>low</td>\n",
       "    </tr>\n",
       "    <tr>\n",
       "      <th>...</th>\n",
       "      <td>...</td>\n",
       "      <td>...</td>\n",
       "      <td>...</td>\n",
       "      <td>...</td>\n",
       "      <td>...</td>\n",
       "      <td>...</td>\n",
       "      <td>...</td>\n",
       "      <td>...</td>\n",
       "    </tr>\n",
       "    <tr>\n",
       "      <th>2843</th>\n",
       "      <td>218.3</td>\n",
       "      <td>61.0</td>\n",
       "      <td>46.6</td>\n",
       "      <td>40.0</td>\n",
       "      <td>41.6</td>\n",
       "      <td>23.6</td>\n",
       "      <td>33640</td>\n",
       "      <td>low</td>\n",
       "    </tr>\n",
       "    <tr>\n",
       "      <th>2844</th>\n",
       "      <td>217.0</td>\n",
       "      <td>49.6</td>\n",
       "      <td>32.9</td>\n",
       "      <td>26.7</td>\n",
       "      <td>52.8</td>\n",
       "      <td>31.1</td>\n",
       "      <td>30744</td>\n",
       "      <td>low</td>\n",
       "    </tr>\n",
       "    <tr>\n",
       "      <th>2845</th>\n",
       "      <td>221.7</td>\n",
       "      <td>51.1</td>\n",
       "      <td>34.6</td>\n",
       "      <td>28.9</td>\n",
       "      <td>48.1</td>\n",
       "      <td>28.8</td>\n",
       "      <td>30860</td>\n",
       "      <td>low</td>\n",
       "    </tr>\n",
       "    <tr>\n",
       "      <th>2863</th>\n",
       "      <td>171.5</td>\n",
       "      <td>69.1</td>\n",
       "      <td>56.3</td>\n",
       "      <td>43.6</td>\n",
       "      <td>32.7</td>\n",
       "      <td>19.5</td>\n",
       "      <td>34395</td>\n",
       "      <td>low</td>\n",
       "    </tr>\n",
       "    <tr>\n",
       "      <th>2901</th>\n",
       "      <td>192.1</td>\n",
       "      <td>54.6</td>\n",
       "      <td>NaN</td>\n",
       "      <td>33.5</td>\n",
       "      <td>51.6</td>\n",
       "      <td>29.5</td>\n",
       "      <td>33943</td>\n",
       "      <td>low</td>\n",
       "    </tr>\n",
       "  </tbody>\n",
       "</table>\n",
       "<p>378 rows × 8 columns</p>\n",
       "</div>"
      ],
      "text/plain": [
       "      target_deathrate  pctprivatecoverage  pctprivatecoveragealone  \\\n",
       "25               196.3                56.1                     41.9   \n",
       "27               194.0                63.3                     48.2   \n",
       "28               226.5                52.4                     36.5   \n",
       "29               212.9                48.7                     33.7   \n",
       "32               209.9                61.3                      NaN   \n",
       "...                ...                 ...                      ...   \n",
       "2843             218.3                61.0                     46.6   \n",
       "2844             217.0                49.6                     32.9   \n",
       "2845             221.7                51.1                     34.6   \n",
       "2863             171.5                69.1                     56.3   \n",
       "2901             192.1                54.6                      NaN   \n",
       "\n",
       "      pctempprivcoverage  pctpubliccoverage  pctpubliccoveragealone  \\\n",
       "25                  38.9               43.4                    25.4   \n",
       "27                  44.4               39.0                    21.7   \n",
       "28                  35.1               46.0                    25.2   \n",
       "29                  32.6               52.0                    32.5   \n",
       "32                  41.2               39.0                    18.8   \n",
       "...                  ...                ...                     ...   \n",
       "2843                40.0               41.6                    23.6   \n",
       "2844                26.7               52.8                    31.1   \n",
       "2845                28.9               48.1                    28.8   \n",
       "2863                43.6               32.7                    19.5   \n",
       "2901                33.5               51.6                    29.5   \n",
       "\n",
       "      medincome income  \n",
       "25        33817    low  \n",
       "27        34887    low  \n",
       "28        32162    low  \n",
       "29        32961    low  \n",
       "32        32705    low  \n",
       "...         ...    ...  \n",
       "2843      33640    low  \n",
       "2844      30744    low  \n",
       "2845      30860    low  \n",
       "2863      34395    low  \n",
       "2901      33943    low  \n",
       "\n",
       "[378 rows x 8 columns]"
      ]
     },
     "execution_count": 60,
     "metadata": {},
     "output_type": "execute_result"
    }
   ],
   "source": [
    "# looking into data for low income counties\n",
    "low = data_healthcare[data_healthcare.income == \"low\"]\n"
   ]
  },
  {
   "cell_type": "code",
   "execution_count": 77,
   "metadata": {},
   "outputs": [
    {
     "data": {
      "image/png": "[encoded data removed]",
      "text/plain": [
       "<Figure size 432x288 with 1 Axes>"
      ]
     },
     "metadata": {
      "needs_background": "light"
     },
     "output_type": "display_data"
    },
    {
     "data": {
      "image/png": "[encoded data removed]",
      "text/plain": [
       "<Figure size 432x288 with 1 Axes>"
      ]
     },
     "metadata": {
      "needs_background": "light"
     },
     "output_type": "display_data"
    }
   ],
   "source": [
    "# some plots\n",
    "#histogram by percentage of insurance provider\n",
    "plt.hist(data.pctprivatecoverage)\n",
    "plt.title(\"Number of counties by pct of privately insured\")\n",
    "plt.xlabel(\"pct privately insured\")\n",
    "plt.ylabel(\"number of counties\")\n",
    "plt.show()\n",
    "plt.hist(data.pctpubliccoverage)\n",
    "plt.title(\"Number of counties by pct of publicly insured\")\n",
    "plt.xlabel(\"pct publicly insured\")\n",
    "plt.ylabel(\"number of counties\")\n",
    "plt.show()"
   ]
  },
  {
   "cell_type": "code",
   "execution_count": 75,
   "metadata": {},
   "outputs": [
    {
     "data": {
      "image/png": "[encoded data removed]",
      "text/plain": [
       "<Figure size 432x288 with 1 Axes>"
      ]
     },
     "metadata": {
      "needs_background": "light"
     },
     "output_type": "display_data"
    },
    {
     "data": {
      "image/png": "[encoded data removed]",
      "text/plain": [
       "<Figure size 432x288 with 1 Axes>"
      ]
     },
     "metadata": {
      "needs_background": "light"
     },
     "output_type": "display_data"
    }
   ],
   "source": [
    "# percentage of privately insured by income\n",
    "plt.scatter(low.medincome,low.pctprivatecoverage)\n",
    "plt.title(\"Pct of privately insured by median income in low income group\")\n",
    "plt.xlabel(\"Med income\")\n",
    "plt.ylabel(\"Pct of privately insured\")\n",
    "plt.show()\n",
    "plt.scatter(data.medincome,data.pctprivatecoverage)\n",
    "plt.title(\"Pct of privately insured by median income in all income group\")\n",
    "plt.xlabel(\"Med income\")\n",
    "plt.ylabel(\"Pct of privately insured\")\n",
    "plt.show()\n"
   ]
  },
  {
   "cell_type": "code",
   "execution_count": 76,
   "metadata": {},
   "outputs": [
    {
     "data": {
      "image/png": "[encoded data removed]",
      "text/plain": [
       "<Figure size 432x288 with 1 Axes>"
      ]
     },
     "metadata": {
      "needs_background": "light"
     },
     "output_type": "display_data"
    },
    {
     "data": {
      "image/png": "[encoded data removed]",
      "text/plain": [
       "<Figure size 432x288 with 1 Axes>"
      ]
     },
     "metadata": {
      "needs_background": "light"
     },
     "output_type": "display_data"
    }
   ],
   "source": [
    "# percentage of publicly insured by income\n",
    "plt.scatter(low.medincome,low.pctpubliccoverage)\n",
    "plt.title(\"Pct of publicly insured by median income in low income group\")\n",
    "plt.xlabel(\"Med income\")\n",
    "plt.ylabel(\"Pct of publicly insured\")\n",
    "plt.show()\n",
    "plt.scatter(data.medincome,data.pctpubliccoverage)\n",
    "plt.title(\"Pct of publicly insured by median income in all income group\")\n",
    "plt.xlabel(\"Med income\")\n",
    "plt.ylabel(\"Pct of publicly insured\")\n",
    "plt.show()"
   ]
  },
  {
   "cell_type": "markdown",
   "metadata": {},
   "source": [
    "Percentage of privately and publicly insured is heavily reliant from median income, something worth remembering when comparing cancer deathrates by healthcare provider"
   ]
  },
  {
   "cell_type": "code",
   "execution_count": 80,
   "metadata": {},
   "outputs": [
    {
     "data": {
      "image/png": "[encoded data removed]",
      "text/plain": [
       "<Figure size 432x288 with 1 Axes>"
      ]
     },
     "metadata": {
      "needs_background": "light"
     },
     "output_type": "display_data"
    },
    {
     "data": {
      "image/png": "[encoded data removed]",
      "text/plain": [
       "<Figure size 432x288 with 1 Axes>"
      ]
     },
     "metadata": {
      "needs_background": "light"
     },
     "output_type": "display_data"
    }
   ],
   "source": [
    "# cancer deathrate by number of publicly and privately insured\n",
    "plt.scatter(data.pctpubliccoverage,data.target_deathrate)\n",
    "plt.title(\"Deathrate by percentage of publicly insured\")\n",
    "plt.xlabel(\"Pct of publicly insured\")\n",
    "plt.ylabel(\"Deathrate\")\n",
    "plt.show()\n",
    "plt.scatter(data.pctprivatecoverage,data.target_deathrate)\n",
    "plt.title(\"Deathrate by percentage of privately insured\")\n",
    "plt.xlabel(\"Pct of privately insured\")\n",
    "plt.ylabel(\"Deathrate\")\n",
    "plt.show()"
   ]
  },
  {
   "cell_type": "markdown",
   "metadata": {},
   "source": [
    "There seems to be clearly visible correlation between pct of privately and publicly insured and cancer deathrate. Let's run a tt\n",
    "est between low and high percentage of privately and publicly insured to make sure that the effect is statisticly important"
   ]
  },
  {
   "cell_type": "code",
   "execution_count": 96,
   "metadata": {},
   "outputs": [
    {
     "data": {
      "text/plain": [
       "Ttest_indResult(statistic=-11.915712259754685, pvalue=1.260071102590432e-28)"
      ]
     },
     "execution_count": 96,
     "metadata": {},
     "output_type": "execute_result"
    }
   ],
   "source": [
    "#ttest\n",
    "stats.ttest_ind(data[data.pctpubliccoverage < 20].target_deathrate,data[data.pctpubliccoverage > 45].target_deathrate)"
   ]
  },
  {
   "cell_type": "markdown",
   "metadata": {},
   "source": [
    "There is clear difference between pct of publicly insured and death rate. Now let's look how public insurance is tied to quality of healthcare provided, as incidence/death rate."
   ]
  },
  {
   "cell_type": "code",
   "execution_count": 97,
   "metadata": {},
   "outputs": [],
   "source": [
    "#creating categories for pct of publicly insured\n",
    "public_categories = {}\n",
    "\n",
    "public_categories[\"low\"] = data[data.pctpubliccoverage < 20]\n",
    "public_categories[\"med_low\"] = data[(data.pctpubliccoverage >= 20) & (data.pctpubliccoverage < 35)]\n",
    "public_categories[\"med_high\"] = data[(data.pctpubliccoverage >= 35) & (data.pctpubliccoverage < 50)]\n",
    "public_categories[\"high\"] = data[data.pctpubliccoverage > 50]\n"
   ]
  },
  {
   "cell_type": "code",
   "execution_count": 98,
   "metadata": {},
   "outputs": [
    {
     "name": "stdout",
     "output_type": "stream",
     "text": [
      "Mean ratio for category low is 0.346626114688644\n",
      "Mean ratio for category med_low is 0.3779241643167843\n",
      "Mean ratio for category med_high is 0.41254774100937774\n",
      "Mean ratio for category high is 0.44140049123887676\n"
     ]
    }
   ],
   "source": [
    "# incidence/death rate\n",
    "for category in public_categories:\n",
    "    result = public_categories[category].target_deathrate.mean() / public_categories[category].incidencerate.mean()\n",
    "    print(f\"Mean ratio for category {category} is {result}\")"
   ]
  },
  {
   "cell_type": "markdown",
   "metadata": {},
   "source": [
    "These numbers can be seen as a proof of the fact that public isurance provides lower quality healthcare, thus private insurance is better than public. These conclusions are premature. We must take into account, that higher percentage of publicly insured is very much tied to median income in county. In USA public insurance is not universal but rather a for of federal help to poorer citizens. These numbers are very similar to the numbers seen in comparing incidence/death ratio between median income groups. People insured publicly certainly dont have additional money they could spend on higher quality treatments and this explanation seems more probable to me. Further analysis of concrete cases, not on the level of county could prove useful in drawing more detailed conclusions"
   ]
  },
  {
   "cell_type": "markdown",
   "metadata": {},
   "source": [
    "### Analyses conducted above show many inequalities in access to healthcare and in possibility of getting cancer between groups in united states. Black citizens are more likely to get cancer and to die from int than the rest of population. We can also see difference in acces to quality healthcare between richer and poorer counties and between privately and publicly insured. This data is a valuable resource to anyone willing to tackle these inequalities"
   ]
  },
  {
   "cell_type": "markdown",
   "metadata": {},
   "source": [
    "# OLS regression"
   ]
  },
  {
   "cell_type": "markdown",
   "metadata": {},
   "source": [
    "### Creation and evaluation of models"
   ]
  },
  {
   "cell_type": "code",
   "execution_count": 214,
   "metadata": {},
   "outputs": [
    {
     "data": {
      "text/plain": [
       "avganncount                   0\n",
       "avgdeathsperyear              0\n",
       "target_deathrate              0\n",
       "incidencerate                 0\n",
       "medincome                     0\n",
       "popest2015                    0\n",
       "povertypercent                0\n",
       "studypercap                   0\n",
       "binnedinc                     0\n",
       "medianage                     0\n",
       "medianagemale                 0\n",
       "medianagefemale               0\n",
       "geography                     0\n",
       "avghouseholdsize              0\n",
       "percentmarried                0\n",
       "pctnohs18_24                  0\n",
       "pcths18_24                    0\n",
       "pctsomecol18_24            2285\n",
       "pctbachdeg18_24               0\n",
       "pcths25_over                  0\n",
       "pctbachdeg25_over             0\n",
       "pctemployed16_over          152\n",
       "pctunemployed16_over          0\n",
       "pctprivatecoverage            0\n",
       "pctprivatecoveragealone     609\n",
       "pctempprivcoverage            0\n",
       "pctpubliccoverage             0\n",
       "pctpubliccoveragealone        0\n",
       "pctwhite                      0\n",
       "pctblack                      0\n",
       "pctasian                      0\n",
       "pctotherrace                  0\n",
       "pctmarriedhouseholds          0\n",
       "birthrate                     0\n",
       "dtype: int64"
      ]
     },
     "execution_count": 214,
     "metadata": {},
     "output_type": "execute_result"
    }
   ],
   "source": [
    "data.isna().sum()\n"
   ]
  },
  {
   "cell_type": "code",
   "execution_count": 101,
   "metadata": {},
   "outputs": [],
   "source": [
    "#removing columns with lots of nans and non numerical columns\n",
    "data = data.drop([\"pctsomecol18_24\",\"pctemployed16_over\",\"pctprivatecoveragealone\",\"binnedinc\",\"geography\"],axis=1)"
   ]
  },
  {
   "cell_type": "code",
   "execution_count": 102,
   "metadata": {},
   "outputs": [
    {
     "data": {
      "text/html": [
       "<div>\n",
       "<style scoped>\n",
       "    .dataframe tbody tr th:only-of-type {\n",
       "        vertical-align: middle;\n",
       "    }\n",
       "\n",
       "    .dataframe tbody tr th {\n",
       "        vertical-align: top;\n",
       "    }\n",
       "\n",
       "    .dataframe thead th {\n",
       "        text-align: right;\n",
       "    }\n",
       "</style>\n",
       "<table border=\"1\" class=\"dataframe\">\n",
       "  <thead>\n",
       "    <tr style=\"text-align: right;\">\n",
       "      <th></th>\n",
       "      <th>avganncount</th>\n",
       "      <th>avgdeathsperyear</th>\n",
       "      <th>target_deathrate</th>\n",
       "      <th>incidencerate</th>\n",
       "      <th>medincome</th>\n",
       "      <th>popest2015</th>\n",
       "      <th>povertypercent</th>\n",
       "      <th>studypercap</th>\n",
       "      <th>medianage</th>\n",
       "      <th>medianagemale</th>\n",
       "      <th>...</th>\n",
       "      <th>pctprivatecoverage</th>\n",
       "      <th>pctempprivcoverage</th>\n",
       "      <th>pctpubliccoverage</th>\n",
       "      <th>pctpubliccoveragealone</th>\n",
       "      <th>pctwhite</th>\n",
       "      <th>pctblack</th>\n",
       "      <th>pctasian</th>\n",
       "      <th>pctotherrace</th>\n",
       "      <th>pctmarriedhouseholds</th>\n",
       "      <th>birthrate</th>\n",
       "    </tr>\n",
       "  </thead>\n",
       "  <tbody>\n",
       "    <tr>\n",
       "      <th>0</th>\n",
       "      <td>1397.000000</td>\n",
       "      <td>469</td>\n",
       "      <td>164.9</td>\n",
       "      <td>489.800000</td>\n",
       "      <td>61898</td>\n",
       "      <td>260131</td>\n",
       "      <td>11.2</td>\n",
       "      <td>499.748204</td>\n",
       "      <td>39.3</td>\n",
       "      <td>36.9</td>\n",
       "      <td>...</td>\n",
       "      <td>75.1</td>\n",
       "      <td>41.6</td>\n",
       "      <td>32.9</td>\n",
       "      <td>14.0</td>\n",
       "      <td>81.780529</td>\n",
       "      <td>2.594728</td>\n",
       "      <td>4.821857</td>\n",
       "      <td>1.843479</td>\n",
       "      <td>52.856076</td>\n",
       "      <td>6.118831</td>\n",
       "    </tr>\n",
       "    <tr>\n",
       "      <th>1</th>\n",
       "      <td>173.000000</td>\n",
       "      <td>70</td>\n",
       "      <td>161.3</td>\n",
       "      <td>411.600000</td>\n",
       "      <td>48127</td>\n",
       "      <td>43269</td>\n",
       "      <td>18.6</td>\n",
       "      <td>23.111234</td>\n",
       "      <td>33.0</td>\n",
       "      <td>32.2</td>\n",
       "      <td>...</td>\n",
       "      <td>70.2</td>\n",
       "      <td>43.6</td>\n",
       "      <td>31.1</td>\n",
       "      <td>15.3</td>\n",
       "      <td>89.228509</td>\n",
       "      <td>0.969102</td>\n",
       "      <td>2.246233</td>\n",
       "      <td>3.741352</td>\n",
       "      <td>45.372500</td>\n",
       "      <td>4.333096</td>\n",
       "    </tr>\n",
       "    <tr>\n",
       "      <th>2</th>\n",
       "      <td>102.000000</td>\n",
       "      <td>50</td>\n",
       "      <td>174.7</td>\n",
       "      <td>349.700000</td>\n",
       "      <td>49348</td>\n",
       "      <td>21026</td>\n",
       "      <td>14.6</td>\n",
       "      <td>47.560164</td>\n",
       "      <td>45.0</td>\n",
       "      <td>44.0</td>\n",
       "      <td>...</td>\n",
       "      <td>63.7</td>\n",
       "      <td>34.9</td>\n",
       "      <td>42.1</td>\n",
       "      <td>21.1</td>\n",
       "      <td>90.922190</td>\n",
       "      <td>0.739673</td>\n",
       "      <td>0.465898</td>\n",
       "      <td>2.747358</td>\n",
       "      <td>54.444868</td>\n",
       "      <td>3.729488</td>\n",
       "    </tr>\n",
       "    <tr>\n",
       "      <th>3</th>\n",
       "      <td>427.000000</td>\n",
       "      <td>202</td>\n",
       "      <td>194.8</td>\n",
       "      <td>430.400000</td>\n",
       "      <td>44243</td>\n",
       "      <td>75882</td>\n",
       "      <td>17.1</td>\n",
       "      <td>342.637253</td>\n",
       "      <td>42.8</td>\n",
       "      <td>42.2</td>\n",
       "      <td>...</td>\n",
       "      <td>58.4</td>\n",
       "      <td>35.0</td>\n",
       "      <td>45.3</td>\n",
       "      <td>25.0</td>\n",
       "      <td>91.744686</td>\n",
       "      <td>0.782626</td>\n",
       "      <td>1.161359</td>\n",
       "      <td>1.362643</td>\n",
       "      <td>51.021514</td>\n",
       "      <td>4.603841</td>\n",
       "    </tr>\n",
       "    <tr>\n",
       "      <th>4</th>\n",
       "      <td>57.000000</td>\n",
       "      <td>26</td>\n",
       "      <td>144.4</td>\n",
       "      <td>350.100000</td>\n",
       "      <td>49955</td>\n",
       "      <td>10321</td>\n",
       "      <td>12.5</td>\n",
       "      <td>0.000000</td>\n",
       "      <td>48.3</td>\n",
       "      <td>47.8</td>\n",
       "      <td>...</td>\n",
       "      <td>61.6</td>\n",
       "      <td>35.1</td>\n",
       "      <td>44.0</td>\n",
       "      <td>22.7</td>\n",
       "      <td>94.104024</td>\n",
       "      <td>0.270192</td>\n",
       "      <td>0.665830</td>\n",
       "      <td>0.492135</td>\n",
       "      <td>54.027460</td>\n",
       "      <td>6.796657</td>\n",
       "    </tr>\n",
       "    <tr>\n",
       "      <th>...</th>\n",
       "      <td>...</td>\n",
       "      <td>...</td>\n",
       "      <td>...</td>\n",
       "      <td>...</td>\n",
       "      <td>...</td>\n",
       "      <td>...</td>\n",
       "      <td>...</td>\n",
       "      <td>...</td>\n",
       "      <td>...</td>\n",
       "      <td>...</td>\n",
       "      <td>...</td>\n",
       "      <td>...</td>\n",
       "      <td>...</td>\n",
       "      <td>...</td>\n",
       "      <td>...</td>\n",
       "      <td>...</td>\n",
       "      <td>...</td>\n",
       "      <td>...</td>\n",
       "      <td>...</td>\n",
       "      <td>...</td>\n",
       "      <td>...</td>\n",
       "    </tr>\n",
       "    <tr>\n",
       "      <th>3042</th>\n",
       "      <td>1962.667684</td>\n",
       "      <td>15</td>\n",
       "      <td>149.6</td>\n",
       "      <td>453.549422</td>\n",
       "      <td>46961</td>\n",
       "      <td>6343</td>\n",
       "      <td>12.4</td>\n",
       "      <td>0.000000</td>\n",
       "      <td>44.2</td>\n",
       "      <td>41.1</td>\n",
       "      <td>...</td>\n",
       "      <td>78.3</td>\n",
       "      <td>44.6</td>\n",
       "      <td>31.7</td>\n",
       "      <td>13.2</td>\n",
       "      <td>90.280811</td>\n",
       "      <td>3.837754</td>\n",
       "      <td>0.327613</td>\n",
       "      <td>1.700468</td>\n",
       "      <td>51.063830</td>\n",
       "      <td>7.773512</td>\n",
       "    </tr>\n",
       "    <tr>\n",
       "      <th>3043</th>\n",
       "      <td>1962.667684</td>\n",
       "      <td>43</td>\n",
       "      <td>150.1</td>\n",
       "      <td>453.549422</td>\n",
       "      <td>48609</td>\n",
       "      <td>37118</td>\n",
       "      <td>18.8</td>\n",
       "      <td>377.175494</td>\n",
       "      <td>30.4</td>\n",
       "      <td>29.3</td>\n",
       "      <td>...</td>\n",
       "      <td>64.5</td>\n",
       "      <td>48.6</td>\n",
       "      <td>28.8</td>\n",
       "      <td>17.7</td>\n",
       "      <td>75.706245</td>\n",
       "      <td>2.326771</td>\n",
       "      <td>4.044920</td>\n",
       "      <td>14.130288</td>\n",
       "      <td>52.007937</td>\n",
       "      <td>8.186470</td>\n",
       "    </tr>\n",
       "    <tr>\n",
       "      <th>3044</th>\n",
       "      <td>1962.667684</td>\n",
       "      <td>46</td>\n",
       "      <td>153.9</td>\n",
       "      <td>453.549422</td>\n",
       "      <td>51144</td>\n",
       "      <td>34536</td>\n",
       "      <td>15.0</td>\n",
       "      <td>1968.959926</td>\n",
       "      <td>30.9</td>\n",
       "      <td>30.5</td>\n",
       "      <td>...</td>\n",
       "      <td>62.0</td>\n",
       "      <td>47.8</td>\n",
       "      <td>26.6</td>\n",
       "      <td>16.8</td>\n",
       "      <td>87.961629</td>\n",
       "      <td>2.313188</td>\n",
       "      <td>1.316472</td>\n",
       "      <td>5.680705</td>\n",
       "      <td>55.153949</td>\n",
       "      <td>7.809192</td>\n",
       "    </tr>\n",
       "    <tr>\n",
       "      <th>3045</th>\n",
       "      <td>1962.667684</td>\n",
       "      <td>52</td>\n",
       "      <td>175.0</td>\n",
       "      <td>453.549422</td>\n",
       "      <td>50745</td>\n",
       "      <td>25609</td>\n",
       "      <td>13.3</td>\n",
       "      <td>0.000000</td>\n",
       "      <td>39.0</td>\n",
       "      <td>36.9</td>\n",
       "      <td>...</td>\n",
       "      <td>75.9</td>\n",
       "      <td>49.6</td>\n",
       "      <td>29.5</td>\n",
       "      <td>14.0</td>\n",
       "      <td>92.905681</td>\n",
       "      <td>1.176562</td>\n",
       "      <td>0.244632</td>\n",
       "      <td>2.131790</td>\n",
       "      <td>58.484232</td>\n",
       "      <td>7.582938</td>\n",
       "    </tr>\n",
       "    <tr>\n",
       "      <th>3046</th>\n",
       "      <td>1962.667684</td>\n",
       "      <td>48</td>\n",
       "      <td>213.6</td>\n",
       "      <td>453.549422</td>\n",
       "      <td>41193</td>\n",
       "      <td>37030</td>\n",
       "      <td>13.9</td>\n",
       "      <td>0.000000</td>\n",
       "      <td>26.2</td>\n",
       "      <td>25.5</td>\n",
       "      <td>...</td>\n",
       "      <td>76.1</td>\n",
       "      <td>22.9</td>\n",
       "      <td>25.1</td>\n",
       "      <td>12.6</td>\n",
       "      <td>70.098132</td>\n",
       "      <td>16.590100</td>\n",
       "      <td>3.177753</td>\n",
       "      <td>1.356457</td>\n",
       "      <td>56.040242</td>\n",
       "      <td>8.981723</td>\n",
       "    </tr>\n",
       "  </tbody>\n",
       "</table>\n",
       "<p>3047 rows × 29 columns</p>\n",
       "</div>"
      ],
      "text/plain": [
       "      avganncount  avgdeathsperyear  target_deathrate  incidencerate  \\\n",
       "0     1397.000000               469             164.9     489.800000   \n",
       "1      173.000000                70             161.3     411.600000   \n",
       "2      102.000000                50             174.7     349.700000   \n",
       "3      427.000000               202             194.8     430.400000   \n",
       "4       57.000000                26             144.4     350.100000   \n",
       "...           ...               ...               ...            ...   \n",
       "3042  1962.667684                15             149.6     453.549422   \n",
       "3043  1962.667684                43             150.1     453.549422   \n",
       "3044  1962.667684                46             153.9     453.549422   \n",
       "3045  1962.667684                52             175.0     453.549422   \n",
       "3046  1962.667684                48             213.6     453.549422   \n",
       "\n",
       "      medincome  popest2015  povertypercent  studypercap  medianage  \\\n",
       "0         61898      260131            11.2   499.748204       39.3   \n",
       "1         48127       43269            18.6    23.111234       33.0   \n",
       "2         49348       21026            14.6    47.560164       45.0   \n",
       "3         44243       75882            17.1   342.637253       42.8   \n",
       "4         49955       10321            12.5     0.000000       48.3   \n",
       "...         ...         ...             ...          ...        ...   \n",
       "3042      46961        6343            12.4     0.000000       44.2   \n",
       "3043      48609       37118            18.8   377.175494       30.4   \n",
       "3044      51144       34536            15.0  1968.959926       30.9   \n",
       "3045      50745       25609            13.3     0.000000       39.0   \n",
       "3046      41193       37030            13.9     0.000000       26.2   \n",
       "\n",
       "      medianagemale  ...  pctprivatecoverage  pctempprivcoverage  \\\n",
       "0              36.9  ...                75.1                41.6   \n",
       "1              32.2  ...                70.2                43.6   \n",
       "2              44.0  ...                63.7                34.9   \n",
       "3              42.2  ...                58.4                35.0   \n",
       "4              47.8  ...                61.6                35.1   \n",
       "...             ...  ...                 ...                 ...   \n",
       "3042           41.1  ...                78.3                44.6   \n",
       "3043           29.3  ...                64.5                48.6   \n",
       "3044           30.5  ...                62.0                47.8   \n",
       "3045           36.9  ...                75.9                49.6   \n",
       "3046           25.5  ...                76.1                22.9   \n",
       "\n",
       "      pctpubliccoverage  pctpubliccoveragealone   pctwhite   pctblack  \\\n",
       "0                  32.9                    14.0  81.780529   2.594728   \n",
       "1                  31.1                    15.3  89.228509   0.969102   \n",
       "2                  42.1                    21.1  90.922190   0.739673   \n",
       "3                  45.3                    25.0  91.744686   0.782626   \n",
       "4                  44.0                    22.7  94.104024   0.270192   \n",
       "...                 ...                     ...        ...        ...   \n",
       "3042               31.7                    13.2  90.280811   3.837754   \n",
       "3043               28.8                    17.7  75.706245   2.326771   \n",
       "3044               26.6                    16.8  87.961629   2.313188   \n",
       "3045               29.5                    14.0  92.905681   1.176562   \n",
       "3046               25.1                    12.6  70.098132  16.590100   \n",
       "\n",
       "      pctasian  pctotherrace  pctmarriedhouseholds  birthrate  \n",
       "0     4.821857      1.843479             52.856076   6.118831  \n",
       "1     2.246233      3.741352             45.372500   4.333096  \n",
       "2     0.465898      2.747358             54.444868   3.729488  \n",
       "3     1.161359      1.362643             51.021514   4.603841  \n",
       "4     0.665830      0.492135             54.027460   6.796657  \n",
       "...        ...           ...                   ...        ...  \n",
       "3042  0.327613      1.700468             51.063830   7.773512  \n",
       "3043  4.044920     14.130288             52.007937   8.186470  \n",
       "3044  1.316472      5.680705             55.153949   7.809192  \n",
       "3045  0.244632      2.131790             58.484232   7.582938  \n",
       "3046  3.177753      1.356457             56.040242   8.981723  \n",
       "\n",
       "[3047 rows x 29 columns]"
      ]
     },
     "execution_count": 102,
     "metadata": {},
     "output_type": "execute_result"
    }
   ],
   "source": [
    "data"
   ]
  },
  {
   "cell_type": "code",
   "execution_count": 103,
   "metadata": {},
   "outputs": [
    {
     "data": {
      "text/html": [
       "<div>\n",
       "<style scoped>\n",
       "    .dataframe tbody tr th:only-of-type {\n",
       "        vertical-align: middle;\n",
       "    }\n",
       "\n",
       "    .dataframe tbody tr th {\n",
       "        vertical-align: top;\n",
       "    }\n",
       "\n",
       "    .dataframe thead th {\n",
       "        text-align: right;\n",
       "    }\n",
       "</style>\n",
       "<table border=\"1\" class=\"dataframe\">\n",
       "  <thead>\n",
       "    <tr style=\"text-align: right;\">\n",
       "      <th></th>\n",
       "      <th>medincome</th>\n",
       "      <th>popest2015</th>\n",
       "      <th>povertypercent</th>\n",
       "      <th>studypercap</th>\n",
       "      <th>medianage</th>\n",
       "      <th>medianagemale</th>\n",
       "      <th>medianagefemale</th>\n",
       "      <th>avghouseholdsize</th>\n",
       "      <th>percentmarried</th>\n",
       "      <th>pctnohs18_24</th>\n",
       "      <th>...</th>\n",
       "      <th>pctprivatecoverage</th>\n",
       "      <th>pctempprivcoverage</th>\n",
       "      <th>pctpubliccoverage</th>\n",
       "      <th>pctpubliccoveragealone</th>\n",
       "      <th>pctwhite</th>\n",
       "      <th>pctblack</th>\n",
       "      <th>pctasian</th>\n",
       "      <th>pctotherrace</th>\n",
       "      <th>pctmarriedhouseholds</th>\n",
       "      <th>birthrate</th>\n",
       "    </tr>\n",
       "  </thead>\n",
       "  <tbody>\n",
       "    <tr>\n",
       "      <th>0</th>\n",
       "      <td>61898</td>\n",
       "      <td>260131</td>\n",
       "      <td>11.2</td>\n",
       "      <td>499.748204</td>\n",
       "      <td>39.3</td>\n",
       "      <td>36.9</td>\n",
       "      <td>41.7</td>\n",
       "      <td>2.54</td>\n",
       "      <td>52.5</td>\n",
       "      <td>11.5</td>\n",
       "      <td>...</td>\n",
       "      <td>75.1</td>\n",
       "      <td>41.6</td>\n",
       "      <td>32.9</td>\n",
       "      <td>14.0</td>\n",
       "      <td>81.780529</td>\n",
       "      <td>2.594728</td>\n",
       "      <td>4.821857</td>\n",
       "      <td>1.843479</td>\n",
       "      <td>52.856076</td>\n",
       "      <td>6.118831</td>\n",
       "    </tr>\n",
       "    <tr>\n",
       "      <th>1</th>\n",
       "      <td>48127</td>\n",
       "      <td>43269</td>\n",
       "      <td>18.6</td>\n",
       "      <td>23.111234</td>\n",
       "      <td>33.0</td>\n",
       "      <td>32.2</td>\n",
       "      <td>33.7</td>\n",
       "      <td>2.34</td>\n",
       "      <td>44.5</td>\n",
       "      <td>6.1</td>\n",
       "      <td>...</td>\n",
       "      <td>70.2</td>\n",
       "      <td>43.6</td>\n",
       "      <td>31.1</td>\n",
       "      <td>15.3</td>\n",
       "      <td>89.228509</td>\n",
       "      <td>0.969102</td>\n",
       "      <td>2.246233</td>\n",
       "      <td>3.741352</td>\n",
       "      <td>45.372500</td>\n",
       "      <td>4.333096</td>\n",
       "    </tr>\n",
       "    <tr>\n",
       "      <th>2</th>\n",
       "      <td>49348</td>\n",
       "      <td>21026</td>\n",
       "      <td>14.6</td>\n",
       "      <td>47.560164</td>\n",
       "      <td>45.0</td>\n",
       "      <td>44.0</td>\n",
       "      <td>45.8</td>\n",
       "      <td>2.62</td>\n",
       "      <td>54.2</td>\n",
       "      <td>24.0</td>\n",
       "      <td>...</td>\n",
       "      <td>63.7</td>\n",
       "      <td>34.9</td>\n",
       "      <td>42.1</td>\n",
       "      <td>21.1</td>\n",
       "      <td>90.922190</td>\n",
       "      <td>0.739673</td>\n",
       "      <td>0.465898</td>\n",
       "      <td>2.747358</td>\n",
       "      <td>54.444868</td>\n",
       "      <td>3.729488</td>\n",
       "    </tr>\n",
       "    <tr>\n",
       "      <th>3</th>\n",
       "      <td>44243</td>\n",
       "      <td>75882</td>\n",
       "      <td>17.1</td>\n",
       "      <td>342.637253</td>\n",
       "      <td>42.8</td>\n",
       "      <td>42.2</td>\n",
       "      <td>43.4</td>\n",
       "      <td>2.52</td>\n",
       "      <td>52.7</td>\n",
       "      <td>20.2</td>\n",
       "      <td>...</td>\n",
       "      <td>58.4</td>\n",
       "      <td>35.0</td>\n",
       "      <td>45.3</td>\n",
       "      <td>25.0</td>\n",
       "      <td>91.744686</td>\n",
       "      <td>0.782626</td>\n",
       "      <td>1.161359</td>\n",
       "      <td>1.362643</td>\n",
       "      <td>51.021514</td>\n",
       "      <td>4.603841</td>\n",
       "    </tr>\n",
       "    <tr>\n",
       "      <th>4</th>\n",
       "      <td>49955</td>\n",
       "      <td>10321</td>\n",
       "      <td>12.5</td>\n",
       "      <td>0.000000</td>\n",
       "      <td>48.3</td>\n",
       "      <td>47.8</td>\n",
       "      <td>48.9</td>\n",
       "      <td>2.34</td>\n",
       "      <td>57.8</td>\n",
       "      <td>14.9</td>\n",
       "      <td>...</td>\n",
       "      <td>61.6</td>\n",
       "      <td>35.1</td>\n",
       "      <td>44.0</td>\n",
       "      <td>22.7</td>\n",
       "      <td>94.104024</td>\n",
       "      <td>0.270192</td>\n",
       "      <td>0.665830</td>\n",
       "      <td>0.492135</td>\n",
       "      <td>54.027460</td>\n",
       "      <td>6.796657</td>\n",
       "    </tr>\n",
       "    <tr>\n",
       "      <th>...</th>\n",
       "      <td>...</td>\n",
       "      <td>...</td>\n",
       "      <td>...</td>\n",
       "      <td>...</td>\n",
       "      <td>...</td>\n",
       "      <td>...</td>\n",
       "      <td>...</td>\n",
       "      <td>...</td>\n",
       "      <td>...</td>\n",
       "      <td>...</td>\n",
       "      <td>...</td>\n",
       "      <td>...</td>\n",
       "      <td>...</td>\n",
       "      <td>...</td>\n",
       "      <td>...</td>\n",
       "      <td>...</td>\n",
       "      <td>...</td>\n",
       "      <td>...</td>\n",
       "      <td>...</td>\n",
       "      <td>...</td>\n",
       "      <td>...</td>\n",
       "    </tr>\n",
       "    <tr>\n",
       "      <th>3042</th>\n",
       "      <td>46961</td>\n",
       "      <td>6343</td>\n",
       "      <td>12.4</td>\n",
       "      <td>0.000000</td>\n",
       "      <td>44.2</td>\n",
       "      <td>41.1</td>\n",
       "      <td>48.8</td>\n",
       "      <td>2.08</td>\n",
       "      <td>51.0</td>\n",
       "      <td>20.9</td>\n",
       "      <td>...</td>\n",
       "      <td>78.3</td>\n",
       "      <td>44.6</td>\n",
       "      <td>31.7</td>\n",
       "      <td>13.2</td>\n",
       "      <td>90.280811</td>\n",
       "      <td>3.837754</td>\n",
       "      <td>0.327613</td>\n",
       "      <td>1.700468</td>\n",
       "      <td>51.063830</td>\n",
       "      <td>7.773512</td>\n",
       "    </tr>\n",
       "    <tr>\n",
       "      <th>3043</th>\n",
       "      <td>48609</td>\n",
       "      <td>37118</td>\n",
       "      <td>18.8</td>\n",
       "      <td>377.175494</td>\n",
       "      <td>30.4</td>\n",
       "      <td>29.3</td>\n",
       "      <td>31.4</td>\n",
       "      <td>2.90</td>\n",
       "      <td>52.6</td>\n",
       "      <td>26.7</td>\n",
       "      <td>...</td>\n",
       "      <td>64.5</td>\n",
       "      <td>48.6</td>\n",
       "      <td>28.8</td>\n",
       "      <td>17.7</td>\n",
       "      <td>75.706245</td>\n",
       "      <td>2.326771</td>\n",
       "      <td>4.044920</td>\n",
       "      <td>14.130288</td>\n",
       "      <td>52.007937</td>\n",
       "      <td>8.186470</td>\n",
       "    </tr>\n",
       "    <tr>\n",
       "      <th>3044</th>\n",
       "      <td>51144</td>\n",
       "      <td>34536</td>\n",
       "      <td>15.0</td>\n",
       "      <td>1968.959926</td>\n",
       "      <td>30.9</td>\n",
       "      <td>30.5</td>\n",
       "      <td>31.2</td>\n",
       "      <td>3.04</td>\n",
       "      <td>54.8</td>\n",
       "      <td>19.7</td>\n",
       "      <td>...</td>\n",
       "      <td>62.0</td>\n",
       "      <td>47.8</td>\n",
       "      <td>26.6</td>\n",
       "      <td>16.8</td>\n",
       "      <td>87.961629</td>\n",
       "      <td>2.313188</td>\n",
       "      <td>1.316472</td>\n",
       "      <td>5.680705</td>\n",
       "      <td>55.153949</td>\n",
       "      <td>7.809192</td>\n",
       "    </tr>\n",
       "    <tr>\n",
       "      <th>3045</th>\n",
       "      <td>50745</td>\n",
       "      <td>25609</td>\n",
       "      <td>13.3</td>\n",
       "      <td>0.000000</td>\n",
       "      <td>39.0</td>\n",
       "      <td>36.9</td>\n",
       "      <td>40.5</td>\n",
       "      <td>2.56</td>\n",
       "      <td>58.8</td>\n",
       "      <td>10.9</td>\n",
       "      <td>...</td>\n",
       "      <td>75.9</td>\n",
       "      <td>49.6</td>\n",
       "      <td>29.5</td>\n",
       "      <td>14.0</td>\n",
       "      <td>92.905681</td>\n",
       "      <td>1.176562</td>\n",
       "      <td>0.244632</td>\n",
       "      <td>2.131790</td>\n",
       "      <td>58.484232</td>\n",
       "      <td>7.582938</td>\n",
       "    </tr>\n",
       "    <tr>\n",
       "      <th>3046</th>\n",
       "      <td>41193</td>\n",
       "      <td>37030</td>\n",
       "      <td>13.9</td>\n",
       "      <td>0.000000</td>\n",
       "      <td>26.2</td>\n",
       "      <td>25.5</td>\n",
       "      <td>27.0</td>\n",
       "      <td>2.83</td>\n",
       "      <td>59.5</td>\n",
       "      <td>8.0</td>\n",
       "      <td>...</td>\n",
       "      <td>76.1</td>\n",
       "      <td>22.9</td>\n",
       "      <td>25.1</td>\n",
       "      <td>12.6</td>\n",
       "      <td>70.098132</td>\n",
       "      <td>16.590100</td>\n",
       "      <td>3.177753</td>\n",
       "      <td>1.356457</td>\n",
       "      <td>56.040242</td>\n",
       "      <td>8.981723</td>\n",
       "    </tr>\n",
       "  </tbody>\n",
       "</table>\n",
       "<p>3047 rows × 25 columns</p>\n",
       "</div>"
      ],
      "text/plain": [
       "      medincome  popest2015  povertypercent  studypercap  medianage  \\\n",
       "0         61898      260131            11.2   499.748204       39.3   \n",
       "1         48127       43269            18.6    23.111234       33.0   \n",
       "2         49348       21026            14.6    47.560164       45.0   \n",
       "3         44243       75882            17.1   342.637253       42.8   \n",
       "4         49955       10321            12.5     0.000000       48.3   \n",
       "...         ...         ...             ...          ...        ...   \n",
       "3042      46961        6343            12.4     0.000000       44.2   \n",
       "3043      48609       37118            18.8   377.175494       30.4   \n",
       "3044      51144       34536            15.0  1968.959926       30.9   \n",
       "3045      50745       25609            13.3     0.000000       39.0   \n",
       "3046      41193       37030            13.9     0.000000       26.2   \n",
       "\n",
       "      medianagemale  medianagefemale  avghouseholdsize  percentmarried  \\\n",
       "0              36.9             41.7              2.54            52.5   \n",
       "1              32.2             33.7              2.34            44.5   \n",
       "2              44.0             45.8              2.62            54.2   \n",
       "3              42.2             43.4              2.52            52.7   \n",
       "4              47.8             48.9              2.34            57.8   \n",
       "...             ...              ...               ...             ...   \n",
       "3042           41.1             48.8              2.08            51.0   \n",
       "3043           29.3             31.4              2.90            52.6   \n",
       "3044           30.5             31.2              3.04            54.8   \n",
       "3045           36.9             40.5              2.56            58.8   \n",
       "3046           25.5             27.0              2.83            59.5   \n",
       "\n",
       "      pctnohs18_24  ...  pctprivatecoverage  pctempprivcoverage  \\\n",
       "0             11.5  ...                75.1                41.6   \n",
       "1              6.1  ...                70.2                43.6   \n",
       "2             24.0  ...                63.7                34.9   \n",
       "3             20.2  ...                58.4                35.0   \n",
       "4             14.9  ...                61.6                35.1   \n",
       "...            ...  ...                 ...                 ...   \n",
       "3042          20.9  ...                78.3                44.6   \n",
       "3043          26.7  ...                64.5                48.6   \n",
       "3044          19.7  ...                62.0                47.8   \n",
       "3045          10.9  ...                75.9                49.6   \n",
       "3046           8.0  ...                76.1                22.9   \n",
       "\n",
       "      pctpubliccoverage  pctpubliccoveragealone   pctwhite   pctblack  \\\n",
       "0                  32.9                    14.0  81.780529   2.594728   \n",
       "1                  31.1                    15.3  89.228509   0.969102   \n",
       "2                  42.1                    21.1  90.922190   0.739673   \n",
       "3                  45.3                    25.0  91.744686   0.782626   \n",
       "4                  44.0                    22.7  94.104024   0.270192   \n",
       "...                 ...                     ...        ...        ...   \n",
       "3042               31.7                    13.2  90.280811   3.837754   \n",
       "3043               28.8                    17.7  75.706245   2.326771   \n",
       "3044               26.6                    16.8  87.961629   2.313188   \n",
       "3045               29.5                    14.0  92.905681   1.176562   \n",
       "3046               25.1                    12.6  70.098132  16.590100   \n",
       "\n",
       "      pctasian  pctotherrace  pctmarriedhouseholds  birthrate  \n",
       "0     4.821857      1.843479             52.856076   6.118831  \n",
       "1     2.246233      3.741352             45.372500   4.333096  \n",
       "2     0.465898      2.747358             54.444868   3.729488  \n",
       "3     1.161359      1.362643             51.021514   4.603841  \n",
       "4     0.665830      0.492135             54.027460   6.796657  \n",
       "...        ...           ...                   ...        ...  \n",
       "3042  0.327613      1.700468             51.063830   7.773512  \n",
       "3043  4.044920     14.130288             52.007937   8.186470  \n",
       "3044  1.316472      5.680705             55.153949   7.809192  \n",
       "3045  0.244632      2.131790             58.484232   7.582938  \n",
       "3046  3.177753      1.356457             56.040242   8.981723  \n",
       "\n",
       "[3047 rows x 25 columns]"
      ]
     },
     "execution_count": 103,
     "metadata": {},
     "output_type": "execute_result"
    }
   ],
   "source": [
    "# preparing data, first try, all variables\n",
    "X = data.iloc[:,4:]\n",
    "y = data.target_deathrate\n",
    "X"
   ]
  },
  {
   "cell_type": "code",
   "execution_count": 27,
   "metadata": {},
   "outputs": [
    {
     "data": {
      "text/plain": [
       "<itertools.combinations at 0x1b987a9f0e0>"
      ]
     },
     "execution_count": 27,
     "metadata": {},
     "output_type": "execute_result"
    }
   ],
   "source": []
  },
  {
   "cell_type": "code",
   "execution_count": 16,
   "metadata": {},
   "outputs": [],
   "source": []
  },
  {
   "cell_type": "code",
   "execution_count": 104,
   "metadata": {},
   "outputs": [],
   "source": [
    "# test train split\n",
    "\n",
    "X_train, X_test, y_train, y_test = train_test_split(X,y,test_size=0.2)"
   ]
  },
  {
   "cell_type": "code",
   "execution_count": 142,
   "metadata": {
    "scrolled": true
   },
   "outputs": [
    {
     "data": {
      "text/plain": [
       "115     262.1\n",
       "626     214.4\n",
       "692     187.3\n",
       "1075    200.9\n",
       "653     151.9\n",
       "        ...  \n",
       "412     158.6\n",
       "885     120.1\n",
       "1613    187.1\n",
       "2097    163.8\n",
       "1427    157.6\n",
       "Name: target_deathrate, Length: 587, dtype: float64"
      ]
     },
     "execution_count": 142,
     "metadata": {},
     "output_type": "execute_result"
    }
   ],
   "source": []
  },
  {
   "cell_type": "code",
   "execution_count": 100,
   "metadata": {},
   "outputs": [],
   "source": [
    "# creating pipelines and param grids\n",
    "\n",
    "pipelines =[make_pipeline(PolynomialFeatures(),StandardScaler(),linear_model.Ridge()),\n",
    "            make_pipeline(PolynomialFeatures(),MinMaxScaler(),linear_model.Ridge()),\n",
    "            make_pipeline(PolynomialFeatures(),StandardScaler(),linear_model.Lasso()),\n",
    "            make_pipeline(PolynomialFeatures(),MinMaxScaler(),linear_model.Lasso()),\n",
    "            make_pipeline(PolynomialFeatures(),StandardScaler(),linear_model.ElasticNet()),\n",
    "            make_pipeline(PolynomialFeatures(),MinMaxScaler(),linear_model.ElasticNet())]\n",
    "\n",
    "param_grids = [{\"polynomialfeatures__degree\":[1,2],\"ridge__alpha\":[0.0001,0.001,0.01,0.1,1,10,100]},\n",
    "              {\"polynomialfeatures__degree\":[1,2],\"ridge__alpha\":[0.0001,0.001,0.01,0.1,1,10,100]},\n",
    "              {\"polynomialfeatures__degree\":[1,2],\"lasso__alpha\":[0.0001,0.001,0.01,0.1,1,10,100]},\n",
    "              {\"polynomialfeatures__degree\":[1,2],\"lasso__alpha\":[0.0001,0.001,0.01,0.1,1,10,100]},\n",
    "              {\"polynomialfeatures__degree\":[1,2],\"elasticnet__alpha\":[0.0001,0.001,0.01,0.1,1,10,100],\"elasticnet__l1_ratio\":[0.1,0.3,0.5,0.7,0.9]},\n",
    "              {\"polynomialfeatures__degree\":[1,2],\"elasticnet__alpha\":[0.0001,0.001,0.01,0.1,1,10,100],\"elasticnet__l1_ratio\":[0.1,0.3,0.5,0.7,0.9]}]"
   ]
  },
  {
   "cell_type": "code",
   "execution_count": 108,
   "metadata": {},
   "outputs": [
    {
     "name": "stdout",
     "output_type": "stream",
     "text": [
      "Fitting 5 folds for each of 14 candidates, totalling 70 fits\n"
     ]
    },
    {
     "name": "stderr",
     "output_type": "stream",
     "text": [
      "[Parallel(n_jobs=3)]: Using backend LokyBackend with 3 concurrent workers.\n",
      "[Parallel(n_jobs=3)]: Done  70 out of  70 | elapsed:    0.8s finished\n",
      "[Parallel(n_jobs=3)]: Using backend LokyBackend with 3 concurrent workers.\n"
     ]
    },
    {
     "name": "stdout",
     "output_type": "stream",
     "text": [
      "Fitting 5 folds for each of 14 candidates, totalling 70 fits\n"
     ]
    },
    {
     "name": "stderr",
     "output_type": "stream",
     "text": [
      "[Parallel(n_jobs=3)]: Done  70 out of  70 | elapsed:    0.8s finished\n",
      "[Parallel(n_jobs=3)]: Using backend LokyBackend with 3 concurrent workers.\n"
     ]
    },
    {
     "name": "stdout",
     "output_type": "stream",
     "text": [
      "Fitting 5 folds for each of 14 candidates, totalling 70 fits\n"
     ]
    },
    {
     "name": "stderr",
     "output_type": "stream",
     "text": [
      "[Parallel(n_jobs=3)]: Done  70 out of  70 | elapsed:    5.7s finished\n"
     ]
    },
    {
     "name": "stdout",
     "output_type": "stream",
     "text": [
      "Fitting 5 folds for each of 14 candidates, totalling 70 fits\n"
     ]
    },
    {
     "name": "stderr",
     "output_type": "stream",
     "text": [
      "[Parallel(n_jobs=3)]: Using backend LokyBackend with 3 concurrent workers.\n",
      "[Parallel(n_jobs=3)]: Done  65 out of  70 | elapsed:    4.2s remaining:    0.2s\n",
      "[Parallel(n_jobs=3)]: Done  70 out of  70 | elapsed:    4.4s finished\n"
     ]
    },
    {
     "name": "stdout",
     "output_type": "stream",
     "text": [
      "Fitting 5 folds for each of 70 candidates, totalling 350 fits\n"
     ]
    },
    {
     "name": "stderr",
     "output_type": "stream",
     "text": [
      "[Parallel(n_jobs=3)]: Using backend LokyBackend with 3 concurrent workers.\n",
      "[Parallel(n_jobs=3)]: Done  82 tasks      | elapsed:   11.3s\n",
      "[Parallel(n_jobs=3)]: Done 236 tasks      | elapsed:   28.7s\n",
      "[Parallel(n_jobs=3)]: Done 350 out of 350 | elapsed:   30.4s finished\n"
     ]
    },
    {
     "name": "stdout",
     "output_type": "stream",
     "text": [
      "Fitting 5 folds for each of 70 candidates, totalling 350 fits\n"
     ]
    },
    {
     "name": "stderr",
     "output_type": "stream",
     "text": [
      "[Parallel(n_jobs=3)]: Using backend LokyBackend with 3 concurrent workers.\n",
      "[Parallel(n_jobs=3)]: Done  82 tasks      | elapsed:   10.6s\n",
      "[Parallel(n_jobs=3)]: Done 350 out of 350 | elapsed:   21.5s finished\n"
     ]
    },
    {
     "name": "stdout",
     "output_type": "stream",
     "text": [
      "Best model is {'polynomialfeatures__degree': 2, 'ridge__alpha': 1} with R2 score: 0.4927002833132069\n"
     ]
    }
   ],
   "source": [
    "# Evaluation of models using GridSearchCV\n",
    "# Creating grids\n",
    "warnings.filterwarnings(\"ignore\")\n",
    "best_score = 0\n",
    "best_model = np.NaN\n",
    "\n",
    "for i in range(len(pipelines)):\n",
    "    grid = GridSearchCV(pipelines[i],\n",
    "                       param_grid=param_grids[i],\n",
    "                       cv=5,\n",
    "                       refit=True,\n",
    "                       verbose=1,\n",
    "                       n_jobs = 3)\n",
    "    grid.fit(X_train,y_train)\n",
    "    scr = grid.score(X_test,y_test)\n",
    "    if scr > best_score:\n",
    "        best_score = scr\n",
    "        best_model = grid.best_params_\n",
    "        \n",
    "print(f\"Best model is {best_model} with R2 score: {best_score}\")"
   ]
  },
  {
   "cell_type": "markdown",
   "metadata": {},
   "source": []
  },
  {
   "cell_type": "markdown",
   "metadata": {},
   "source": [
    "Second run - column selection by heart"
   ]
  },
  {
   "cell_type": "code",
   "execution_count": 110,
   "metadata": {},
   "outputs": [
    {
     "data": {
      "text/plain": [
       "Index(['avganncount', 'avgdeathsperyear', 'target_deathrate', 'incidencerate',\n",
       "       'medincome', 'popest2015', 'povertypercent', 'studypercap', 'medianage',\n",
       "       'medianagemale', 'medianagefemale', 'avghouseholdsize',\n",
       "       'percentmarried', 'pctnohs18_24', 'pcths18_24', 'pctbachdeg18_24',\n",
       "       'pcths25_over', 'pctbachdeg25_over', 'pctunemployed16_over',\n",
       "       'pctprivatecoverage', 'pctempprivcoverage', 'pctpubliccoverage',\n",
       "       'pctpubliccoveragealone', 'pctwhite', 'pctblack', 'pctasian',\n",
       "       'pctotherrace', 'pctmarriedhouseholds', 'birthrate'],\n",
       "      dtype='object')"
      ]
     },
     "execution_count": 110,
     "metadata": {},
     "output_type": "execute_result"
    }
   ],
   "source": [
    "data.columns"
   ]
  },
  {
   "cell_type": "code",
   "execution_count": 112,
   "metadata": {},
   "outputs": [],
   "source": [
    "X1 = data[[\"medincome\",\"popest2015\",\"povertypercent\",\"medianage\",\"medianagemale\",\"medianagemale\",\"avghouseholdsize\",\"percentmarried\",\n",
    "          \"pctprivatecoverage\",\"pctempprivcoverage\",\"pctpubliccoverage\",\"pctblack\",\"pctwhite\",\"pctasian\"]]\n",
    "y1 = data.target_deathrate"
   ]
  },
  {
   "cell_type": "code",
   "execution_count": 113,
   "metadata": {},
   "outputs": [],
   "source": [
    "X1_train, X1_test, y1_train, y1_test = train_test_split(X,y,test_size=0.2)\n"
   ]
  },
  {
   "cell_type": "code",
   "execution_count": 115,
   "metadata": {},
   "outputs": [
    {
     "name": "stdout",
     "output_type": "stream",
     "text": [
      "Fitting 5 folds for each of 14 candidates, totalling 70 fits\n"
     ]
    },
    {
     "name": "stderr",
     "output_type": "stream",
     "text": [
      "[Parallel(n_jobs=3)]: Using backend LokyBackend with 3 concurrent workers.\n",
      "[Parallel(n_jobs=3)]: Done  70 out of  70 | elapsed:    0.8s finished\n",
      "[Parallel(n_jobs=3)]: Using backend LokyBackend with 3 concurrent workers.\n"
     ]
    },
    {
     "name": "stdout",
     "output_type": "stream",
     "text": [
      "Fitting 5 folds for each of 14 candidates, totalling 70 fits\n"
     ]
    },
    {
     "name": "stderr",
     "output_type": "stream",
     "text": [
      "[Parallel(n_jobs=3)]: Done  70 out of  70 | elapsed:    0.6s finished\n",
      "[Parallel(n_jobs=3)]: Using backend LokyBackend with 3 concurrent workers.\n"
     ]
    },
    {
     "name": "stdout",
     "output_type": "stream",
     "text": [
      "Fitting 5 folds for each of 14 candidates, totalling 70 fits\n"
     ]
    },
    {
     "name": "stderr",
     "output_type": "stream",
     "text": [
      "[Parallel(n_jobs=3)]: Done  65 out of  70 | elapsed:    5.2s remaining:    0.3s\n",
      "[Parallel(n_jobs=3)]: Done  70 out of  70 | elapsed:    5.3s finished\n"
     ]
    },
    {
     "name": "stdout",
     "output_type": "stream",
     "text": [
      "Fitting 5 folds for each of 14 candidates, totalling 70 fits\n"
     ]
    },
    {
     "name": "stderr",
     "output_type": "stream",
     "text": [
      "[Parallel(n_jobs=3)]: Using backend LokyBackend with 3 concurrent workers.\n",
      "[Parallel(n_jobs=3)]: Done  65 out of  70 | elapsed:    3.7s remaining:    0.2s\n",
      "[Parallel(n_jobs=3)]: Done  70 out of  70 | elapsed:    3.9s finished\n"
     ]
    },
    {
     "name": "stdout",
     "output_type": "stream",
     "text": [
      "Fitting 5 folds for each of 70 candidates, totalling 350 fits\n"
     ]
    },
    {
     "name": "stderr",
     "output_type": "stream",
     "text": [
      "[Parallel(n_jobs=3)]: Using backend LokyBackend with 3 concurrent workers.\n",
      "[Parallel(n_jobs=3)]: Done  82 tasks      | elapsed:   10.0s\n",
      "[Parallel(n_jobs=3)]: Done 350 out of 350 | elapsed:   28.9s finished\n"
     ]
    },
    {
     "name": "stdout",
     "output_type": "stream",
     "text": [
      "Fitting 5 folds for each of 70 candidates, totalling 350 fits\n"
     ]
    },
    {
     "name": "stderr",
     "output_type": "stream",
     "text": [
      "[Parallel(n_jobs=3)]: Using backend LokyBackend with 3 concurrent workers.\n",
      "[Parallel(n_jobs=3)]: Done  82 tasks      | elapsed:   10.7s\n",
      "[Parallel(n_jobs=3)]: Done 350 out of 350 | elapsed:   21.9s finished\n"
     ]
    },
    {
     "name": "stdout",
     "output_type": "stream",
     "text": [
      "Best model is {'polynomialfeatures__degree': 2, 'ridge__alpha': 1} with R2 score: 0.4585215378395767\n"
     ]
    }
   ],
   "source": [
    "warnings.filterwarnings(\"ignore\")\n",
    "best_score = 0\n",
    "best_model = np.NaN\n",
    "\n",
    "for i in range(len(pipelines)):\n",
    "    grid = GridSearchCV(pipelines[i],\n",
    "                       param_grid=param_grids[i],\n",
    "                       cv=5,\n",
    "                       refit=True,\n",
    "                       verbose=1,\n",
    "                       n_jobs = 3)\n",
    "    grid.fit(X1_train,y1_train)\n",
    "    scr = grid.score(X1_test,y1_test)\n",
    "    if scr > best_score:\n",
    "        best_score = scr\n",
    "        best_model = grid.best_params_\n",
    "        \n",
    "print(f\"Best model is {best_model} with R2 score: {best_score}\")"
   ]
  },
  {
   "cell_type": "markdown",
   "metadata": {},
   "source": [
    "Third run -- selection by correlation matrix hopefuls"
   ]
  },
  {
   "cell_type": "code",
   "execution_count": 118,
   "metadata": {},
   "outputs": [],
   "source": [
    "corr = data.corr().target_deathrate"
   ]
  },
  {
   "cell_type": "code",
   "execution_count": 145,
   "metadata": {},
   "outputs": [],
   "source": [
    "corrs = corr[(corr > 0.10) | (corr < -0.10)]"
   ]
  },
  {
   "cell_type": "code",
   "execution_count": 146,
   "metadata": {},
   "outputs": [],
   "source": [
    "X=data[corrs.index]\n",
    "X = X.drop(\"target_deathrate\",axis=1)"
   ]
  },
  {
   "cell_type": "code",
   "execution_count": 131,
   "metadata": {},
   "outputs": [
    {
     "data": {
      "text/html": [
       "<div>\n",
       "<style scoped>\n",
       "    .dataframe tbody tr th:only-of-type {\n",
       "        vertical-align: middle;\n",
       "    }\n",
       "\n",
       "    .dataframe tbody tr th {\n",
       "        vertical-align: top;\n",
       "    }\n",
       "\n",
       "    .dataframe thead th {\n",
       "        text-align: right;\n",
       "    }\n",
       "</style>\n",
       "<table border=\"1\" class=\"dataframe\">\n",
       "  <thead>\n",
       "    <tr style=\"text-align: right;\">\n",
       "      <th></th>\n",
       "      <th>avganncount</th>\n",
       "      <th>target_deathrate</th>\n",
       "      <th>incidencerate</th>\n",
       "      <th>medincome</th>\n",
       "      <th>popest2015</th>\n",
       "      <th>povertypercent</th>\n",
       "      <th>percentmarried</th>\n",
       "      <th>pcths18_24</th>\n",
       "      <th>pctbachdeg18_24</th>\n",
       "      <th>pcths25_over</th>\n",
       "      <th>...</th>\n",
       "      <th>pctunemployed16_over</th>\n",
       "      <th>pctprivatecoverage</th>\n",
       "      <th>pctempprivcoverage</th>\n",
       "      <th>pctpubliccoverage</th>\n",
       "      <th>pctpubliccoveragealone</th>\n",
       "      <th>pctwhite</th>\n",
       "      <th>pctblack</th>\n",
       "      <th>pctasian</th>\n",
       "      <th>pctotherrace</th>\n",
       "      <th>pctmarriedhouseholds</th>\n",
       "    </tr>\n",
       "  </thead>\n",
       "  <tbody>\n",
       "    <tr>\n",
       "      <th>0</th>\n",
       "      <td>1397.000000</td>\n",
       "      <td>164.9</td>\n",
       "      <td>489.800000</td>\n",
       "      <td>61898</td>\n",
       "      <td>260131</td>\n",
       "      <td>11.2</td>\n",
       "      <td>52.5</td>\n",
       "      <td>39.5</td>\n",
       "      <td>6.9</td>\n",
       "      <td>23.2</td>\n",
       "      <td>...</td>\n",
       "      <td>8.0</td>\n",
       "      <td>75.1</td>\n",
       "      <td>41.6</td>\n",
       "      <td>32.9</td>\n",
       "      <td>14.0</td>\n",
       "      <td>81.780529</td>\n",
       "      <td>2.594728</td>\n",
       "      <td>4.821857</td>\n",
       "      <td>1.843479</td>\n",
       "      <td>52.856076</td>\n",
       "    </tr>\n",
       "    <tr>\n",
       "      <th>1</th>\n",
       "      <td>173.000000</td>\n",
       "      <td>161.3</td>\n",
       "      <td>411.600000</td>\n",
       "      <td>48127</td>\n",
       "      <td>43269</td>\n",
       "      <td>18.6</td>\n",
       "      <td>44.5</td>\n",
       "      <td>22.4</td>\n",
       "      <td>7.5</td>\n",
       "      <td>26.0</td>\n",
       "      <td>...</td>\n",
       "      <td>7.8</td>\n",
       "      <td>70.2</td>\n",
       "      <td>43.6</td>\n",
       "      <td>31.1</td>\n",
       "      <td>15.3</td>\n",
       "      <td>89.228509</td>\n",
       "      <td>0.969102</td>\n",
       "      <td>2.246233</td>\n",
       "      <td>3.741352</td>\n",
       "      <td>45.372500</td>\n",
       "    </tr>\n",
       "    <tr>\n",
       "      <th>2</th>\n",
       "      <td>102.000000</td>\n",
       "      <td>174.7</td>\n",
       "      <td>349.700000</td>\n",
       "      <td>49348</td>\n",
       "      <td>21026</td>\n",
       "      <td>14.6</td>\n",
       "      <td>54.2</td>\n",
       "      <td>36.6</td>\n",
       "      <td>9.5</td>\n",
       "      <td>29.0</td>\n",
       "      <td>...</td>\n",
       "      <td>7.0</td>\n",
       "      <td>63.7</td>\n",
       "      <td>34.9</td>\n",
       "      <td>42.1</td>\n",
       "      <td>21.1</td>\n",
       "      <td>90.922190</td>\n",
       "      <td>0.739673</td>\n",
       "      <td>0.465898</td>\n",
       "      <td>2.747358</td>\n",
       "      <td>54.444868</td>\n",
       "    </tr>\n",
       "    <tr>\n",
       "      <th>3</th>\n",
       "      <td>427.000000</td>\n",
       "      <td>194.8</td>\n",
       "      <td>430.400000</td>\n",
       "      <td>44243</td>\n",
       "      <td>75882</td>\n",
       "      <td>17.1</td>\n",
       "      <td>52.7</td>\n",
       "      <td>41.2</td>\n",
       "      <td>2.5</td>\n",
       "      <td>31.6</td>\n",
       "      <td>...</td>\n",
       "      <td>12.1</td>\n",
       "      <td>58.4</td>\n",
       "      <td>35.0</td>\n",
       "      <td>45.3</td>\n",
       "      <td>25.0</td>\n",
       "      <td>91.744686</td>\n",
       "      <td>0.782626</td>\n",
       "      <td>1.161359</td>\n",
       "      <td>1.362643</td>\n",
       "      <td>51.021514</td>\n",
       "    </tr>\n",
       "    <tr>\n",
       "      <th>4</th>\n",
       "      <td>57.000000</td>\n",
       "      <td>144.4</td>\n",
       "      <td>350.100000</td>\n",
       "      <td>49955</td>\n",
       "      <td>10321</td>\n",
       "      <td>12.5</td>\n",
       "      <td>57.8</td>\n",
       "      <td>43.0</td>\n",
       "      <td>2.0</td>\n",
       "      <td>33.4</td>\n",
       "      <td>...</td>\n",
       "      <td>4.8</td>\n",
       "      <td>61.6</td>\n",
       "      <td>35.1</td>\n",
       "      <td>44.0</td>\n",
       "      <td>22.7</td>\n",
       "      <td>94.104024</td>\n",
       "      <td>0.270192</td>\n",
       "      <td>0.665830</td>\n",
       "      <td>0.492135</td>\n",
       "      <td>54.027460</td>\n",
       "    </tr>\n",
       "    <tr>\n",
       "      <th>...</th>\n",
       "      <td>...</td>\n",
       "      <td>...</td>\n",
       "      <td>...</td>\n",
       "      <td>...</td>\n",
       "      <td>...</td>\n",
       "      <td>...</td>\n",
       "      <td>...</td>\n",
       "      <td>...</td>\n",
       "      <td>...</td>\n",
       "      <td>...</td>\n",
       "      <td>...</td>\n",
       "      <td>...</td>\n",
       "      <td>...</td>\n",
       "      <td>...</td>\n",
       "      <td>...</td>\n",
       "      <td>...</td>\n",
       "      <td>...</td>\n",
       "      <td>...</td>\n",
       "      <td>...</td>\n",
       "      <td>...</td>\n",
       "      <td>...</td>\n",
       "    </tr>\n",
       "    <tr>\n",
       "      <th>3042</th>\n",
       "      <td>1962.667684</td>\n",
       "      <td>149.6</td>\n",
       "      <td>453.549422</td>\n",
       "      <td>46961</td>\n",
       "      <td>6343</td>\n",
       "      <td>12.4</td>\n",
       "      <td>51.0</td>\n",
       "      <td>27.9</td>\n",
       "      <td>8.4</td>\n",
       "      <td>32.2</td>\n",
       "      <td>...</td>\n",
       "      <td>4.3</td>\n",
       "      <td>78.3</td>\n",
       "      <td>44.6</td>\n",
       "      <td>31.7</td>\n",
       "      <td>13.2</td>\n",
       "      <td>90.280811</td>\n",
       "      <td>3.837754</td>\n",
       "      <td>0.327613</td>\n",
       "      <td>1.700468</td>\n",
       "      <td>51.063830</td>\n",
       "    </tr>\n",
       "    <tr>\n",
       "      <th>3043</th>\n",
       "      <td>1962.667684</td>\n",
       "      <td>150.1</td>\n",
       "      <td>453.549422</td>\n",
       "      <td>48609</td>\n",
       "      <td>37118</td>\n",
       "      <td>18.8</td>\n",
       "      <td>52.6</td>\n",
       "      <td>33.9</td>\n",
       "      <td>3.8</td>\n",
       "      <td>23.1</td>\n",
       "      <td>...</td>\n",
       "      <td>4.6</td>\n",
       "      <td>64.5</td>\n",
       "      <td>48.6</td>\n",
       "      <td>28.8</td>\n",
       "      <td>17.7</td>\n",
       "      <td>75.706245</td>\n",
       "      <td>2.326771</td>\n",
       "      <td>4.044920</td>\n",
       "      <td>14.130288</td>\n",
       "      <td>52.007937</td>\n",
       "    </tr>\n",
       "    <tr>\n",
       "      <th>3044</th>\n",
       "      <td>1962.667684</td>\n",
       "      <td>153.9</td>\n",
       "      <td>453.549422</td>\n",
       "      <td>51144</td>\n",
       "      <td>34536</td>\n",
       "      <td>15.0</td>\n",
       "      <td>54.8</td>\n",
       "      <td>44.5</td>\n",
       "      <td>2.5</td>\n",
       "      <td>23.0</td>\n",
       "      <td>...</td>\n",
       "      <td>6.4</td>\n",
       "      <td>62.0</td>\n",
       "      <td>47.8</td>\n",
       "      <td>26.6</td>\n",
       "      <td>16.8</td>\n",
       "      <td>87.961629</td>\n",
       "      <td>2.313188</td>\n",
       "      <td>1.316472</td>\n",
       "      <td>5.680705</td>\n",
       "      <td>55.153949</td>\n",
       "    </tr>\n",
       "    <tr>\n",
       "      <th>3045</th>\n",
       "      <td>1962.667684</td>\n",
       "      <td>175.0</td>\n",
       "      <td>453.549422</td>\n",
       "      <td>50745</td>\n",
       "      <td>25609</td>\n",
       "      <td>13.3</td>\n",
       "      <td>58.8</td>\n",
       "      <td>37.2</td>\n",
       "      <td>4.1</td>\n",
       "      <td>36.1</td>\n",
       "      <td>...</td>\n",
       "      <td>6.9</td>\n",
       "      <td>75.9</td>\n",
       "      <td>49.6</td>\n",
       "      <td>29.5</td>\n",
       "      <td>14.0</td>\n",
       "      <td>92.905681</td>\n",
       "      <td>1.176562</td>\n",
       "      <td>0.244632</td>\n",
       "      <td>2.131790</td>\n",
       "      <td>58.484232</td>\n",
       "    </tr>\n",
       "    <tr>\n",
       "      <th>3046</th>\n",
       "      <td>1962.667684</td>\n",
       "      <td>213.6</td>\n",
       "      <td>453.549422</td>\n",
       "      <td>41193</td>\n",
       "      <td>37030</td>\n",
       "      <td>13.9</td>\n",
       "      <td>59.5</td>\n",
       "      <td>43.3</td>\n",
       "      <td>4.8</td>\n",
       "      <td>29.8</td>\n",
       "      <td>...</td>\n",
       "      <td>9.2</td>\n",
       "      <td>76.1</td>\n",
       "      <td>22.9</td>\n",
       "      <td>25.1</td>\n",
       "      <td>12.6</td>\n",
       "      <td>70.098132</td>\n",
       "      <td>16.590100</td>\n",
       "      <td>3.177753</td>\n",
       "      <td>1.356457</td>\n",
       "      <td>56.040242</td>\n",
       "    </tr>\n",
       "  </tbody>\n",
       "</table>\n",
       "<p>3047 rows × 21 columns</p>\n",
       "</div>"
      ],
      "text/plain": [
       "      avganncount  target_deathrate  incidencerate  medincome  popest2015  \\\n",
       "0     1397.000000             164.9     489.800000      61898      260131   \n",
       "1      173.000000             161.3     411.600000      48127       43269   \n",
       "2      102.000000             174.7     349.700000      49348       21026   \n",
       "3      427.000000             194.8     430.400000      44243       75882   \n",
       "4       57.000000             144.4     350.100000      49955       10321   \n",
       "...           ...               ...            ...        ...         ...   \n",
       "3042  1962.667684             149.6     453.549422      46961        6343   \n",
       "3043  1962.667684             150.1     453.549422      48609       37118   \n",
       "3044  1962.667684             153.9     453.549422      51144       34536   \n",
       "3045  1962.667684             175.0     453.549422      50745       25609   \n",
       "3046  1962.667684             213.6     453.549422      41193       37030   \n",
       "\n",
       "      povertypercent  percentmarried  pcths18_24  pctbachdeg18_24  \\\n",
       "0               11.2            52.5        39.5              6.9   \n",
       "1               18.6            44.5        22.4              7.5   \n",
       "2               14.6            54.2        36.6              9.5   \n",
       "3               17.1            52.7        41.2              2.5   \n",
       "4               12.5            57.8        43.0              2.0   \n",
       "...              ...             ...         ...              ...   \n",
       "3042            12.4            51.0        27.9              8.4   \n",
       "3043            18.8            52.6        33.9              3.8   \n",
       "3044            15.0            54.8        44.5              2.5   \n",
       "3045            13.3            58.8        37.2              4.1   \n",
       "3046            13.9            59.5        43.3              4.8   \n",
       "\n",
       "      pcths25_over  ...  pctunemployed16_over  pctprivatecoverage  \\\n",
       "0             23.2  ...                   8.0                75.1   \n",
       "1             26.0  ...                   7.8                70.2   \n",
       "2             29.0  ...                   7.0                63.7   \n",
       "3             31.6  ...                  12.1                58.4   \n",
       "4             33.4  ...                   4.8                61.6   \n",
       "...            ...  ...                   ...                 ...   \n",
       "3042          32.2  ...                   4.3                78.3   \n",
       "3043          23.1  ...                   4.6                64.5   \n",
       "3044          23.0  ...                   6.4                62.0   \n",
       "3045          36.1  ...                   6.9                75.9   \n",
       "3046          29.8  ...                   9.2                76.1   \n",
       "\n",
       "      pctempprivcoverage  pctpubliccoverage  pctpubliccoveragealone  \\\n",
       "0                   41.6               32.9                    14.0   \n",
       "1                   43.6               31.1                    15.3   \n",
       "2                   34.9               42.1                    21.1   \n",
       "3                   35.0               45.3                    25.0   \n",
       "4                   35.1               44.0                    22.7   \n",
       "...                  ...                ...                     ...   \n",
       "3042                44.6               31.7                    13.2   \n",
       "3043                48.6               28.8                    17.7   \n",
       "3044                47.8               26.6                    16.8   \n",
       "3045                49.6               29.5                    14.0   \n",
       "3046                22.9               25.1                    12.6   \n",
       "\n",
       "       pctwhite   pctblack  pctasian  pctotherrace  pctmarriedhouseholds  \n",
       "0     81.780529   2.594728  4.821857      1.843479             52.856076  \n",
       "1     89.228509   0.969102  2.246233      3.741352             45.372500  \n",
       "2     90.922190   0.739673  0.465898      2.747358             54.444868  \n",
       "3     91.744686   0.782626  1.161359      1.362643             51.021514  \n",
       "4     94.104024   0.270192  0.665830      0.492135             54.027460  \n",
       "...         ...        ...       ...           ...                   ...  \n",
       "3042  90.280811   3.837754  0.327613      1.700468             51.063830  \n",
       "3043  75.706245   2.326771  4.044920     14.130288             52.007937  \n",
       "3044  87.961629   2.313188  1.316472      5.680705             55.153949  \n",
       "3045  92.905681   1.176562  0.244632      2.131790             58.484232  \n",
       "3046  70.098132  16.590100  3.177753      1.356457             56.040242  \n",
       "\n",
       "[3047 rows x 21 columns]"
      ]
     },
     "execution_count": 131,
     "metadata": {},
     "output_type": "execute_result"
    }
   ],
   "source": []
  },
  {
   "cell_type": "code",
   "execution_count": 147,
   "metadata": {},
   "outputs": [],
   "source": [
    "X_train, X_test, y_train, y_test = train_test_split(X,y,test_size=0.2)"
   ]
  },
  {
   "cell_type": "code",
   "execution_count": 148,
   "metadata": {},
   "outputs": [
    {
     "name": "stdout",
     "output_type": "stream",
     "text": [
      "Fitting 5 folds for each of 14 candidates, totalling 70 fits\n"
     ]
    },
    {
     "name": "stderr",
     "output_type": "stream",
     "text": [
      "[Parallel(n_jobs=3)]: Using backend LokyBackend with 3 concurrent workers.\n",
      "[Parallel(n_jobs=3)]: Done  70 out of  70 | elapsed:    0.6s finished\n",
      "[Parallel(n_jobs=3)]: Using backend LokyBackend with 3 concurrent workers.\n"
     ]
    },
    {
     "name": "stdout",
     "output_type": "stream",
     "text": [
      "Fitting 5 folds for each of 14 candidates, totalling 70 fits\n"
     ]
    },
    {
     "name": "stderr",
     "output_type": "stream",
     "text": [
      "[Parallel(n_jobs=3)]: Done  70 out of  70 | elapsed:    0.4s finished\n",
      "[Parallel(n_jobs=3)]: Using backend LokyBackend with 3 concurrent workers.\n"
     ]
    },
    {
     "name": "stdout",
     "output_type": "stream",
     "text": [
      "Fitting 5 folds for each of 14 candidates, totalling 70 fits\n"
     ]
    },
    {
     "name": "stderr",
     "output_type": "stream",
     "text": [
      "[Parallel(n_jobs=3)]: Done  65 out of  70 | elapsed:    2.9s remaining:    0.1s\n",
      "[Parallel(n_jobs=3)]: Done  70 out of  70 | elapsed:    2.9s finished\n"
     ]
    },
    {
     "name": "stdout",
     "output_type": "stream",
     "text": [
      "Fitting 5 folds for each of 14 candidates, totalling 70 fits\n"
     ]
    },
    {
     "name": "stderr",
     "output_type": "stream",
     "text": [
      "[Parallel(n_jobs=3)]: Using backend LokyBackend with 3 concurrent workers.\n",
      "[Parallel(n_jobs=3)]: Done  65 out of  70 | elapsed:    2.3s remaining:    0.1s\n",
      "[Parallel(n_jobs=3)]: Done  70 out of  70 | elapsed:    2.3s finished\n"
     ]
    },
    {
     "name": "stdout",
     "output_type": "stream",
     "text": [
      "Fitting 5 folds for each of 70 candidates, totalling 350 fits\n"
     ]
    },
    {
     "name": "stderr",
     "output_type": "stream",
     "text": [
      "[Parallel(n_jobs=3)]: Using backend LokyBackend with 3 concurrent workers.\n",
      "[Parallel(n_jobs=3)]: Done  82 tasks      | elapsed:    6.4s\n",
      "[Parallel(n_jobs=3)]: Done 350 out of 350 | elapsed:   16.7s finished\n"
     ]
    },
    {
     "name": "stdout",
     "output_type": "stream",
     "text": [
      "Fitting 5 folds for each of 70 candidates, totalling 350 fits\n"
     ]
    },
    {
     "name": "stderr",
     "output_type": "stream",
     "text": [
      "[Parallel(n_jobs=3)]: Using backend LokyBackend with 3 concurrent workers.\n",
      "[Parallel(n_jobs=3)]: Done  82 tasks      | elapsed:    6.3s\n",
      "[Parallel(n_jobs=3)]: Done 350 out of 350 | elapsed:   12.8s finished\n"
     ]
    },
    {
     "name": "stdout",
     "output_type": "stream",
     "text": [
      "Best model is {'elasticnet__alpha': 0.001, 'elasticnet__l1_ratio': 0.5, 'polynomialfeatures__degree': 2} with R2 score: 0.5198257664564837\n"
     ]
    }
   ],
   "source": [
    "warnings.filterwarnings(\"ignore\")\n",
    "best_score = 0\n",
    "best_model = np.NaN\n",
    "\n",
    "for i in range(len(pipelines)):\n",
    "    grid = GridSearchCV(pipelines[i],\n",
    "                       param_grid=param_grids[i],\n",
    "                       cv=5,\n",
    "                       refit=True,\n",
    "                       verbose=1,\n",
    "                       n_jobs = 3)\n",
    "    grid.fit(X_train,y_train)\n",
    "    scr = grid.score(X_test,y_test)\n",
    "    if scr > best_score:\n",
    "        best_score = scr\n",
    "        best_model = grid.best_params_\n",
    "        \n",
    "print(f\"Best model is {best_model} with R2 score: {best_score}\")"
   ]
  },
  {
   "cell_type": "code",
   "execution_count": 149,
   "metadata": {},
   "outputs": [
    {
     "data": {
      "text/plain": [
       "Pipeline(steps=[('polynomialfeatures', PolynomialFeatures()),\n",
       "                ('standardscaler', StandardScaler()),\n",
       "                ('elasticnet', ElasticNet(alpha=0.001))])"
      ]
     },
     "execution_count": 149,
     "metadata": {},
     "output_type": "execute_result"
    }
   ],
   "source": [
    "best_one = make_pipeline(PolynomialFeatures(2),StandardScaler(),linear_model.ElasticNet(alpha=.001,l1_ratio=0.5))\n",
    "best_one.fit(X,y)"
   ]
  },
  {
   "cell_type": "code",
   "execution_count": 157,
   "metadata": {},
   "outputs": [
    {
     "data": {
      "image/png": "[encoded data removed]",
      "text/plain": [
       "<Figure size 432x288 with 1 Axes>"
      ]
     },
     "metadata": {
      "needs_background": "light"
     },
     "output_type": "display_data"
    },
    {
     "data": {
      "image/png": "[encoded data removed]",
      "text/plain": [
       "<Figure size 432x288 with 1 Axes>"
      ]
     },
     "metadata": {
      "needs_background": "light"
     },
     "output_type": "display_data"
    }
   ],
   "source": [
    "# plotting results\n",
    "\n",
    "plt.scatter(y,best_one.predict(X),label=\"predicts\")\n",
    "plt.plot(y,y,label=\"y y reference\")\n",
    "plt.title(\"Predictions compared to actual y\")\n",
    "plt.xlabel(\"true y\")\n",
    "plt.ylabel(\"predicted y\")\n",
    "plt.show()\n",
    "\n",
    "\n",
    "plt.scatter(y,best_one.predict(X)-y,label=\"predicts\")\n",
    "plt.plot(np.linspace(min(y),max(y)),np.zeros(50))\n",
    "plt.title(\"Prediction error by true y\")\n",
    "plt.xlabel(\"true y\")\n",
    "plt.ylabel(\"error\")\n",
    "plt.show()"
   ]
  },
  {
   "cell_type": "code",
   "execution_count": 162,
   "metadata": {},
   "outputs": [
    {
     "name": "stdout",
     "output_type": "stream",
     "text": [
      "Root mean squared error of model: 17.384362588052706\n",
      "Mean absolute error of model: 13.004593869543243\n",
      "Median absolute error of model: 9.923173503437937\n"
     ]
    }
   ],
   "source": [
    "# other evaluating metrics\n",
    "print(f\"Root mean squared error of model: {np.sqrt(metrics.mean_squared_error(y,best_one.predict(X)))}\")\n",
    "print(f\"Mean absolute error of model: {metrics.mean_absolute_error(y,best_one.predict(X))}\")\n",
    "print(f\"Median absolute error of model: {metrics.median_absolute_error(y,best_one.predict(X))}\")\n"
   ]
  },
  {
   "cell_type": "markdown",
   "metadata": {},
   "source": [
    "#### Best model is overpredicting for lower y values and underpredicting for higher ones. Better result could be achieved by dividing target into categories and trying to predict them\n"
   ]
  }
 ],
 "metadata": {
  "kernelspec": {
   "display_name": "Python 3",
   "language": "python",
   "name": "python3"
  },
  "language_info": {
   "codemirror_mode": {
    "name": "ipython",
    "version": 3
   },
   "file_extension": ".py",
   "mimetype": "text/x-python",
   "name": "python",
   "nbconvert_exporter": "python",
   "pygments_lexer": "ipython3",
   "version": "3.8.3"
  }
 },
 "nbformat": 4,
 "nbformat_minor": 4
}
