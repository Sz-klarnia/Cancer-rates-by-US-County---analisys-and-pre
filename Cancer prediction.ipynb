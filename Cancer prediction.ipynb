{
 "cells": [
  {
   "cell_type": "markdown",
   "metadata": {},
   "source": [
    "# Analysis of CDC (Center for Disease Control) cancer mortality data by US County\n",
    "\n",
    "## Aims:\n",
    "#### Analyzing relations between various socio-economical factors and cancer mortality and incidence rates to find racial and economical inequalities in health and acces to healthcare in the US\n",
    "#### Creating regression model to predict cancer mortality on County level in current US socioeconomical climate\n"
   ]
  },
  {
   "cell_type": "code",
   "execution_count": 2,
   "metadata": {},
   "outputs": [],
   "source": [
    "# basic libraries\n",
    "import pandas as pd\n",
    "import numpy as np\n",
    "import matplotlib.pyplot as plt\n",
    "import seaborn as sns\n",
    "import re\n",
    "from scipy import stats\n",
    "\n",
    "# preprocessing, feature and model selection\n",
    "from sklearn.preprocessing import PolynomialFeatures,StandardScaler,MinMaxScaler,PowerTransformer\n",
    "from sklearn.feature_selection import SelectKBest, mutual_info_classif,RFE, RFECV\n",
    "from sklearn.pipeline import make_pipeline\n",
    "import sklearn.pipeline as pipeline\n",
    "from sklearn.model_selection import GridSearchCV,train_test_split,TimeSeriesSplit\n",
    "\n",
    "#  models and metrics\n",
    "import sklearn.linear_model\n",
    "from sklearn.ensemble import RandomForestRegressor\n",
    "from sklearn.linear_model import LinearRegression, Lasso, Ridge, ElasticNet\n",
    "\n",
    "from sklearn import metrics\n",
    "\n",
    "# statistical libraries\n",
    "from scipy import stats\n",
    "from statsmodels.stats.anova import anova_lm\n",
    "from statsmodels.stats.multicomp import (pairwise_tukeyhsd, MultiComparison)\n",
    "\n",
    "# warnings\n",
    "import warnings\n",
    "\n",
    "# saving models\n",
    "import pickle\n",
    "\n",
    "\n",
    "# additional functions\n",
    "from add_functions import fill_missing, find_best_algorytm, categorize , differences"
   ]
  },
  {
   "cell_type": "markdown",
   "metadata": {},
   "source": [
    "### Reading data and first look"
   ]
  },
  {
   "cell_type": "code",
   "execution_count": 3,
   "metadata": {},
   "outputs": [],
   "source": [
    "data = pd.read_csv(r\"C:\\Users\\szklarnia\\Desktop\\datascience\\dane\\cancer_reg.csv\")\n"
   ]
  },
  {
   "cell_type": "code",
   "execution_count": 4,
   "metadata": {},
   "outputs": [
    {
     "data": {
      "text/html": [
       "<div>\n",
       "<style scoped>\n",
       "    .dataframe tbody tr th:only-of-type {\n",
       "        vertical-align: middle;\n",
       "    }\n",
       "\n",
       "    .dataframe tbody tr th {\n",
       "        vertical-align: top;\n",
       "    }\n",
       "\n",
       "    .dataframe thead th {\n",
       "        text-align: right;\n",
       "    }\n",
       "</style>\n",
       "<table border=\"1\" class=\"dataframe\">\n",
       "  <thead>\n",
       "    <tr style=\"text-align: right;\">\n",
       "      <th></th>\n",
       "      <th>avganncount</th>\n",
       "      <th>avgdeathsperyear</th>\n",
       "      <th>target_deathrate</th>\n",
       "      <th>incidencerate</th>\n",
       "      <th>medincome</th>\n",
       "      <th>popest2015</th>\n",
       "      <th>povertypercent</th>\n",
       "      <th>studypercap</th>\n",
       "      <th>binnedinc</th>\n",
       "      <th>medianage</th>\n",
       "      <th>...</th>\n",
       "      <th>pctprivatecoveragealone</th>\n",
       "      <th>pctempprivcoverage</th>\n",
       "      <th>pctpubliccoverage</th>\n",
       "      <th>pctpubliccoveragealone</th>\n",
       "      <th>pctwhite</th>\n",
       "      <th>pctblack</th>\n",
       "      <th>pctasian</th>\n",
       "      <th>pctotherrace</th>\n",
       "      <th>pctmarriedhouseholds</th>\n",
       "      <th>birthrate</th>\n",
       "    </tr>\n",
       "  </thead>\n",
       "  <tbody>\n",
       "    <tr>\n",
       "      <th>0</th>\n",
       "      <td>1397.000000</td>\n",
       "      <td>469</td>\n",
       "      <td>164.9</td>\n",
       "      <td>489.800000</td>\n",
       "      <td>61898</td>\n",
       "      <td>260131</td>\n",
       "      <td>11.2</td>\n",
       "      <td>499.748204</td>\n",
       "      <td>(61494.5, 125635]</td>\n",
       "      <td>39.3</td>\n",
       "      <td>...</td>\n",
       "      <td>NaN</td>\n",
       "      <td>41.6</td>\n",
       "      <td>32.9</td>\n",
       "      <td>14.0</td>\n",
       "      <td>81.780529</td>\n",
       "      <td>2.594728</td>\n",
       "      <td>4.821857</td>\n",
       "      <td>1.843479</td>\n",
       "      <td>52.856076</td>\n",
       "      <td>6.118831</td>\n",
       "    </tr>\n",
       "    <tr>\n",
       "      <th>1</th>\n",
       "      <td>173.000000</td>\n",
       "      <td>70</td>\n",
       "      <td>161.3</td>\n",
       "      <td>411.600000</td>\n",
       "      <td>48127</td>\n",
       "      <td>43269</td>\n",
       "      <td>18.6</td>\n",
       "      <td>23.111234</td>\n",
       "      <td>(48021.6, 51046.4]</td>\n",
       "      <td>33.0</td>\n",
       "      <td>...</td>\n",
       "      <td>53.8</td>\n",
       "      <td>43.6</td>\n",
       "      <td>31.1</td>\n",
       "      <td>15.3</td>\n",
       "      <td>89.228509</td>\n",
       "      <td>0.969102</td>\n",
       "      <td>2.246233</td>\n",
       "      <td>3.741352</td>\n",
       "      <td>45.372500</td>\n",
       "      <td>4.333096</td>\n",
       "    </tr>\n",
       "    <tr>\n",
       "      <th>2</th>\n",
       "      <td>102.000000</td>\n",
       "      <td>50</td>\n",
       "      <td>174.7</td>\n",
       "      <td>349.700000</td>\n",
       "      <td>49348</td>\n",
       "      <td>21026</td>\n",
       "      <td>14.6</td>\n",
       "      <td>47.560164</td>\n",
       "      <td>(48021.6, 51046.4]</td>\n",
       "      <td>45.0</td>\n",
       "      <td>...</td>\n",
       "      <td>43.5</td>\n",
       "      <td>34.9</td>\n",
       "      <td>42.1</td>\n",
       "      <td>21.1</td>\n",
       "      <td>90.922190</td>\n",
       "      <td>0.739673</td>\n",
       "      <td>0.465898</td>\n",
       "      <td>2.747358</td>\n",
       "      <td>54.444868</td>\n",
       "      <td>3.729488</td>\n",
       "    </tr>\n",
       "    <tr>\n",
       "      <th>3</th>\n",
       "      <td>427.000000</td>\n",
       "      <td>202</td>\n",
       "      <td>194.8</td>\n",
       "      <td>430.400000</td>\n",
       "      <td>44243</td>\n",
       "      <td>75882</td>\n",
       "      <td>17.1</td>\n",
       "      <td>342.637253</td>\n",
       "      <td>(42724.4, 45201]</td>\n",
       "      <td>42.8</td>\n",
       "      <td>...</td>\n",
       "      <td>40.3</td>\n",
       "      <td>35.0</td>\n",
       "      <td>45.3</td>\n",
       "      <td>25.0</td>\n",
       "      <td>91.744686</td>\n",
       "      <td>0.782626</td>\n",
       "      <td>1.161359</td>\n",
       "      <td>1.362643</td>\n",
       "      <td>51.021514</td>\n",
       "      <td>4.603841</td>\n",
       "    </tr>\n",
       "    <tr>\n",
       "      <th>4</th>\n",
       "      <td>57.000000</td>\n",
       "      <td>26</td>\n",
       "      <td>144.4</td>\n",
       "      <td>350.100000</td>\n",
       "      <td>49955</td>\n",
       "      <td>10321</td>\n",
       "      <td>12.5</td>\n",
       "      <td>0.000000</td>\n",
       "      <td>(48021.6, 51046.4]</td>\n",
       "      <td>48.3</td>\n",
       "      <td>...</td>\n",
       "      <td>43.9</td>\n",
       "      <td>35.1</td>\n",
       "      <td>44.0</td>\n",
       "      <td>22.7</td>\n",
       "      <td>94.104024</td>\n",
       "      <td>0.270192</td>\n",
       "      <td>0.665830</td>\n",
       "      <td>0.492135</td>\n",
       "      <td>54.027460</td>\n",
       "      <td>6.796657</td>\n",
       "    </tr>\n",
       "    <tr>\n",
       "      <th>...</th>\n",
       "      <td>...</td>\n",
       "      <td>...</td>\n",
       "      <td>...</td>\n",
       "      <td>...</td>\n",
       "      <td>...</td>\n",
       "      <td>...</td>\n",
       "      <td>...</td>\n",
       "      <td>...</td>\n",
       "      <td>...</td>\n",
       "      <td>...</td>\n",
       "      <td>...</td>\n",
       "      <td>...</td>\n",
       "      <td>...</td>\n",
       "      <td>...</td>\n",
       "      <td>...</td>\n",
       "      <td>...</td>\n",
       "      <td>...</td>\n",
       "      <td>...</td>\n",
       "      <td>...</td>\n",
       "      <td>...</td>\n",
       "      <td>...</td>\n",
       "    </tr>\n",
       "    <tr>\n",
       "      <th>3042</th>\n",
       "      <td>1962.667684</td>\n",
       "      <td>15</td>\n",
       "      <td>149.6</td>\n",
       "      <td>453.549422</td>\n",
       "      <td>46961</td>\n",
       "      <td>6343</td>\n",
       "      <td>12.4</td>\n",
       "      <td>0.000000</td>\n",
       "      <td>(45201, 48021.6]</td>\n",
       "      <td>44.2</td>\n",
       "      <td>...</td>\n",
       "      <td>54.9</td>\n",
       "      <td>44.6</td>\n",
       "      <td>31.7</td>\n",
       "      <td>13.2</td>\n",
       "      <td>90.280811</td>\n",
       "      <td>3.837754</td>\n",
       "      <td>0.327613</td>\n",
       "      <td>1.700468</td>\n",
       "      <td>51.063830</td>\n",
       "      <td>7.773512</td>\n",
       "    </tr>\n",
       "    <tr>\n",
       "      <th>3043</th>\n",
       "      <td>1962.667684</td>\n",
       "      <td>43</td>\n",
       "      <td>150.1</td>\n",
       "      <td>453.549422</td>\n",
       "      <td>48609</td>\n",
       "      <td>37118</td>\n",
       "      <td>18.8</td>\n",
       "      <td>377.175494</td>\n",
       "      <td>(48021.6, 51046.4]</td>\n",
       "      <td>30.4</td>\n",
       "      <td>...</td>\n",
       "      <td>53.3</td>\n",
       "      <td>48.6</td>\n",
       "      <td>28.8</td>\n",
       "      <td>17.7</td>\n",
       "      <td>75.706245</td>\n",
       "      <td>2.326771</td>\n",
       "      <td>4.044920</td>\n",
       "      <td>14.130288</td>\n",
       "      <td>52.007937</td>\n",
       "      <td>8.186470</td>\n",
       "    </tr>\n",
       "    <tr>\n",
       "      <th>3044</th>\n",
       "      <td>1962.667684</td>\n",
       "      <td>46</td>\n",
       "      <td>153.9</td>\n",
       "      <td>453.549422</td>\n",
       "      <td>51144</td>\n",
       "      <td>34536</td>\n",
       "      <td>15.0</td>\n",
       "      <td>1968.959926</td>\n",
       "      <td>(51046.4, 54545.6]</td>\n",
       "      <td>30.9</td>\n",
       "      <td>...</td>\n",
       "      <td>52.6</td>\n",
       "      <td>47.8</td>\n",
       "      <td>26.6</td>\n",
       "      <td>16.8</td>\n",
       "      <td>87.961629</td>\n",
       "      <td>2.313188</td>\n",
       "      <td>1.316472</td>\n",
       "      <td>5.680705</td>\n",
       "      <td>55.153949</td>\n",
       "      <td>7.809192</td>\n",
       "    </tr>\n",
       "    <tr>\n",
       "      <th>3045</th>\n",
       "      <td>1962.667684</td>\n",
       "      <td>52</td>\n",
       "      <td>175.0</td>\n",
       "      <td>453.549422</td>\n",
       "      <td>50745</td>\n",
       "      <td>25609</td>\n",
       "      <td>13.3</td>\n",
       "      <td>0.000000</td>\n",
       "      <td>(48021.6, 51046.4]</td>\n",
       "      <td>39.0</td>\n",
       "      <td>...</td>\n",
       "      <td>56.3</td>\n",
       "      <td>49.6</td>\n",
       "      <td>29.5</td>\n",
       "      <td>14.0</td>\n",
       "      <td>92.905681</td>\n",
       "      <td>1.176562</td>\n",
       "      <td>0.244632</td>\n",
       "      <td>2.131790</td>\n",
       "      <td>58.484232</td>\n",
       "      <td>7.582938</td>\n",
       "    </tr>\n",
       "    <tr>\n",
       "      <th>3046</th>\n",
       "      <td>1962.667684</td>\n",
       "      <td>48</td>\n",
       "      <td>213.6</td>\n",
       "      <td>453.549422</td>\n",
       "      <td>41193</td>\n",
       "      <td>37030</td>\n",
       "      <td>13.9</td>\n",
       "      <td>0.000000</td>\n",
       "      <td>(40362.7, 42724.4]</td>\n",
       "      <td>26.2</td>\n",
       "      <td>...</td>\n",
       "      <td>60.3</td>\n",
       "      <td>22.9</td>\n",
       "      <td>25.1</td>\n",
       "      <td>12.6</td>\n",
       "      <td>70.098132</td>\n",
       "      <td>16.590100</td>\n",
       "      <td>3.177753</td>\n",
       "      <td>1.356457</td>\n",
       "      <td>56.040242</td>\n",
       "      <td>8.981723</td>\n",
       "    </tr>\n",
       "  </tbody>\n",
       "</table>\n",
       "<p>3047 rows × 34 columns</p>\n",
       "</div>"
      ],
      "text/plain": [
       "      avganncount  avgdeathsperyear  target_deathrate  incidencerate  \\\n",
       "0     1397.000000               469             164.9     489.800000   \n",
       "1      173.000000                70             161.3     411.600000   \n",
       "2      102.000000                50             174.7     349.700000   \n",
       "3      427.000000               202             194.8     430.400000   \n",
       "4       57.000000                26             144.4     350.100000   \n",
       "...           ...               ...               ...            ...   \n",
       "3042  1962.667684                15             149.6     453.549422   \n",
       "3043  1962.667684                43             150.1     453.549422   \n",
       "3044  1962.667684                46             153.9     453.549422   \n",
       "3045  1962.667684                52             175.0     453.549422   \n",
       "3046  1962.667684                48             213.6     453.549422   \n",
       "\n",
       "      medincome  popest2015  povertypercent  studypercap           binnedinc  \\\n",
       "0         61898      260131            11.2   499.748204   (61494.5, 125635]   \n",
       "1         48127       43269            18.6    23.111234  (48021.6, 51046.4]   \n",
       "2         49348       21026            14.6    47.560164  (48021.6, 51046.4]   \n",
       "3         44243       75882            17.1   342.637253    (42724.4, 45201]   \n",
       "4         49955       10321            12.5     0.000000  (48021.6, 51046.4]   \n",
       "...         ...         ...             ...          ...                 ...   \n",
       "3042      46961        6343            12.4     0.000000    (45201, 48021.6]   \n",
       "3043      48609       37118            18.8   377.175494  (48021.6, 51046.4]   \n",
       "3044      51144       34536            15.0  1968.959926  (51046.4, 54545.6]   \n",
       "3045      50745       25609            13.3     0.000000  (48021.6, 51046.4]   \n",
       "3046      41193       37030            13.9     0.000000  (40362.7, 42724.4]   \n",
       "\n",
       "      medianage  ...  pctprivatecoveragealone  pctempprivcoverage  \\\n",
       "0          39.3  ...                      NaN                41.6   \n",
       "1          33.0  ...                     53.8                43.6   \n",
       "2          45.0  ...                     43.5                34.9   \n",
       "3          42.8  ...                     40.3                35.0   \n",
       "4          48.3  ...                     43.9                35.1   \n",
       "...         ...  ...                      ...                 ...   \n",
       "3042       44.2  ...                     54.9                44.6   \n",
       "3043       30.4  ...                     53.3                48.6   \n",
       "3044       30.9  ...                     52.6                47.8   \n",
       "3045       39.0  ...                     56.3                49.6   \n",
       "3046       26.2  ...                     60.3                22.9   \n",
       "\n",
       "     pctpubliccoverage  pctpubliccoveragealone   pctwhite   pctblack  \\\n",
       "0                 32.9                    14.0  81.780529   2.594728   \n",
       "1                 31.1                    15.3  89.228509   0.969102   \n",
       "2                 42.1                    21.1  90.922190   0.739673   \n",
       "3                 45.3                    25.0  91.744686   0.782626   \n",
       "4                 44.0                    22.7  94.104024   0.270192   \n",
       "...                ...                     ...        ...        ...   \n",
       "3042              31.7                    13.2  90.280811   3.837754   \n",
       "3043              28.8                    17.7  75.706245   2.326771   \n",
       "3044              26.6                    16.8  87.961629   2.313188   \n",
       "3045              29.5                    14.0  92.905681   1.176562   \n",
       "3046              25.1                    12.6  70.098132  16.590100   \n",
       "\n",
       "      pctasian  pctotherrace  pctmarriedhouseholds  birthrate  \n",
       "0     4.821857      1.843479             52.856076   6.118831  \n",
       "1     2.246233      3.741352             45.372500   4.333096  \n",
       "2     0.465898      2.747358             54.444868   3.729488  \n",
       "3     1.161359      1.362643             51.021514   4.603841  \n",
       "4     0.665830      0.492135             54.027460   6.796657  \n",
       "...        ...           ...                   ...        ...  \n",
       "3042  0.327613      1.700468             51.063830   7.773512  \n",
       "3043  4.044920     14.130288             52.007937   8.186470  \n",
       "3044  1.316472      5.680705             55.153949   7.809192  \n",
       "3045  0.244632      2.131790             58.484232   7.582938  \n",
       "3046  3.177753      1.356457             56.040242   8.981723  \n",
       "\n",
       "[3047 rows x 34 columns]"
      ]
     },
     "execution_count": 4,
     "metadata": {},
     "output_type": "execute_result"
    }
   ],
   "source": [
    "data"
   ]
  },
  {
   "cell_type": "code",
   "execution_count": 5,
   "metadata": {},
   "outputs": [
    {
     "data": {
      "text/plain": [
       "Index(['avganncount', 'avgdeathsperyear', 'target_deathrate', 'incidencerate',\n",
       "       'medincome', 'popest2015', 'povertypercent', 'studypercap', 'binnedinc',\n",
       "       'medianage', 'medianagemale', 'medianagefemale', 'geography',\n",
       "       'avghouseholdsize', 'percentmarried', 'pctnohs18_24', 'pcths18_24',\n",
       "       'pctsomecol18_24', 'pctbachdeg18_24', 'pcths25_over',\n",
       "       'pctbachdeg25_over', 'pctemployed16_over', 'pctunemployed16_over',\n",
       "       'pctprivatecoverage', 'pctprivatecoveragealone', 'pctempprivcoverage',\n",
       "       'pctpubliccoverage', 'pctpubliccoveragealone', 'pctwhite', 'pctblack',\n",
       "       'pctasian', 'pctotherrace', 'pctmarriedhouseholds', 'birthrate'],\n",
       "      dtype='object')"
      ]
     },
     "execution_count": 5,
     "metadata": {},
     "output_type": "execute_result"
    }
   ],
   "source": [
    "data.columns"
   ]
  },
  {
   "cell_type": "markdown",
   "metadata": {},
   "source": [
    "Descriptive statistics"
   ]
  },
  {
   "cell_type": "code",
   "execution_count": 4,
   "metadata": {},
   "outputs": [
    {
     "data": {
      "text/html": [
       "<div>\n",
       "<style scoped>\n",
       "    .dataframe tbody tr th:only-of-type {\n",
       "        vertical-align: middle;\n",
       "    }\n",
       "\n",
       "    .dataframe tbody tr th {\n",
       "        vertical-align: top;\n",
       "    }\n",
       "\n",
       "    .dataframe thead th {\n",
       "        text-align: right;\n",
       "    }\n",
       "</style>\n",
       "<table border=\"1\" class=\"dataframe\">\n",
       "  <thead>\n",
       "    <tr style=\"text-align: right;\">\n",
       "      <th></th>\n",
       "      <th>avganncount</th>\n",
       "      <th>avgdeathsperyear</th>\n",
       "      <th>target_deathrate</th>\n",
       "      <th>incidencerate</th>\n",
       "      <th>medincome</th>\n",
       "      <th>popest2015</th>\n",
       "      <th>povertypercent</th>\n",
       "      <th>studypercap</th>\n",
       "      <th>medianage</th>\n",
       "      <th>medianagemale</th>\n",
       "      <th>...</th>\n",
       "      <th>pctprivatecoveragealone</th>\n",
       "      <th>pctempprivcoverage</th>\n",
       "      <th>pctpubliccoverage</th>\n",
       "      <th>pctpubliccoveragealone</th>\n",
       "      <th>pctwhite</th>\n",
       "      <th>pctblack</th>\n",
       "      <th>pctasian</th>\n",
       "      <th>pctotherrace</th>\n",
       "      <th>pctmarriedhouseholds</th>\n",
       "      <th>birthrate</th>\n",
       "    </tr>\n",
       "  </thead>\n",
       "  <tbody>\n",
       "    <tr>\n",
       "      <th>count</th>\n",
       "      <td>3047.000000</td>\n",
       "      <td>3047.000000</td>\n",
       "      <td>3047.000000</td>\n",
       "      <td>3047.000000</td>\n",
       "      <td>3047.000000</td>\n",
       "      <td>3.047000e+03</td>\n",
       "      <td>3047.000000</td>\n",
       "      <td>3047.000000</td>\n",
       "      <td>3047.000000</td>\n",
       "      <td>3047.000000</td>\n",
       "      <td>...</td>\n",
       "      <td>2438.000000</td>\n",
       "      <td>3047.000000</td>\n",
       "      <td>3047.000000</td>\n",
       "      <td>3047.000000</td>\n",
       "      <td>3047.000000</td>\n",
       "      <td>3047.000000</td>\n",
       "      <td>3047.000000</td>\n",
       "      <td>3047.000000</td>\n",
       "      <td>3047.000000</td>\n",
       "      <td>3047.000000</td>\n",
       "    </tr>\n",
       "    <tr>\n",
       "      <th>mean</th>\n",
       "      <td>606.338544</td>\n",
       "      <td>185.965868</td>\n",
       "      <td>178.664063</td>\n",
       "      <td>448.268586</td>\n",
       "      <td>47063.281917</td>\n",
       "      <td>1.026374e+05</td>\n",
       "      <td>16.878175</td>\n",
       "      <td>155.399415</td>\n",
       "      <td>45.272333</td>\n",
       "      <td>39.570725</td>\n",
       "      <td>...</td>\n",
       "      <td>48.453774</td>\n",
       "      <td>41.196324</td>\n",
       "      <td>36.252642</td>\n",
       "      <td>19.240072</td>\n",
       "      <td>83.645286</td>\n",
       "      <td>9.107978</td>\n",
       "      <td>1.253965</td>\n",
       "      <td>1.983523</td>\n",
       "      <td>51.243872</td>\n",
       "      <td>5.640306</td>\n",
       "    </tr>\n",
       "    <tr>\n",
       "      <th>std</th>\n",
       "      <td>1416.356223</td>\n",
       "      <td>504.134286</td>\n",
       "      <td>27.751511</td>\n",
       "      <td>54.560733</td>\n",
       "      <td>12040.090836</td>\n",
       "      <td>3.290592e+05</td>\n",
       "      <td>6.409087</td>\n",
       "      <td>529.628366</td>\n",
       "      <td>45.304480</td>\n",
       "      <td>5.226017</td>\n",
       "      <td>...</td>\n",
       "      <td>10.083006</td>\n",
       "      <td>9.447687</td>\n",
       "      <td>7.841741</td>\n",
       "      <td>6.113041</td>\n",
       "      <td>16.380025</td>\n",
       "      <td>14.534538</td>\n",
       "      <td>2.610276</td>\n",
       "      <td>3.517710</td>\n",
       "      <td>6.572814</td>\n",
       "      <td>1.985816</td>\n",
       "    </tr>\n",
       "    <tr>\n",
       "      <th>min</th>\n",
       "      <td>6.000000</td>\n",
       "      <td>3.000000</td>\n",
       "      <td>59.700000</td>\n",
       "      <td>201.300000</td>\n",
       "      <td>22640.000000</td>\n",
       "      <td>8.270000e+02</td>\n",
       "      <td>3.200000</td>\n",
       "      <td>0.000000</td>\n",
       "      <td>22.300000</td>\n",
       "      <td>22.400000</td>\n",
       "      <td>...</td>\n",
       "      <td>15.700000</td>\n",
       "      <td>13.500000</td>\n",
       "      <td>11.200000</td>\n",
       "      <td>2.600000</td>\n",
       "      <td>10.199155</td>\n",
       "      <td>0.000000</td>\n",
       "      <td>0.000000</td>\n",
       "      <td>0.000000</td>\n",
       "      <td>22.992490</td>\n",
       "      <td>0.000000</td>\n",
       "    </tr>\n",
       "    <tr>\n",
       "      <th>25%</th>\n",
       "      <td>76.000000</td>\n",
       "      <td>28.000000</td>\n",
       "      <td>161.200000</td>\n",
       "      <td>420.300000</td>\n",
       "      <td>38882.500000</td>\n",
       "      <td>1.168400e+04</td>\n",
       "      <td>12.150000</td>\n",
       "      <td>0.000000</td>\n",
       "      <td>37.700000</td>\n",
       "      <td>36.350000</td>\n",
       "      <td>...</td>\n",
       "      <td>41.000000</td>\n",
       "      <td>34.500000</td>\n",
       "      <td>30.900000</td>\n",
       "      <td>14.850000</td>\n",
       "      <td>77.296180</td>\n",
       "      <td>0.620675</td>\n",
       "      <td>0.254199</td>\n",
       "      <td>0.295172</td>\n",
       "      <td>47.763063</td>\n",
       "      <td>4.521419</td>\n",
       "    </tr>\n",
       "    <tr>\n",
       "      <th>50%</th>\n",
       "      <td>171.000000</td>\n",
       "      <td>61.000000</td>\n",
       "      <td>178.100000</td>\n",
       "      <td>453.549422</td>\n",
       "      <td>45207.000000</td>\n",
       "      <td>2.664300e+04</td>\n",
       "      <td>15.900000</td>\n",
       "      <td>0.000000</td>\n",
       "      <td>41.000000</td>\n",
       "      <td>39.600000</td>\n",
       "      <td>...</td>\n",
       "      <td>48.700000</td>\n",
       "      <td>41.100000</td>\n",
       "      <td>36.300000</td>\n",
       "      <td>18.800000</td>\n",
       "      <td>90.059774</td>\n",
       "      <td>2.247576</td>\n",
       "      <td>0.549812</td>\n",
       "      <td>0.826185</td>\n",
       "      <td>51.669941</td>\n",
       "      <td>5.381478</td>\n",
       "    </tr>\n",
       "    <tr>\n",
       "      <th>75%</th>\n",
       "      <td>518.000000</td>\n",
       "      <td>149.000000</td>\n",
       "      <td>195.200000</td>\n",
       "      <td>480.850000</td>\n",
       "      <td>52492.000000</td>\n",
       "      <td>6.867100e+04</td>\n",
       "      <td>20.400000</td>\n",
       "      <td>83.650776</td>\n",
       "      <td>44.000000</td>\n",
       "      <td>42.500000</td>\n",
       "      <td>...</td>\n",
       "      <td>55.600000</td>\n",
       "      <td>47.700000</td>\n",
       "      <td>41.550000</td>\n",
       "      <td>23.100000</td>\n",
       "      <td>95.451693</td>\n",
       "      <td>10.509732</td>\n",
       "      <td>1.221037</td>\n",
       "      <td>2.177960</td>\n",
       "      <td>55.395132</td>\n",
       "      <td>6.493677</td>\n",
       "    </tr>\n",
       "    <tr>\n",
       "      <th>max</th>\n",
       "      <td>38150.000000</td>\n",
       "      <td>14010.000000</td>\n",
       "      <td>362.800000</td>\n",
       "      <td>1206.900000</td>\n",
       "      <td>125635.000000</td>\n",
       "      <td>1.017029e+07</td>\n",
       "      <td>47.400000</td>\n",
       "      <td>9762.308998</td>\n",
       "      <td>624.000000</td>\n",
       "      <td>64.700000</td>\n",
       "      <td>...</td>\n",
       "      <td>78.900000</td>\n",
       "      <td>70.700000</td>\n",
       "      <td>65.100000</td>\n",
       "      <td>46.600000</td>\n",
       "      <td>100.000000</td>\n",
       "      <td>85.947799</td>\n",
       "      <td>42.619425</td>\n",
       "      <td>41.930251</td>\n",
       "      <td>78.075397</td>\n",
       "      <td>21.326165</td>\n",
       "    </tr>\n",
       "  </tbody>\n",
       "</table>\n",
       "<p>8 rows × 32 columns</p>\n",
       "</div>"
      ],
      "text/plain": [
       "        avganncount  avgdeathsperyear  target_deathrate  incidencerate  \\\n",
       "count   3047.000000       3047.000000       3047.000000    3047.000000   \n",
       "mean     606.338544        185.965868        178.664063     448.268586   \n",
       "std     1416.356223        504.134286         27.751511      54.560733   \n",
       "min        6.000000          3.000000         59.700000     201.300000   \n",
       "25%       76.000000         28.000000        161.200000     420.300000   \n",
       "50%      171.000000         61.000000        178.100000     453.549422   \n",
       "75%      518.000000        149.000000        195.200000     480.850000   \n",
       "max    38150.000000      14010.000000        362.800000    1206.900000   \n",
       "\n",
       "           medincome    popest2015  povertypercent  studypercap    medianage  \\\n",
       "count    3047.000000  3.047000e+03     3047.000000  3047.000000  3047.000000   \n",
       "mean    47063.281917  1.026374e+05       16.878175   155.399415    45.272333   \n",
       "std     12040.090836  3.290592e+05        6.409087   529.628366    45.304480   \n",
       "min     22640.000000  8.270000e+02        3.200000     0.000000    22.300000   \n",
       "25%     38882.500000  1.168400e+04       12.150000     0.000000    37.700000   \n",
       "50%     45207.000000  2.664300e+04       15.900000     0.000000    41.000000   \n",
       "75%     52492.000000  6.867100e+04       20.400000    83.650776    44.000000   \n",
       "max    125635.000000  1.017029e+07       47.400000  9762.308998   624.000000   \n",
       "\n",
       "       medianagemale  ...  pctprivatecoveragealone  pctempprivcoverage  \\\n",
       "count    3047.000000  ...              2438.000000         3047.000000   \n",
       "mean       39.570725  ...                48.453774           41.196324   \n",
       "std         5.226017  ...                10.083006            9.447687   \n",
       "min        22.400000  ...                15.700000           13.500000   \n",
       "25%        36.350000  ...                41.000000           34.500000   \n",
       "50%        39.600000  ...                48.700000           41.100000   \n",
       "75%        42.500000  ...                55.600000           47.700000   \n",
       "max        64.700000  ...                78.900000           70.700000   \n",
       "\n",
       "       pctpubliccoverage  pctpubliccoveragealone     pctwhite     pctblack  \\\n",
       "count        3047.000000             3047.000000  3047.000000  3047.000000   \n",
       "mean           36.252642               19.240072    83.645286     9.107978   \n",
       "std             7.841741                6.113041    16.380025    14.534538   \n",
       "min            11.200000                2.600000    10.199155     0.000000   \n",
       "25%            30.900000               14.850000    77.296180     0.620675   \n",
       "50%            36.300000               18.800000    90.059774     2.247576   \n",
       "75%            41.550000               23.100000    95.451693    10.509732   \n",
       "max            65.100000               46.600000   100.000000    85.947799   \n",
       "\n",
       "          pctasian  pctotherrace  pctmarriedhouseholds    birthrate  \n",
       "count  3047.000000   3047.000000           3047.000000  3047.000000  \n",
       "mean      1.253965      1.983523             51.243872     5.640306  \n",
       "std       2.610276      3.517710              6.572814     1.985816  \n",
       "min       0.000000      0.000000             22.992490     0.000000  \n",
       "25%       0.254199      0.295172             47.763063     4.521419  \n",
       "50%       0.549812      0.826185             51.669941     5.381478  \n",
       "75%       1.221037      2.177960             55.395132     6.493677  \n",
       "max      42.619425     41.930251             78.075397    21.326165  \n",
       "\n",
       "[8 rows x 32 columns]"
      ]
     },
     "execution_count": 4,
     "metadata": {},
     "output_type": "execute_result"
    }
   ],
   "source": [
    "data.describe()"
   ]
  },
  {
   "cell_type": "markdown",
   "metadata": {},
   "source": [
    "## 1. Analysis of socioeconomical factors impacting cancer mortality rates"
   ]
  },
  {
   "cell_type": "markdown",
   "metadata": {},
   "source": [
    "### 1.1 Differences in cancer mortality by percentage of black citizens in a county"
   ]
  },
  {
   "cell_type": "code",
   "execution_count": 5,
   "metadata": {},
   "outputs": [
    {
     "data": {
      "text/plain": [
       "count    3047.000000\n",
       "mean        9.107978\n",
       "std        14.534538\n",
       "min         0.000000\n",
       "25%         0.620675\n",
       "50%         2.247576\n",
       "75%        10.509732\n",
       "max        85.947799\n",
       "Name: pctblack, dtype: float64"
      ]
     },
     "execution_count": 5,
     "metadata": {},
     "output_type": "execute_result"
    }
   ],
   "source": [
    "## first, lets check descriptive stats of black population percentage\n",
    "\n",
    "data.pctblack.describe()"
   ]
  },
  {
   "cell_type": "code",
   "execution_count": 8,
   "metadata": {},
   "outputs": [
    {
     "data": {
      "image/png": "[encoded data removed]",
      "text/plain": [
       "<Figure size 432x288 with 1 Axes>"
      ]
     },
     "metadata": {
      "needs_background": "light"
     },
     "output_type": "display_data"
    },
    {
     "data": {
      "image/png": "[encoded data removed]",
      "text/plain": [
       "<Figure size 432x288 with 1 Axes>"
      ]
     },
     "metadata": {
      "needs_background": "light"
     },
     "output_type": "display_data"
    }
   ],
   "source": [
    "#histogram of black population percentage and cancer death rates by black pop. percentage\n",
    "plt.hist(data.pctblack,bins=20)\n",
    "plt.title(\"Number of counties by percentage of black population\")\n",
    "plt.xlabel(\"Pct of black population\")\n",
    "plt.ylabel(\"Number of counties\")\n",
    "plt.show()\n",
    "plt.scatter(data.pctblack,data.target_deathrate)\n",
    "plt.title(\"Cancert deathrate by percentage of black population\")\n",
    "plt.xlabel(\"Pct of black population\")\n",
    "plt.ylabel(\"Cancer deaths per 100000 inh\")\n",
    "plt.show()"
   ]
  },
  {
   "cell_type": "markdown",
   "metadata": {},
   "source": [
    "Most of the counties have under 4% of black population. However there are some counties with heavy black black majority. On a plot showing correlation between percentage of black population and cancer death rate there seems to be small positive correlation, subject to further testing. For further tests data will be divided into four categories, for counties with less than 1% black population, less than 10%, less than 50% and higher than 50%. Groups won't be equally numerous, as the distribution of pctblack variable is very oblique"
   ]
  },
  {
   "cell_type": "code",
   "execution_count": 4,
   "metadata": {},
   "outputs": [],
   "source": [
    "# categorizing data\n",
    "pct_black_cat = categorize(data,\"pctblack\",\"target_deathrate\",[1,10,50])"
   ]
  },
  {
   "cell_type": "code",
   "execution_count": 5,
   "metadata": {},
   "outputs": [
    {
     "name": "stdout",
     "output_type": "stream",
     "text": [
      "Mean death rate per 100000 inhabitants for category Under 1 is 172.65918367346913\n",
      "Mean death rate per 100000 inhabitants for category Over 1 is 177.50414201183432\n",
      "Mean death rate per 100000 inhabitants for category Over 10 is 186.77304347826086\n",
      "Mean death rate per 100000 inhabitants for category Over 50 is 202.10416666666663\n"
     ]
    }
   ],
   "source": [
    "# printing out means deathrate for categories\n",
    "for category in pct_black_cat:\n",
    "    result = pct_black_cat[category].mean()\n",
    "    print(f\"Mean death rate per 100000 inhabitants for category {category} is {result}\")\n"
   ]
  },
  {
   "cell_type": "markdown",
   "metadata": {},
   "source": [
    "Mean death rate grows with growing percentage of black population. Further tests will show if the difference is statistically significant"
   ]
  },
  {
   "cell_type": "code",
   "execution_count": 6,
   "metadata": {},
   "outputs": [],
   "source": [
    "# preparing arras for statistical testing\n",
    "array1, array2,array3, array4 = pct_black_cat.values()"
   ]
  },
  {
   "cell_type": "code",
   "execution_count": 7,
   "metadata": {},
   "outputs": [
    {
     "name": "stdout",
     "output_type": "stream",
     "text": [
      "Levene test result = LeveneResult(statistic=17.314119263781524, pvalue=3.804543855636038e-11)\n",
      "----\n",
      "Unequal variances, performing kruskall wallis test\n",
      "\n",
      "KruskalResult(statistic=199.60973218025765, pvalue=5.122570061843188e-43)\n",
      "\n",
      "Differences between groups, performing post hoc ttests\n",
      "{('Over 1', 'Over 10'): 'Ttest_indResult(statistic=-8.04898478077863, '\n",
      "                        'pvalue=1.6540896272866057e-15) \\n',\n",
      " ('Over 1', 'Over 50'): 'Ttest_indResult(statistic=-8.243273884652549, '\n",
      "                        'pvalue=4.432609950799515e-13) \\n',\n",
      " ('Over 1', 'Under 1'): 'Ttest_indResult(statistic=4.089858601857582, '\n",
      "                        'pvalue=4.4792420325032e-05) \\n',\n",
      " ('Over 10', 'Over 1'): 'Ttest_indResult(statistic=8.04898478077863, '\n",
      "                        'pvalue=1.6540896272866057e-15) \\n',\n",
      " ('Over 10', 'Over 50'): 'Ttest_indResult(statistic=-5.068148896975147, '\n",
      "                         'pvalue=1.5736577761049696e-06) \\n',\n",
      " ('Over 10', 'Under 1'): 'Ttest_indResult(statistic=10.993751984457203, '\n",
      "                         'pvalue=3.2502513447507096e-27) \\n',\n",
      " ('Over 50', 'Over 1'): 'Ttest_indResult(statistic=8.243273884652549, '\n",
      "                        'pvalue=4.432609950799515e-13) \\n',\n",
      " ('Over 50', 'Over 10'): 'Ttest_indResult(statistic=5.068148896975147, '\n",
      "                         'pvalue=1.5736577761049696e-06) \\n',\n",
      " ('Over 50', 'Under 1'): 'Ttest_indResult(statistic=9.69306823490537, '\n",
      "                         'pvalue=1.289769751145019e-16) \\n',\n",
      " ('Under 1', 'Over 1'): 'Ttest_indResult(statistic=-4.089858601857582, '\n",
      "                        'pvalue=4.4792420325032e-05) \\n',\n",
      " ('Under 1', 'Over 10'): 'Ttest_indResult(statistic=-10.993751984457203, '\n",
      "                         'pvalue=3.2502513447507096e-27) \\n',\n",
      " ('Under 1', 'Over 50'): 'Ttest_indResult(statistic=-9.69306823490537, '\n",
      "                         'pvalue=1.289769751145019e-16) \\n'}\n"
     ]
    }
   ],
   "source": [
    "# statistical testing\n",
    "differences(pct_black_cat,array1, array2,array3, array4)"
   ]
  },
  {
   "cell_type": "markdown",
   "metadata": {},
   "source": [
    "Every single ttest has significant results. It means that with increase of black population in county, cancer death rates are becoming higher and higher. It would mean that black citizens are more likely to die of cancer than others. We can pose more questions: does these counties have simply higher cancer illness rates or are they also receiving worse treatment (have higher proportion of yearly deaths to yearly rates?"
   ]
  },
  {
   "cell_type": "code",
   "execution_count": 12,
   "metadata": {},
   "outputs": [
    {
     "name": "stdout",
     "output_type": "stream",
     "text": [
      "Mean incidence rate per 100000 inhabitants for category Under 1 is 439.7790626124317\n",
      "Mean incidence rate per 100000 inhabitants for category Over 1 is 448.7928185510563\n",
      "Mean incidence rate per 100000 inhabitants for category Over 10 is 458.85499581231943\n",
      "Mean incidence rate per 100000 inhabitants for category Over 50 is 461.04895833333325\n"
     ]
    }
   ],
   "source": [
    "#categorizing data with different key variable - incidencerate\n",
    "pct_black_cat = categorize(data,\"pctblack\",\"incidencerate\",[1,10,50])\n",
    "\n",
    "for category in pct_black_cat:\n",
    "    result = pct_black_cat[category].mean()\n",
    "    print(f\"Mean incidence rate per 100000 inhabitants for category {category} is {result}\")"
   ]
  },
  {
   "cell_type": "markdown",
   "metadata": {},
   "source": [
    "Again, incidence rate is growing with growing proportion of black citizens"
   ]
  },
  {
   "cell_type": "code",
   "execution_count": 13,
   "metadata": {},
   "outputs": [
    {
     "name": "stdout",
     "output_type": "stream",
     "text": [
      "Levene test result = LeveneResult(statistic=2.9089336340273393, pvalue=0.03331900734859659)\n",
      "----\n",
      "Unequal variances, performing kruskall wallis test\n",
      "\n",
      "KruskalResult(statistic=54.361294132811985, pvalue=9.396353560886622e-12)\n",
      "\n",
      "Differences between groups, performing post hoc ttests\n",
      "{('Over 1', 'Over 10'): 'Ttest_indResult(statistic=-3.813660946497363, '\n",
      "                        'pvalue=0.0001433138089237598) \\n',\n",
      " ('Over 1', 'Over 50'): 'Ttest_indResult(statistic=-2.272304540826404, '\n",
      "                        'pvalue=0.024993836534655606) \\n',\n",
      " ('Over 1', 'Under 1'): 'Ttest_indResult(statistic=4.011160700163226, '\n",
      "                        'pvalue=6.244922528831411e-05) \\n',\n",
      " ('Over 10', 'Over 1'): 'Ttest_indResult(statistic=3.813660946497363, '\n",
      "                        'pvalue=0.0001433138089237598) \\n',\n",
      " ('Over 10', 'Over 50'): 'Ttest_indResult(statistic=-0.38982100187118396, '\n",
      "                         'pvalue=0.6973013566093795) \\n',\n",
      " ('Over 10', 'Under 1'): 'Ttest_indResult(statistic=6.904348610657723, '\n",
      "                         'pvalue=7.554343954118847e-12) \\n',\n",
      " ('Over 50', 'Over 1'): 'Ttest_indResult(statistic=2.272304540826404, '\n",
      "                        'pvalue=0.024993836534655606) \\n',\n",
      " ('Over 50', 'Over 10'): 'Ttest_indResult(statistic=0.38982100187118396, '\n",
      "                         'pvalue=0.6973013566093795) \\n',\n",
      " ('Over 50', 'Under 1'): 'Ttest_indResult(statistic=3.898689688196054, '\n",
      "                         'pvalue=0.00016231641775074483) \\n',\n",
      " ('Under 1', 'Over 1'): 'Ttest_indResult(statistic=-4.011160700163226, '\n",
      "                        'pvalue=6.244922528831411e-05) \\n',\n",
      " ('Under 1', 'Over 10'): 'Ttest_indResult(statistic=-6.904348610657723, '\n",
      "                         'pvalue=7.554343954118847e-12) \\n',\n",
      " ('Under 1', 'Over 50'): 'Ttest_indResult(statistic=-3.898689688196054, '\n",
      "                         'pvalue=0.00016231641775074483) \\n'}\n"
     ]
    }
   ],
   "source": [
    "array1, array2,array3, array4 = pct_black_cat.values()\n",
    "\n",
    "differences(pct_black_cat,array1, array2,array3, array4)"
   ]
  },
  {
   "cell_type": "markdown",
   "metadata": {},
   "source": [
    "Ttest show that higher cancer incidence rate is tied to higher pct of black citizens in counties, however only to the 10% threshold. There is no statistical difference between groups Over 10 and Over 50. What about incidence/death ratio?"
   ]
  },
  {
   "cell_type": "code",
   "execution_count": 15,
   "metadata": {},
   "outputs": [
    {
     "name": "stdout",
     "output_type": "stream",
     "text": [
      "Mean incidence rate per 100000 inhabitants for category Under 1 is 0.39260437422331346\n",
      "Mean incidence rate per 100000 inhabitants for category Over 1 is 0.39551466662259166\n",
      "Mean incidence rate per 100000 inhabitants for category Over 10 is 0.40704153857497644\n",
      "Mean incidence rate per 100000 inhabitants for category Over 50 is 0.43835727857896506\n"
     ]
    }
   ],
   "source": [
    "# ratio per category\n",
    "pct_black_cat = categorize(data,\"pctblack\",[\"incidencerate\",\"target_deathrate\"],[1,10,50])\n",
    "\n",
    "for category in pct_black_cat:\n",
    "    result = pct_black_cat[category].target_deathrate.mean() / pct_black_cat[category].incidencerate.mean()\n",
    "    print(f\"Mean incidence rate per 100000 inhabitants for category {category} is {result}\")\n"
   ]
  },
  {
   "cell_type": "markdown",
   "metadata": {},
   "source": [
    "Now let's visualise relation between pct of black citizens, poverty rates and median income"
   ]
  },
  {
   "cell_type": "code",
   "execution_count": 10,
   "metadata": {},
   "outputs": [
    {
     "data": {
      "image/png": "[encoded data removed]",
      "text/plain": [
       "<Figure size 432x288 with 1 Axes>"
      ]
     },
     "metadata": {
      "needs_background": "light"
     },
     "output_type": "display_data"
    },
    {
     "data": {
      "image/png": "[encoded data removed]",
      "text/plain": [
       "<Figure size 432x288 with 1 Axes>"
      ]
     },
     "metadata": {
      "needs_background": "light"
     },
     "output_type": "display_data"
    }
   ],
   "source": [
    "plt.scatter(data.pctblack,data.povertypercent)\n",
    "plt.title(\"Poverty percent by percentage of black population\")\n",
    "plt.xlabel(\"Pct of black population\")\n",
    "plt.ylabel(\"Poverty percent\")\n",
    "plt.show()\n",
    "\n",
    "plt.scatter(data.pctblack,data.medincome)\n",
    "plt.title(\"Median income by percentage of black population\")\n",
    "plt.xlabel(\"Pct of black population\")\n",
    "plt.ylabel(\"Median income\")\n",
    "plt.show()"
   ]
  },
  {
   "cell_type": "code",
   "execution_count": 11,
   "metadata": {},
   "outputs": [
    {
     "name": "stdout",
     "output_type": "stream",
     "text": [
      "Correlation value between pct of black popularion and poverty rate is: (0.5115296628242751, 7.393986552383893e-203)\n",
      "Correlation value between pct of black popularion and poverty rate is: (-0.2702316192292904, 3.8686135980687544e-52)\n"
     ]
    }
   ],
   "source": [
    "print(f\"Correlation value between pct of black popularion and poverty rate is: {stats.pearsonr(data.pctblack,data.povertypercent)}\")\n",
    "print(f\"Correlation value between pct of black popularion and poverty rate is: {stats.pearsonr(data.pctblack,data.medincome)}\")"
   ]
  },
  {
   "cell_type": "markdown",
   "metadata": {},
   "source": [
    "There is a medium strong positive correlation between poverty rates and percentage of black citizens, and medium weak negative correlation between percentage of black citizens and median income. I would argue that most of the differences in cancer incidence and mortality rates in counties with high black population percentage are primarily caused by income disparities."
   ]
  },
  {
   "cell_type": "markdown",
   "metadata": {},
   "source": [
    "#### Overall results of statistical analysys show, that in counties with higher percentage of black population cancer incidence rates are significantly higher than in those with lower pct. Moreover, citizens in those counties are receiving worse quality healthcare, resulting in higher death rate. It indicates that black citizens in usa have worse acces to quality healthcare and higher chance of dying from cancer than other groups"
   ]
  },
  {
   "cell_type": "markdown",
   "metadata": {},
   "source": [
    "### 1.2  Differences in cancer mortality by percentage of citizens in poverty by county"
   ]
  },
  {
   "cell_type": "code",
   "execution_count": 27,
   "metadata": {},
   "outputs": [
    {
     "data": {
      "text/plain": [
       "count    3047.000000\n",
       "mean       16.878175\n",
       "std         6.409087\n",
       "min         3.200000\n",
       "25%        12.150000\n",
       "50%        15.900000\n",
       "75%        20.400000\n",
       "max        47.400000\n",
       "Name: povertypercent, dtype: float64"
      ]
     },
     "execution_count": 27,
     "metadata": {},
     "output_type": "execute_result"
    }
   ],
   "source": [
    "#descriptive stats\n",
    "data.povertypercent.describe()"
   ]
  },
  {
   "cell_type": "code",
   "execution_count": 17,
   "metadata": {},
   "outputs": [
    {
     "data": {
      "image/png": "[encoded data removed]",
      "text/plain": [
       "<Figure size 432x288 with 1 Axes>"
      ]
     },
     "metadata": {
      "needs_background": "light"
     },
     "output_type": "display_data"
    },
    {
     "data": {
      "image/png": "[encoded data removed]",
      "text/plain": [
       "<Figure size 432x288 with 1 Axes>"
      ]
     },
     "metadata": {
      "needs_background": "light"
     },
     "output_type": "display_data"
    }
   ],
   "source": [
    "# plots\n",
    "plt.hist(data.povertypercent,bins=20)\n",
    "plt.title(\"Number of counties by percentage of population below powerty line\")\n",
    "plt.xlabel(\"Pct of population below powerty line\")\n",
    "plt.ylabel(\"Number of counties\")\n",
    "plt.show()\n",
    "plt.scatter(data.povertypercent,data.target_deathrate)\n",
    "plt.title(\"Cancert deathrate by percentage ofpopulation below powerty line\")\n",
    "plt.xlabel(\"Pct of population in poverty\")\n",
    "plt.ylabel(\"Cancer deaths per 100000 inh\")\n",
    "plt.show()"
   ]
  },
  {
   "cell_type": "markdown",
   "metadata": {},
   "source": [
    "In most counties, percent of citizens living in poverty is around 15. Correlation plot signifies a positive correlation, subjet to further testing. Data will be divided into categories by quartiles, to create data with equal number of samples"
   ]
  },
  {
   "cell_type": "code",
   "execution_count": 6,
   "metadata": {},
   "outputs": [],
   "source": [
    "## Dividing data in four groups: poverty percent less than 10 percent, less than 15 percent, less than 20 and higher than 20\n",
    "poverty_categories = categorize(data,\"povertypercent\",[\"incidencerate\",\"target_deathrate\"],[10,15,20])"
   ]
  },
  {
   "cell_type": "code",
   "execution_count": 7,
   "metadata": {},
   "outputs": [
    {
     "name": "stdout",
     "output_type": "stream",
     "text": [
      "Mean death rate per 100000 inhabitants for category Under 10 is 158.6845272206304\n",
      "Mean death rate per 100000 inhabitants for category Over 10 is 170.15838264299782\n",
      "Mean death rate per 100000 inhabitants for category Over 15 is 182.6727797001154\n",
      "Mean death rate per 100000 inhabitants for category Over 20 is 193.50134638922842\n"
     ]
    }
   ],
   "source": [
    "## Means in each category\n",
    "\n",
    "for category in poverty_categories:\n",
    "    result = poverty_categories[category].target_deathrate.mean()\n",
    "    print(f\"Mean death rate per 100000 inhabitants for category {category} is {result}\")"
   ]
  },
  {
   "cell_type": "markdown",
   "metadata": {},
   "source": [
    "Again, mean cancer mortality rates are growing with increasing number of poor citizens. This information will be subjeted to further statistical testing"
   ]
  },
  {
   "cell_type": "code",
   "execution_count": 9,
   "metadata": {},
   "outputs": [
    {
     "name": "stdout",
     "output_type": "stream",
     "text": [
      "Levene test result = LeveneResult(statistic=31.955441982830905, pvalue=2.4812852169243566e-20)\n",
      "----\n",
      "Unequal variances, performing kruskall wallis test\n",
      "\n",
      "KruskalResult(statistic=553.8049531657143, pvalue=1.0403583618801608e-119)\n",
      "\n",
      "Differences between groups, performing post hoc ttests\n",
      "{('Over 10', 'Over 15'): 'Ttest_indResult(statistic=array([ -1.95906151, '\n",
      "                         '-11.75339795]), pvalue=array([5.02570870e-02, '\n",
      "                         '8.34714682e-31])) \\n',\n",
      " ('Over 10', 'Over 20'): 'Ttest_indResult(statistic=array([  0.63720194, '\n",
      "                         '-17.90726322]), pvalue=array([5.24098515e-01, '\n",
      "                         '4.91231389e-65])) \\n',\n",
      " ('Over 10', 'Under 10'): 'Ttest_indResult(statistic=array([1.11571772, '\n",
      "                          '8.44124238]), pvalue=array([2.65021653e-01, '\n",
      "                          '2.07145298e-16])) \\n',\n",
      " ('Over 15', 'Over 10'): 'Ttest_indResult(statistic=array([ 1.95906151, '\n",
      "                         '11.75339795]), pvalue=array([5.02570870e-02, '\n",
      "                         '8.34714682e-31])) \\n',\n",
      " ('Over 15', 'Over 20'): 'Ttest_indResult(statistic=array([ 2.09750342, '\n",
      "                         '-8.11277811]), pvalue=array([3.61237865e-02, '\n",
      "                         '1.01890103e-15])) \\n',\n",
      " ('Over 15', 'Under 10'): 'Ttest_indResult(statistic=array([ 2.43164098, '\n",
      "                          '17.26745427]), pvalue=array([1.53246674e-02, '\n",
      "                          '1.01986865e-55])) \\n',\n",
      " ('Over 20', 'Over 10'): 'Ttest_indResult(statistic=array([-0.63720194, '\n",
      "                         '17.90726322]), pvalue=array([5.24098515e-01, '\n",
      "                         '4.91231389e-65])) \\n',\n",
      " ('Over 20', 'Over 15'): 'Ttest_indResult(statistic=array([-2.09750342,  '\n",
      "                         '8.11277811]), pvalue=array([3.61237865e-02, '\n",
      "                         '1.01890103e-15])) \\n',\n",
      " ('Over 20', 'Under 10'): 'Ttest_indResult(statistic=array([ 0.46183463, '\n",
      "                          '22.04004674]), pvalue=array([6.44315922e-01, '\n",
      "                          '6.50840777e-87])) \\n',\n",
      " ('Under 10', 'Over 10'): 'Ttest_indResult(statistic=array([-1.11571772, '\n",
      "                          '-8.44124238]), pvalue=array([2.65021653e-01, '\n",
      "                          '2.07145298e-16])) \\n',\n",
      " ('Under 10', 'Over 15'): 'Ttest_indResult(statistic=array([ -2.43164098, '\n",
      "                          '-17.26745427]), pvalue=array([1.53246674e-02, '\n",
      "                          '1.01986865e-55])) \\n',\n",
      " ('Under 10', 'Over 20'): 'Ttest_indResult(statistic=array([ -0.46183463, '\n",
      "                          '-22.04004674]), pvalue=array([6.44315922e-01, '\n",
      "                          '6.50840777e-87])) \\n'}\n"
     ]
    }
   ],
   "source": [
    "# statistical tests\n",
    "array1, array2,array3, array4 = poverty_categories.values()\n",
    "\n",
    "differences(poverty_categories,array1.target_deathrate, array2.target_deathrate,array3.target_deathrate, array4.target_deathrate)"
   ]
  },
  {
   "cell_type": "markdown",
   "metadata": {},
   "source": [
    "There are significant statistical differences indicating that mortality rates are higher in areas with higher poverty rates"
   ]
  },
  {
   "cell_type": "code",
   "execution_count": 25,
   "metadata": {},
   "outputs": [
    {
     "data": {
      "text/plain": [
       "count      3047.000000\n",
       "mean      47063.281917\n",
       "std       12040.090836\n",
       "min       22640.000000\n",
       "25%       38882.500000\n",
       "50%       45207.000000\n",
       "75%       52492.000000\n",
       "max      125635.000000\n",
       "Name: medincome, dtype: float64"
      ]
     },
     "execution_count": 25,
     "metadata": {},
     "output_type": "execute_result"
    }
   ],
   "source": [
    "# testing data by median income\n",
    "data.medincome.describe()"
   ]
  },
  {
   "cell_type": "code",
   "execution_count": 26,
   "metadata": {},
   "outputs": [
    {
     "data": {
      "image/png": "[encoded data removed]",
      "text/plain": [
       "<Figure size 432x288 with 1 Axes>"
      ]
     },
     "metadata": {
      "needs_background": "light"
     },
     "output_type": "display_data"
    },
    {
     "data": {
      "image/png": "[encoded data removed]",
      "text/plain": [
       "<Figure size 432x288 with 1 Axes>"
      ]
     },
     "metadata": {
      "needs_background": "light"
     },
     "output_type": "display_data"
    }
   ],
   "source": [
    "# plots\n",
    "plt.hist(data.medincome,bins=20)\n",
    "plt.title(\"Number of counties by median income\")\n",
    "plt.xlabel(\"Median income\")\n",
    "plt.ylabel(\"Number of counties\")\n",
    "plt.show()\n",
    "plt.scatter(data.medincome,data.target_deathrate)\n",
    "plt.title(\"Cancert deathrate by median income in county\")\n",
    "plt.xlabel(\"Median income\")\n",
    "plt.ylabel(\"Cancer deaths per 100000 inh\")\n",
    "plt.show()"
   ]
  },
  {
   "cell_type": "markdown",
   "metadata": {},
   "source": [
    "In most counties median income is around 45000 dolars per year. Correlation plot suggests negative correlation between cancer deathrates and median income in a county. Data will be divided in four groups."
   ]
  },
  {
   "cell_type": "code",
   "execution_count": 37,
   "metadata": {},
   "outputs": [],
   "source": [
    "# categorizing\n",
    "median_categories = categorize(data,\"medincome\",\"target_deathrate\",[30000,45000,60000])"
   ]
  },
  {
   "cell_type": "code",
   "execution_count": 38,
   "metadata": {},
   "outputs": [
    {
     "name": "stdout",
     "output_type": "stream",
     "text": [
      "Mean death rate per 100000 inhabitants for median income category Under 30000 is 212.85443037974684\n",
      "Mean death rate per 100000 inhabitants for median income category Over 30000 is 187.8085211267604\n",
      "Mean death rate per 100000 inhabitants for median income category Over 45000 is 171.00266889074226\n",
      "Mean death rate per 100000 inhabitants for median income category Over 60000 is 160.0389684813754\n"
     ]
    }
   ],
   "source": [
    "for category in median_categories:\n",
    "    result = median_categories[category].mean()\n",
    "    print(f\"Mean death rate per 100000 inhabitants for median income category {category} is {result}\")"
   ]
  },
  {
   "cell_type": "code",
   "execution_count": 39,
   "metadata": {},
   "outputs": [
    {
     "name": "stdout",
     "output_type": "stream",
     "text": [
      "Levene test result = LeveneResult(statistic=29.108532486075347, pvalue=1.4991277084380897e-18)\n",
      "----\n",
      "Unequal variances, performing kruskall wallis test\n",
      "\n",
      "KruskalResult(statistic=549.2121810851282, pvalue=1.029648361860257e-118)\n",
      "\n",
      "Differences between groups, performing post hoc ttests\n",
      "{('Over 30000', 'Over 45000'): 'Ttest_indResult(statistic=17.530585866457187, '\n",
      "                               'pvalue=3.936960609271896e-65) \\n',\n",
      " ('Over 30000', 'Over 60000'): 'Ttest_indResult(statistic=19.164911045135675, '\n",
      "                               'pvalue=2.76496712974301e-64) \\n',\n",
      " ('Over 30000', 'Under 30000'): 'Ttest_indResult(statistic=-5.427143179847457, '\n",
      "                                'pvalue=5.686248462189906e-07) \\n',\n",
      " ('Over 45000', 'Over 30000'): 'Ttest_indResult(statistic=-17.530585866457187, '\n",
      "                               'pvalue=3.936960609271896e-65) \\n',\n",
      " ('Over 45000', 'Over 60000'): 'Ttest_indResult(statistic=7.816385902564969, '\n",
      "                               'pvalue=2.9119785224988583e-14) \\n',\n",
      " ('Over 45000', 'Under 30000'): 'Ttest_indResult(statistic=-9.097021999229558, '\n",
      "                                'pvalue=5.117910891355528e-14) \\n',\n",
      " ('Over 60000', 'Over 30000'): 'Ttest_indResult(statistic=-19.164911045135675, '\n",
      "                               'pvalue=2.76496712974301e-64) \\n',\n",
      " ('Over 60000', 'Over 45000'): 'Ttest_indResult(statistic=-7.816385902564969, '\n",
      "                               'pvalue=2.9119785224988583e-14) \\n',\n",
      " ('Over 60000', 'Under 30000'): 'Ttest_indResult(statistic=-11.172769509212657, '\n",
      "                                'pvalue=1.059143349338298e-18) \\n',\n",
      " ('Under 30000', 'Over 30000'): 'Ttest_indResult(statistic=5.427143179847457, '\n",
      "                                'pvalue=5.686248462189906e-07) \\n',\n",
      " ('Under 30000', 'Over 45000'): 'Ttest_indResult(statistic=9.097021999229558, '\n",
      "                                'pvalue=5.117910891355528e-14) \\n',\n",
      " ('Under 30000', 'Over 60000'): 'Ttest_indResult(statistic=11.172769509212657, '\n",
      "                                'pvalue=1.059143349338298e-18) \\n'}\n"
     ]
    }
   ],
   "source": [
    "# statistical testing\n",
    "array1, array2,array3, array4 = median_categories.values()\n",
    "\n",
    "differences(median_categories,array1, array2,array3, array4)"
   ]
  },
  {
   "cell_type": "markdown",
   "metadata": {},
   "source": [
    "Cancer rates get significantly lower with the rise in median income. This is another confirmation of american inequalities. Again, incidence rates will be tested"
   ]
  },
  {
   "cell_type": "code",
   "execution_count": 43,
   "metadata": {},
   "outputs": [
    {
     "name": "stdout",
     "output_type": "stream",
     "text": [
      "Mean incidence rate per 100000 inhabitants for category Under 30000 is 459.7607594936708\n",
      "Mean incidence rate per 100000 inhabitants for category Over 30000 is 446.61135736753465\n",
      "Mean incidence rate per 100000 inhabitants for category Over 45000 is 449.81006644862373\n",
      "Mean incidence rate per 100000 inhabitants for category Over 60000 is 447.1142802830942\n"
     ]
    }
   ],
   "source": [
    "\n",
    "# mean incidence rates per income groups\n",
    "median_categories = categorize(data,\"medincome\",\"incidencerate\",[30000,45000,60000])\n",
    "for category in median_categories:\n",
    "    result = median_categories[category].mean()\n",
    "    print(f\"Mean incidence rate per 100000 inhabitants for category {category} is {result}\")"
   ]
  },
  {
   "cell_type": "code",
   "execution_count": 44,
   "metadata": {},
   "outputs": [
    {
     "name": "stdout",
     "output_type": "stream",
     "text": [
      "Levene test result = LeveneResult(statistic=17.6750878230925, pvalue=2.2562258649845606e-11)\n",
      "----\n",
      "Unequal variances, performing kruskall wallis test\n",
      "\n",
      "KruskalResult(statistic=4.518830060767567, pvalue=0.21061682606185259)\n",
      "\n",
      "No significant difference between groups\n"
     ]
    }
   ],
   "source": [
    "array1, array2,array3, array4 = median_categories.values()\n",
    "\n",
    "differences(median_categories,array1, array2,array3, array4)"
   ]
  },
  {
   "cell_type": "markdown",
   "metadata": {},
   "source": [
    "Interestingly, mean income in county does not directly affect cancer incidence rates. It would mean that what kills is not higher amount of cancer cases, but worse quality healthcare available to lower income citizens. Let's check case/death ratio\n"
   ]
  },
  {
   "cell_type": "code",
   "execution_count": 45,
   "metadata": {},
   "outputs": [
    {
     "name": "stdout",
     "output_type": "stream",
     "text": [
      "Mean ratio for category Under 30000 is 0.46296780659176084\n",
      "Mean ratio for category Over 30000 is 0.4205189098498566\n",
      "Mean ratio for category Over 45000 is 0.38016638942933434\n",
      "Mean ratio for category Over 60000 is 0.3579375017502133\n"
     ]
    }
   ],
   "source": [
    "# mean death/incident ratio\n",
    "median_categories = categorize(data,\"medincome\",[\"incidencerate\",\"target_deathrate\"],[30000,45000,60000])\n",
    "\n",
    "for category in median_categories:\n",
    "    result = median_categories[category].target_deathrate.mean() / median_categories[category].incidencerate.mean()\n",
    "    print(f\"Mean ratio for category {category} is {result}\")"
   ]
  },
  {
   "cell_type": "markdown",
   "metadata": {},
   "source": [
    "#### Statistical tests imply that there is a significant difference in cancer deathrates between counties with lower and hihger income and poverty percentage. Suprisingly, the incidence rate is not different between income groups. The real difference here is tied to healthcare access, as couties with lower median income have higher death/incident ratio. Further analysis will show how these numbers are tied to healthcare insurance provider"
   ]
  },
  {
   "cell_type": "markdown",
   "metadata": {},
   "source": [
    "## 1.3 Cancer incidence and deathrates by healthcare insurance provider"
   ]
  },
  {
   "cell_type": "code",
   "execution_count": 49,
   "metadata": {},
   "outputs": [],
   "source": [
    "healthcare_categories = categorize(data,\"medincome\",[\"target_deathrate\",\"pctprivatecoverage\", 'pctprivatecoveragealone', 'pctempprivcoverage',\n",
    "       'pctpubliccoverage', 'pctpubliccoveragealone',\"medincome\"],[30000,45000,60000])"
   ]
  },
  {
   "cell_type": "code",
   "execution_count": 55,
   "metadata": {},
   "outputs": [
    {
     "name": "stdout",
     "output_type": "stream",
     "text": [
      "Under 30000\n",
      "target_deathrate             212.854430\n",
      "pctprivatecoverage            42.678481\n",
      "pctprivatecoveragealone       30.028571\n",
      "pctempprivcoverage            26.089873\n",
      "pctpubliccoverage             50.231646\n",
      "pctpubliccoveragealone        32.568354\n",
      "medincome                  27583.772152\n",
      "dtype: float64\n",
      "Over 30000\n",
      "target_deathrate             187.808521\n",
      "pctprivatecoverage            58.235000\n",
      "pctprivatecoveragealone       42.172511\n",
      "pctempprivcoverage            35.770915\n",
      "pctpubliccoverage             40.698239\n",
      "pctpubliccoveragealone        22.561690\n",
      "medincome                  38746.709859\n",
      "dtype: float64\n",
      "Over 45000\n",
      "target_deathrate             171.002669\n",
      "pctprivatecoverage            69.549291\n",
      "pctprivatecoveragealone       53.070674\n",
      "pctempprivcoverage            44.922602\n",
      "pctpubliccoverage             33.272644\n",
      "pctpubliccoveragealone        16.519766\n",
      "medincome                  51093.156797\n",
      "dtype: float64\n",
      "Over 60000\n",
      "target_deathrate             160.038968\n",
      "pctprivatecoverage            76.316905\n",
      "pctprivatecoveragealone       62.398182\n",
      "pctempprivcoverage            53.888825\n",
      "pctpubliccoverage             25.238109\n",
      "pctpubliccoveragealone        12.053868\n",
      "medincome                  71466.128940\n",
      "dtype: float64\n"
     ]
    }
   ],
   "source": [
    "#mean percent of insured by provider per income categories\n",
    "for category in healthcare_categories:\n",
    "    print(category)\n",
    "    print(healthcare_categories[category].mean())"
   ]
  },
  {
   "cell_type": "code",
   "execution_count": 58,
   "metadata": {},
   "outputs": [],
   "source": [
    "# Focusing on data for low income counties\n",
    "low = healthcare_categories[\"Under 30000\"]\n"
   ]
  },
  {
   "cell_type": "code",
   "execution_count": 59,
   "metadata": {},
   "outputs": [
    {
     "data": {
      "image/png": "[encoded data removed]",
      "text/plain": [
       "<Figure size 432x288 with 1 Axes>"
      ]
     },
     "metadata": {
      "needs_background": "light"
     },
     "output_type": "display_data"
    },
    {
     "data": {
      "image/png": "[encoded data removed]",
      "text/plain": [
       "<Figure size 432x288 with 1 Axes>"
      ]
     },
     "metadata": {
      "needs_background": "light"
     },
     "output_type": "display_data"
    }
   ],
   "source": [
    "#histogram by percentage of insurance provider\n",
    "plt.hist(data.pctprivatecoverage)\n",
    "plt.title(\"Number of counties by pct of privately insured\")\n",
    "plt.xlabel(\"pct privately insured\")\n",
    "plt.ylabel(\"number of counties\")\n",
    "plt.show()\n",
    "plt.hist(data.pctpubliccoverage)\n",
    "plt.title(\"Number of counties by pct of publicly insured\")\n",
    "plt.xlabel(\"pct publicly insured\")\n",
    "plt.ylabel(\"number of counties\")\n",
    "plt.show()"
   ]
  },
  {
   "cell_type": "markdown",
   "metadata": {},
   "source": [
    "Distributions are close to normal."
   ]
  },
  {
   "cell_type": "code",
   "execution_count": 12,
   "metadata": {},
   "outputs": [
    {
     "ename": "NameError",
     "evalue": "name 'low' is not defined",
     "output_type": "error",
     "traceback": [
      "\u001b[1;31m---------------------------------------------------------------------------\u001b[0m",
      "\u001b[1;31mNameError\u001b[0m                                 Traceback (most recent call last)",
      "\u001b[1;32m<ipython-input-12-8203d13bf836>\u001b[0m in \u001b[0;36m<module>\u001b[1;34m\u001b[0m\n\u001b[0;32m      1\u001b[0m \u001b[1;31m# percentage of privately insured by income\u001b[0m\u001b[1;33m\u001b[0m\u001b[1;33m\u001b[0m\u001b[1;33m\u001b[0m\u001b[0m\n\u001b[1;32m----> 2\u001b[1;33m \u001b[0mplt\u001b[0m\u001b[1;33m.\u001b[0m\u001b[0mscatter\u001b[0m\u001b[1;33m(\u001b[0m\u001b[0mlow\u001b[0m\u001b[1;33m.\u001b[0m\u001b[0mmedincome\u001b[0m\u001b[1;33m,\u001b[0m\u001b[0mlow\u001b[0m\u001b[1;33m.\u001b[0m\u001b[0mpctprivatecoverage\u001b[0m\u001b[1;33m)\u001b[0m\u001b[1;33m\u001b[0m\u001b[1;33m\u001b[0m\u001b[0m\n\u001b[0m\u001b[0;32m      3\u001b[0m \u001b[0mplt\u001b[0m\u001b[1;33m.\u001b[0m\u001b[0mtitle\u001b[0m\u001b[1;33m(\u001b[0m\u001b[1;34m\"Pct of privately insured by median income in low income group\"\u001b[0m\u001b[1;33m)\u001b[0m\u001b[1;33m\u001b[0m\u001b[1;33m\u001b[0m\u001b[0m\n\u001b[0;32m      4\u001b[0m \u001b[0mplt\u001b[0m\u001b[1;33m.\u001b[0m\u001b[0mxlabel\u001b[0m\u001b[1;33m(\u001b[0m\u001b[1;34m\"Med income\"\u001b[0m\u001b[1;33m)\u001b[0m\u001b[1;33m\u001b[0m\u001b[1;33m\u001b[0m\u001b[0m\n\u001b[0;32m      5\u001b[0m \u001b[0mplt\u001b[0m\u001b[1;33m.\u001b[0m\u001b[0mylabel\u001b[0m\u001b[1;33m(\u001b[0m\u001b[1;34m\"Pct of privately insured\"\u001b[0m\u001b[1;33m)\u001b[0m\u001b[1;33m\u001b[0m\u001b[1;33m\u001b[0m\u001b[0m\n",
      "\u001b[1;31mNameError\u001b[0m: name 'low' is not defined"
     ]
    }
   ],
   "source": [
    "# percentage of privately insured by income\n",
    "plt.scatter(low.medincome,low.pctprivatecoverage)\n",
    "plt.title(\"Pct of privately insured by median income in low income group\")\n",
    "plt.xlabel(\"Med income\")\n",
    "plt.ylabel(\"Pct of privately insured\")\n",
    "plt.show()\n",
    "plt.scatter(data.medincome,data.pctprivatecoverage)\n",
    "plt.title(\"Pct of privately insured by median income in all income group\")\n",
    "plt.xlabel(\"Med income\")\n",
    "plt.ylabel(\"Pct of privately insured\")\n",
    "plt.show()\n"
   ]
  },
  {
   "cell_type": "code",
   "execution_count": 13,
   "metadata": {},
   "outputs": [
    {
     "data": {
      "image/png": "[encoded data removed]",
      "text/plain": [
       "<Figure size 432x288 with 1 Axes>"
      ]
     },
     "metadata": {
      "needs_background": "light"
     },
     "output_type": "display_data"
    }
   ],
   "source": [
    "# percentage of publicly insured by income\n",
    "\n",
    "plt.scatter(data.medincome,data.pctpubliccoverage)\n",
    "plt.title(\"Pct of publicly insured by median income in all income group\")\n",
    "plt.xlabel(\"Med income\")\n",
    "plt.ylabel(\"Pct of publicly insured\")\n",
    "plt.show()"
   ]
  },
  {
   "cell_type": "markdown",
   "metadata": {},
   "source": [
    "Percentage of privately and publicly insured is heavily correlated with median income, something worth remembering when comparing cancer deathrates by healthcare provider"
   ]
  },
  {
   "cell_type": "code",
   "execution_count": 14,
   "metadata": {},
   "outputs": [
    {
     "data": {
      "image/png": "[encoded data removed]",
      "text/plain": [
       "<Figure size 432x288 with 1 Axes>"
      ]
     },
     "metadata": {
      "needs_background": "light"
     },
     "output_type": "display_data"
    },
    {
     "data": {
      "image/png": "[encoded data removed]",
      "text/plain": [
       "<Figure size 432x288 with 1 Axes>"
      ]
     },
     "metadata": {
      "needs_background": "light"
     },
     "output_type": "display_data"
    }
   ],
   "source": [
    "# cancer deathrate by number of publicly and privately insured\n",
    "plt.scatter(data.pctpubliccoverage,data.target_deathrate)\n",
    "plt.title(\"Deathrate by percentage of publicly insured\")\n",
    "plt.xlabel(\"Pct of publicly insured\")\n",
    "plt.ylabel(\"Deathrate\")\n",
    "plt.show()\n",
    "plt.scatter(data.pctprivatecoverage,data.target_deathrate)\n",
    "plt.title(\"Deathrate by percentage of privately insured\")\n",
    "plt.xlabel(\"Pct of privately insured\")\n",
    "plt.ylabel(\"Deathrate\")\n",
    "plt.show()"
   ]
  },
  {
   "cell_type": "markdown",
   "metadata": {},
   "source": [
    "There seems to be clearly visible correlation between pct of privately and publicly insured and cancer deathrate. Let's run a tt\n",
    "est between low and high percentage of privately and publicly insured to make sure that the effect is statisticly important"
   ]
  },
  {
   "cell_type": "code",
   "execution_count": 63,
   "metadata": {},
   "outputs": [
    {
     "data": {
      "text/plain": [
       "Ttest_indResult(statistic=-11.915712259754685, pvalue=1.260071102590432e-28)"
      ]
     },
     "execution_count": 63,
     "metadata": {},
     "output_type": "execute_result"
    }
   ],
   "source": [
    "#ttest\n",
    "stats.ttest_ind(data[data.pctpubliccoverage < 20].target_deathrate,data[data.pctpubliccoverage > 45].target_deathrate)"
   ]
  },
  {
   "cell_type": "markdown",
   "metadata": {},
   "source": [
    "There is clear difference between pct of publicly insured and death rate. Now let's look how public insurance is tied to quality of healthcare provided, as incidence/death rate."
   ]
  },
  {
   "cell_type": "markdown",
   "metadata": {},
   "source": [
    "These numbers can be seen as a proof of the fact that public isurance provides lower quality healthcare, thus private insurance is better than public. These conclusions are premature. We must take into account, that higher percentage of publicly insured is very much tied to median income in county. In USA public insurance is not universal but rather a for of federal help to poorer citizens. These numbers are very similar to the numbers seen in comparing incidence/death ratio between median income groups. People insured publicly certainly dont have additional money they could spend on higher quality treatments and this explanation seems more probable. Further analysis of concrete cases, not on the level of county could prove useful in drawing more detailed conclusions"
   ]
  },
  {
   "cell_type": "markdown",
   "metadata": {},
   "source": [
    "### Analyses conducted above show many inequalities in access to healthcare and in possibility of getting cancer between groups in united states. Black citizens are more likely to get cancer and to die from int than the rest of population. We can also see difference in acces to quality healthcare between richer and poorer counties and between privately and publicly insured. This data is a valuable resource to anyone willing to tackle these inequalities"
   ]
  },
  {
   "cell_type": "markdown",
   "metadata": {},
   "source": [
    "# Prediction"
   ]
  },
  {
   "cell_type": "markdown",
   "metadata": {},
   "source": [
    "### Creation and evaluation of models"
   ]
  },
  {
   "cell_type": "code",
   "execution_count": 64,
   "metadata": {},
   "outputs": [
    {
     "data": {
      "text/plain": [
       "avganncount                   0\n",
       "avgdeathsperyear              0\n",
       "target_deathrate              0\n",
       "incidencerate                 0\n",
       "medincome                     0\n",
       "popest2015                    0\n",
       "povertypercent                0\n",
       "studypercap                   0\n",
       "binnedinc                     0\n",
       "medianage                     0\n",
       "medianagemale                 0\n",
       "medianagefemale               0\n",
       "geography                     0\n",
       "avghouseholdsize              0\n",
       "percentmarried                0\n",
       "pctnohs18_24                  0\n",
       "pcths18_24                    0\n",
       "pctsomecol18_24            2285\n",
       "pctbachdeg18_24               0\n",
       "pcths25_over                  0\n",
       "pctbachdeg25_over             0\n",
       "pctemployed16_over          152\n",
       "pctunemployed16_over          0\n",
       "pctprivatecoverage            0\n",
       "pctprivatecoveragealone     609\n",
       "pctempprivcoverage            0\n",
       "pctpubliccoverage             0\n",
       "pctpubliccoveragealone        0\n",
       "pctwhite                      0\n",
       "pctblack                      0\n",
       "pctasian                      0\n",
       "pctotherrace                  0\n",
       "pctmarriedhouseholds          0\n",
       "birthrate                     0\n",
       "dtype: int64"
      ]
     },
     "execution_count": 64,
     "metadata": {},
     "output_type": "execute_result"
    }
   ],
   "source": [
    "data.isna().sum()\n"
   ]
  },
  {
   "cell_type": "code",
   "execution_count": 65,
   "metadata": {},
   "outputs": [],
   "source": [
    "#removing columns with lots of nans, binnedinc as it carries the same info as medincome, and geography as it's not relevant to our analisys\n",
    "data_removed = data.drop([\"pctsomecol18_24\",\"pctprivatecoveragealone\",\"binnedinc\",\"geography\"],axis=1)\n",
    "\n",
    "X = data_removed.iloc[:,3:]\n",
    "y = data_removed.target_deathrate\n",
    "\n",
    "\n",
    "\n",
    "X_train, X_test, y_train, y_test = train_test_split(X,y,test_size=0.2)"
   ]
  },
  {
   "cell_type": "markdown",
   "metadata": {},
   "source": [
    "##### handling missing data"
   ]
  },
  {
   "cell_type": "code",
   "execution_count": 66,
   "metadata": {},
   "outputs": [
    {
     "data": {
      "image/png": "[encoded data removed]",
      "text/plain": [
       "<Figure size 432x288 with 1 Axes>"
      ]
     },
     "metadata": {
      "needs_background": "light"
     },
     "output_type": "display_data"
    },
    {
     "name": "stdout",
     "output_type": "stream",
     "text": [
      "Mean of columns is: 54.15264248704645, median: 54.5\n"
     ]
    }
   ],
   "source": [
    "# filling missing data for pctemployed16_over\n",
    "\n",
    "# checking the distribution\n",
    "plt.hist(data[\"pctemployed16_over\"])\n",
    "plt.title(\"Histogram for percentage of employed citizens over 16\")\n",
    "plt.xlabel(\"Pct. employed\")\n",
    "plt.ylabel(\"Nr of counties\")\n",
    "plt.show()\n",
    "\n",
    "print(f\"Mean of columns is: {data.pctemployed16_over.mean()}, median: {data.pctemployed16_over.median()}\")\n"
   ]
  },
  {
   "cell_type": "markdown",
   "metadata": {},
   "source": [
    "We will try to fill missing values by predicting them based on other features. R2 score threshold for useful prediction is set to 0.6"
   ]
  },
  {
   "cell_type": "code",
   "execution_count": 67,
   "metadata": {},
   "outputs": [
    {
     "name": "stderr",
     "output_type": "stream",
     "text": [
      "C:\\Users\\szklarnia\\anaconda3\\lib\\site-packages\\pandas\\core\\series.py:4433: SettingWithCopyWarning: \n",
      "A value is trying to be set on a copy of a slice from a DataFrame\n",
      "\n",
      "See the caveats in the documentation: https://pandas.pydata.org/pandas-docs/stable/user_guide/indexing.html#returning-a-view-versus-a-copy\n",
      "  return super().fillna(\n",
      "C:\\Users\\szklarnia\\anaconda3\\lib\\site-packages\\pandas\\core\\series.py:4433: SettingWithCopyWarning: \n",
      "A value is trying to be set on a copy of a slice from a DataFrame\n",
      "\n",
      "See the caveats in the documentation: https://pandas.pydata.org/pandas-docs/stable/user_guide/indexing.html#returning-a-view-versus-a-copy\n",
      "  return super().fillna(\n"
     ]
    }
   ],
   "source": [
    "X_train = fill_missing(X_train,\"pctemployed16_over\")\n",
    "X_test = fill_missing(X_test,\"pctemployed16_over\")"
   ]
  },
  {
   "cell_type": "markdown",
   "metadata": {},
   "source": [
    "Creating pipelines in order: polynomial features, scaling, feature selection and predicting algorythm.\n",
    "\n",
    "Feature selection based on linear regression model with l1 penalty, as it zeroes coeficients for features that have no effect on prediction. Other regularization algorytms don't eliminate features, so passing only relevant data should help with better results"
   ]
  },
  {
   "cell_type": "code",
   "execution_count": 71,
   "metadata": {},
   "outputs": [],
   "source": [
    "# creating pipelines and param grids\n",
    "import sklearn.linear_model\n",
    "\n",
    "pipelines =[make_pipeline(PolynomialFeatures(),StandardScaler(),RFECV(Lasso(),cv=3),Ridge()),\n",
    "            make_pipeline(PolynomialFeatures(),MinMaxScaler(),RFECV(Lasso(),cv=3),Ridge()),\n",
    "            make_pipeline(PolynomialFeatures(),StandardScaler(),RFECV(Lasso(),cv=3),Lasso()),\n",
    "            make_pipeline(PolynomialFeatures(),MinMaxScaler(),RFECV(Lasso(),cv=3),Lasso()),\n",
    "            make_pipeline(PolynomialFeatures(),StandardScaler(),RFECV(Lasso(),cv=3),ElasticNet()),\n",
    "            make_pipeline(PolynomialFeatures(),MinMaxScaler(),RFECV(Lasso(),cv=3),ElasticNet())]\n",
    "\n",
    "param_grids = [{\"polynomialfeatures__degree\":[1,2],\"ridge__alpha\":[0.0001,0.001,0.01,0.1,1,10,100]},\n",
    "              {\"polynomialfeatures__degree\":[1,2],\"ridge__alpha\":[0.0001,0.001,0.01,0.1,1,10,100]},\n",
    "              {\"polynomialfeatures__degree\":[1,2],\"lasso__alpha\":[0.0001,0.001,0.01,0.1,1,10,100]},\n",
    "              {\"polynomialfeatures__degree\":[1,2],\"lasso__alpha\":[0.0001,0.001,0.01,0.1,1,10,100]},\n",
    "              {\"polynomialfeatures__degree\":[1,2],\"elasticnet__alpha\":[0.0001,0.001,0.01,0.1,1,10,100],\"elasticnet__l1_ratio\":[0.1,0.3,0.5,0.7,0.9]},\n",
    "              {\"polynomialfeatures__degree\":[1,2],\"elasticnet__alpha\":[0.0001,0.001,0.01,0.1,1,10,100],\"elasticnet__l1_ratio\":[0.1,0.3,0.5,0.7,0.9]}]"
   ]
  },
  {
   "cell_type": "code",
   "execution_count": null,
   "metadata": {
    "scrolled": true
   },
   "outputs": [
    {
     "name": "stdout",
     "output_type": "stream",
     "text": [
      "Fitting 5 folds for each of 14 candidates, totalling 70 fits\n"
     ]
    },
    {
     "name": "stderr",
     "output_type": "stream",
     "text": [
      "[Parallel(n_jobs=3)]: Using backend LokyBackend with 3 concurrent workers.\n",
      "[Parallel(n_jobs=3)]: Done  44 tasks      | elapsed:  2.4min\n",
      "[Parallel(n_jobs=3)]: Done  70 out of  70 | elapsed:  8.7min finished\n"
     ]
    },
    {
     "name": "stdout",
     "output_type": "stream",
     "text": [
      "Fitting 5 folds for each of 14 candidates, totalling 70 fits\n"
     ]
    },
    {
     "name": "stderr",
     "output_type": "stream",
     "text": [
      "[Parallel(n_jobs=3)]: Using backend LokyBackend with 3 concurrent workers.\n",
      "[Parallel(n_jobs=3)]: Done  65 tasks      | elapsed:  3.6min\n",
      "[Parallel(n_jobs=3)]: Done  70 out of  70 | elapsed:  4.3min finished\n"
     ]
    },
    {
     "name": "stdout",
     "output_type": "stream",
     "text": [
      "Fitting 5 folds for each of 14 candidates, totalling 70 fits\n"
     ]
    },
    {
     "name": "stderr",
     "output_type": "stream",
     "text": [
      "[Parallel(n_jobs=3)]: Using backend LokyBackend with 3 concurrent workers.\n",
      "[Parallel(n_jobs=3)]: Done  50 tasks      | elapsed:  5.9min\n",
      "[Parallel(n_jobs=3)]: Done  70 out of  70 | elapsed:  8.7min finished\n"
     ]
    },
    {
     "name": "stdout",
     "output_type": "stream",
     "text": [
      "Fitting 5 folds for each of 14 candidates, totalling 70 fits\n"
     ]
    },
    {
     "name": "stderr",
     "output_type": "stream",
     "text": [
      "[Parallel(n_jobs=3)]: Using backend LokyBackend with 3 concurrent workers.\n",
      "[Parallel(n_jobs=3)]: Done  50 tasks      | elapsed:  2.9min\n",
      "[Parallel(n_jobs=3)]: Done  70 out of  70 | elapsed:  4.3min finished\n"
     ]
    },
    {
     "name": "stdout",
     "output_type": "stream",
     "text": [
      "Fitting 5 folds for each of 70 candidates, totalling 350 fits\n"
     ]
    },
    {
     "name": "stderr",
     "output_type": "stream",
     "text": [
      "[Parallel(n_jobs=3)]: Using backend LokyBackend with 3 concurrent workers.\n",
      "[Parallel(n_jobs=3)]: Done  50 tasks      | elapsed:  5.8min\n",
      "[Parallel(n_jobs=3)]: Done 200 tasks      | elapsed: 23.2min\n",
      "[Parallel(n_jobs=3)]: Done 350 out of 350 | elapsed: 41.5min finished\n"
     ]
    },
    {
     "name": "stdout",
     "output_type": "stream",
     "text": [
      "Fitting 5 folds for each of 70 candidates, totalling 350 fits\n"
     ]
    },
    {
     "name": "stderr",
     "output_type": "stream",
     "text": [
      "[Parallel(n_jobs=3)]: Using backend LokyBackend with 3 concurrent workers.\n",
      "[Parallel(n_jobs=3)]: Done  50 tasks      | elapsed:  3.0min\n",
      "[Parallel(n_jobs=3)]: Done 200 tasks      | elapsed: 12.6min\n"
     ]
    }
   ],
   "source": [
    "# Evaluation of models using GridSearchCV\n",
    "\n",
    "best_model_singular = find_best_algorytm(X_train,X_test,y_train,y_test,pipelines,param_grids)\n"
   ]
  },
  {
   "cell_type": "markdown",
   "metadata": {},
   "source": [
    "Now we will try random forest regressor\n",
    "\n",
    "Random forest is trained independently to see which method - bagging or single is more efficient\n",
    "For random forest we don't perform feature selection, as tree's have their own way of reducing number of features"
   ]
  },
  {
   "cell_type": "code",
   "execution_count": 6,
   "metadata": {},
   "outputs": [],
   "source": [
    "rf_pipeline = pipeline.Pipeline([(\"scaler\",StandardScaler()),\n",
    "                      (\"forest\",RandomForestRegressor())])\n",
    "rf_params = {\"forest__n_estimators\":[100,200],\n",
    "             \"forest__criterion\":[\"mse\",\"mae\"],\n",
    "             \"forest__max_depth\":[None,5,10,20],\n",
    "            \"forest__min_samples_split\":[2,4,6,8],\n",
    "            \"forest__min_samples_leaf\":[1,2,3,4]}"
   ]
  },
  {
   "cell_type": "code",
   "execution_count": 7,
   "metadata": {
    "scrolled": false
   },
   "outputs": [
    {
     "name": "stdout",
     "output_type": "stream",
     "text": [
      "Fitting 5 folds for each of 256 candidates, totalling 1280 fits\n"
     ]
    },
    {
     "name": "stderr",
     "output_type": "stream",
     "text": [
      "[Parallel(n_jobs=2)]: Using backend LokyBackend with 2 concurrent workers.\n",
      "[Parallel(n_jobs=2)]: Done  28 tasks      | elapsed:   44.7s\n",
      "[Parallel(n_jobs=2)]: Done 124 tasks      | elapsed:  3.0min\n",
      "[Parallel(n_jobs=2)]: Done 284 tasks      | elapsed:  5.3min\n",
      "[Parallel(n_jobs=2)]: Done 508 tasks      | elapsed:  9.8min\n",
      "[Parallel(n_jobs=2)]: Done 796 tasks      | elapsed: 53.6min\n",
      "[Parallel(n_jobs=2)]: Done 1148 tasks      | elapsed: 133.1min\n",
      "[Parallel(n_jobs=2)]: Done 1280 out of 1280 | elapsed: 166.6min finished\n"
     ]
    },
    {
     "name": "stdout",
     "output_type": "stream",
     "text": [
      "Best model is {'forest__criterion': 'mse', 'forest__max_depth': None, 'forest__min_samples_leaf': 1, 'forest__min_samples_split': 2, 'forest__n_estimators': 200} with R2 score: 0.5117359962286792\n"
     ]
    }
   ],
   "source": [
    "\n",
    "best_model_forrest = find_best_algorytm(X_train,X_test,y_train,y_test,rf_pipelin,rf_params)\n"
   ]
  },
  {
   "cell_type": "markdown",
   "metadata": {},
   "source": [
    "Random forest did not achieve better score, however we can test the best model with higher polynomial and more estimators"
   ]
  },
  {
   "cell_type": "code",
   "execution_count": 11,
   "metadata": {},
   "outputs": [
    {
     "data": {
      "text/plain": [
       "0.5049255817961862"
      ]
     },
     "execution_count": 11,
     "metadata": {},
     "output_type": "execute_result"
    }
   ],
   "source": [
    "# fitting forest model with higher polynomial\n",
    "best_forest = make_pipeline(PolynomialFeatures(2),StandardScaler(),RandomForestRegressor(criterion=\"mse\",\n",
    "                                                                                     max_depth = None,\n",
    "                                                                                     min_samples_leaf=2,\n",
    "                                                                                     n_estimators=200,\n",
    "                                                                                     min_samples_split=2))\n",
    "best_forest.fit(X_train,y_train)\n",
    "best_forest.score(X_test,y_test)"
   ]
  },
  {
   "cell_type": "code",
   "execution_count": 14,
   "metadata": {},
   "outputs": [
    {
     "data": {
      "text/plain": [
       "0.5191565170343635"
      ]
     },
     "execution_count": 14,
     "metadata": {},
     "output_type": "execute_result"
    }
   ],
   "source": [
    "# fitting forest model with more estimators\n",
    "best_forest = make_pipeline(StandardScaler(),RandomForestRegressor(criterion=\"mse\",\n",
    "                                                                                     max_depth = None,\n",
    "                                                                                     min_samples_leaf=2,\n",
    "                                                                                     n_estimators=1000,\n",
    "                                                                                     min_samples_split=2))\n",
    "best_forest.fit(X_train,y_train)\n",
    "best_forest.score(X_test,y_test)"
   ]
  },
  {
   "cell_type": "code",
   "execution_count": 16,
   "metadata": {},
   "outputs": [
    {
     "data": {
      "text/plain": [
       "Pipeline(steps=[('polynomialfeatures', PolynomialFeatures()),\n",
       "                ('standardscaler', StandardScaler()),\n",
       "                ('rfecv', RFECV(cv=3, estimator=Lasso())),\n",
       "                ('lasso', Lasso(alpha=0.001))])"
      ]
     },
     "execution_count": 16,
     "metadata": {},
     "output_type": "execute_result"
    }
   ],
   "source": [
    "# fitting best model on whole dataset\n",
    "best_one = make_pipeline(PolynomialFeatures(2),StandardScaler(),RFECV(linear_model.Lasso(),cv=3),linear_model.Lasso(alpha=.001))\n",
    "best_one.fit(X,y)"
   ]
  },
  {
   "cell_type": "code",
   "execution_count": 19,
   "metadata": {},
   "outputs": [],
   "source": [
    "# saving best model\n",
    "filename = 'Cancer_rates_prediction.sav'\n",
    "pickle.dump(best_one,open(filename, 'wb'))"
   ]
  },
  {
   "cell_type": "code",
   "execution_count": 20,
   "metadata": {},
   "outputs": [
    {
     "data": {
      "image/png": "[encoded data removed]",
      "text/plain": [
       "<Figure size 432x288 with 1 Axes>"
      ]
     },
     "metadata": {
      "needs_background": "light"
     },
     "output_type": "display_data"
    },
    {
     "data": {
      "image/png": "[encoded data removed]",
      "text/plain": [
       "<Figure size 432x288 with 1 Axes>"
      ]
     },
     "metadata": {
      "needs_background": "light"
     },
     "output_type": "display_data"
    }
   ],
   "source": [
    "# plotting errors\n",
    "\n",
    "# prediction vs actual\n",
    "plt.scatter(y,best_one.predict(X),label=\"predicts\")\n",
    "plt.plot(y,y,label=\"y y reference\")\n",
    "plt.title(\"Predictions compared to actual y\")\n",
    "plt.xlabel(\"true y\")\n",
    "plt.ylabel(\"predicted y\")\n",
    "plt.show()\n",
    "\n",
    "# error for true y\n",
    "plt.scatter(y,best_one.predict(X)-y,label=\"predicts\")\n",
    "plt.plot(np.linspace(min(y),max(y)),np.zeros(50))\n",
    "plt.title(\"Prediction error by true y\")\n",
    "plt.xlabel(\"true y\")\n",
    "plt.ylabel(\"error\")\n",
    "plt.show()"
   ]
  },
  {
   "cell_type": "code",
   "execution_count": 21,
   "metadata": {},
   "outputs": [
    {
     "name": "stdout",
     "output_type": "stream",
     "text": [
      "Root mean squared error of model: 19.121632867904108\n",
      "Mean absolute error of model: 14.18786353758478\n",
      "Median absolute error of model: 10.54914233502413\n"
     ]
    }
   ],
   "source": [
    "# Metrics for the best model\n",
    "print(f\"Root mean squared error of model: {np.sqrt(metrics.mean_squared_error(y,best_one.predict(X)))}\")\n",
    "print(f\"Mean absolute error of model: {metrics.mean_absolute_error(y,best_one.predict(X))}\")\n",
    "print(f\"Median absolute error of model: {metrics.median_absolute_error(y,best_one.predict(X))}\")"
   ]
  },
  {
   "cell_type": "markdown",
   "metadata": {},
   "source": [
    "Best model is overpredicting for lower y values and underpredicting for higher ones. With that in mind you could use that model to find counties that will need more resources to fight cancer. Bear in mind that this model can be applied with some confidence only in US, as it's based on socioeconomical data that is unique to american society (for ex. pct of black population - it would be useless in black majority countries)"
   ]
  }
 ],
 "metadata": {
  "kernelspec": {
   "display_name": "Python 3",
   "language": "python",
   "name": "python3"
  },
  "language_info": {
   "codemirror_mode": {
    "name": "ipython",
    "version": 3
   },
   "file_extension": ".py",
   "mimetype": "text/x-python",
   "name": "python",
   "nbconvert_exporter": "python",
   "pygments_lexer": "ipython3",
   "version": "3.8.3"
  }
 },
 "nbformat": 4,
 "nbformat_minor": 4
}
